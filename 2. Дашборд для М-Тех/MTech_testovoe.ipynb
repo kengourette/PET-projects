{
  "nbformat": 4,
  "nbformat_minor": 0,
  "metadata": {
    "colab": {
      "provenance": []
    },
    "kernelspec": {
      "name": "python3",
      "display_name": "Python 3"
    },
    "language_info": {
      "name": "python"
    }
  },
  "cells": [
    {
      "cell_type": "markdown",
      "source": [
        "# Исследование для М.Тех"
      ],
      "metadata": {
        "id": "V7-M_xx6vB58"
      }
    },
    {
      "cell_type": "markdown",
      "source": [
        "Руководство компании обратило внимание на то, что сотрудники старше 35 лет болеют чаще, чем более молодые сотрудники. Кроме этого, среди мужчин количество пропусков рабочих дней в связи с больничным выше, чем среди женщин. В связи с этой ситуацией, руководство организации планирует ввести дополнительные медицинские осмотры среди групп риска.\n",
        "\n",
        "Необходимо проверить следующие гипотезы:\n",
        "\n",
        "1) Мужчины пропускают в течение года более 2 рабочих дней (work_days) по болезни значимо чаще женщин.\n",
        "\n",
        "2) Работники старше 35 лет (age) пропускают в течение года более 2 рабочих дней (work_days) по болезни значимо чаще своих более молодых коллег."
      ],
      "metadata": {
        "id": "xVBUtqk1pO9O"
      }
    },
    {
      "cell_type": "markdown",
      "source": [
        "### 1. Импорт библиотек"
      ],
      "metadata": {
        "id": "U_KxubVRvPD7"
      }
    },
    {
      "cell_type": "code",
      "execution_count": 1,
      "metadata": {
        "id": "cwXgHEJ8FBis"
      },
      "outputs": [],
      "source": [
        "import pandas as pd\n",
        "import numpy as np\n",
        "import matplotlib.pyplot as plt\n",
        "import seaborn as sns\n",
        "import chardet\n",
        "from scipy import stats"
      ]
    },
    {
      "cell_type": "markdown",
      "source": [
        "### 2. Загрузка и предобработка данных"
      ],
      "metadata": {
        "id": "QKVPZ3ZgvVYq"
      }
    },
    {
      "cell_type": "markdown",
      "source": [
        "Датасет доступен по ссылке:\n",
        "https://drive.google.com/file/d/1Yoes_MPH99GseTKf1lHPVeO0capkFbFW/view?usp=sharing"
      ],
      "metadata": {
        "id": "_-rRFE_XFcuS"
      }
    },
    {
      "cell_type": "code",
      "source": [
        "# Подгружаем данные\n",
        "try:\n",
        "  # путь к папке с файлами субтитров\n",
        "  !gdown --id 1Yoes_MPH99GseTKf1lHPVeO0capkFbFW\n",
        "  display('Данные загруженны корректно')\n",
        "except:\n",
        "  display('Данные не доступны')"
      ],
      "metadata": {
        "colab": {
          "base_uri": "https://localhost:8080/",
          "height": 165
        },
        "id": "6L-7MUgmFJpZ",
        "outputId": "e2adc750-7e39-42d4-de40-8093cc54809f"
      },
      "execution_count": 2,
      "outputs": [
        {
          "output_type": "stream",
          "name": "stdout",
          "text": [
            "/usr/local/lib/python3.10/dist-packages/gdown/cli.py:121: FutureWarning: Option `--id` was deprecated in version 4.3.1 and will be removed in 5.0. You don't need to pass it anymore to use a file ID.\n",
            "  warnings.warn(\n",
            "Downloading...\n",
            "From: https://drive.google.com/uc?id=1Yoes_MPH99GseTKf1lHPVeO0capkFbFW\n",
            "To: /content/data.csv\n",
            "100% 3.37k/3.37k [00:00<00:00, 9.07MB/s]\n"
          ]
        },
        {
          "output_type": "display_data",
          "data": {
            "text/plain": [
              "'Данные загруженны корректно'"
            ],
            "application/vnd.google.colaboratory.intrinsic+json": {
              "type": "string"
            }
          },
          "metadata": {}
        }
      ]
    },
    {
      "cell_type": "code",
      "source": [
        "# Чтение файла с подбором нужной кодировки\n",
        "with open('/content/data.csv', 'rb') as file:\n",
        "    result = chardet.detect(file.read())\n",
        "\n",
        "df = pd.read_csv('/content/data.csv', encoding=result['encoding'],header=0, sep='\\,', dtype='str')"
      ],
      "metadata": {
        "colab": {
          "base_uri": "https://localhost:8080/"
        },
        "id": "4oMmVB9NBWzr",
        "outputId": "7c75e969-69ee-40a3-f179-baeeed20b9f5"
      },
      "execution_count": 3,
      "outputs": [
        {
          "output_type": "stream",
          "name": "stderr",
          "text": [
            "<ipython-input-3-e41f64d93a2e>:5: ParserWarning: Falling back to the 'python' engine because the 'c' engine does not support regex separators (separators > 1 char and different from '\\s+' are interpreted as regex); you can avoid this warning by specifying engine='python'.\n",
            "  df = pd.read_csv('/content/data.csv', encoding=result['encoding'],header=0, sep='\\,', dtype='str')\n"
          ]
        }
      ]
    },
    {
      "cell_type": "code",
      "source": [
        "# Получим первичную информацию о данных, проверим на наличие пропусков и дубликатов\n",
        "def data_checkup(data):\n",
        "    display(data.head(2))\n",
        "    print()\n",
        "    data.info()\n",
        "    print()\n",
        "    print('Количество явных дубликатов в датасете:', data.duplicated().sum())\n",
        "    print()\n",
        "    print('Столбцы с пропусками:')\n",
        "    print()\n",
        "    for column in data.columns:\n",
        "        if data[column].isna().sum() > 0:\n",
        "            print('Количество пропусков в столбце:', column,' - ', data[column].isna().sum(),\n",
        "                  'Доля пропусков:', round((data[column].isna().sum()/len(data)),2))"
      ],
      "metadata": {
        "id": "lspSkG_fPOwB"
      },
      "execution_count": 4,
      "outputs": []
    },
    {
      "cell_type": "code",
      "source": [
        "data_checkup(df)"
      ],
      "metadata": {
        "colab": {
          "base_uri": "https://localhost:8080/",
          "height": 404
        },
        "id": "yc-ai5RTFrjx",
        "outputId": "29ed4be1-3d49-4190-aba6-37f16cf57abc"
      },
      "execution_count": 5,
      "outputs": [
        {
          "output_type": "display_data",
          "data": {
            "text/plain": [
              "  \"Количество больничных дней \"\"Возраст\"\" \"\"Пол\"\"\"\n",
              "0                          \"5          39   \"\"Ж\"\"\"\n",
              "1                          \"4          54   \"\"М\"\"\""
            ],
            "text/html": [
              "\n",
              "  <div id=\"df-5b0ea887-2c0e-4abd-bf06-7d49b40791b9\" class=\"colab-df-container\">\n",
              "    <div>\n",
              "<style scoped>\n",
              "    .dataframe tbody tr th:only-of-type {\n",
              "        vertical-align: middle;\n",
              "    }\n",
              "\n",
              "    .dataframe tbody tr th {\n",
              "        vertical-align: top;\n",
              "    }\n",
              "\n",
              "    .dataframe thead th {\n",
              "        text-align: right;\n",
              "    }\n",
              "</style>\n",
              "<table border=\"1\" class=\"dataframe\">\n",
              "  <thead>\n",
              "    <tr style=\"text-align: right;\">\n",
              "      <th></th>\n",
              "      <th>\"Количество больничных дней</th>\n",
              "      <th>\"\"Возраст\"\"</th>\n",
              "      <th>\"\"Пол\"\"\"</th>\n",
              "    </tr>\n",
              "  </thead>\n",
              "  <tbody>\n",
              "    <tr>\n",
              "      <th>0</th>\n",
              "      <td>\"5</td>\n",
              "      <td>39</td>\n",
              "      <td>\"\"Ж\"\"\"</td>\n",
              "    </tr>\n",
              "    <tr>\n",
              "      <th>1</th>\n",
              "      <td>\"4</td>\n",
              "      <td>54</td>\n",
              "      <td>\"\"М\"\"\"</td>\n",
              "    </tr>\n",
              "  </tbody>\n",
              "</table>\n",
              "</div>\n",
              "    <div class=\"colab-df-buttons\">\n",
              "\n",
              "  <div class=\"colab-df-container\">\n",
              "    <button class=\"colab-df-convert\" onclick=\"convertToInteractive('df-5b0ea887-2c0e-4abd-bf06-7d49b40791b9')\"\n",
              "            title=\"Convert this dataframe to an interactive table.\"\n",
              "            style=\"display:none;\">\n",
              "\n",
              "  <svg xmlns=\"http://www.w3.org/2000/svg\" height=\"24px\" viewBox=\"0 -960 960 960\">\n",
              "    <path d=\"M120-120v-720h720v720H120Zm60-500h600v-160H180v160Zm220 220h160v-160H400v160Zm0 220h160v-160H400v160ZM180-400h160v-160H180v160Zm440 0h160v-160H620v160ZM180-180h160v-160H180v160Zm440 0h160v-160H620v160Z\"/>\n",
              "  </svg>\n",
              "    </button>\n",
              "\n",
              "  <style>\n",
              "    .colab-df-container {\n",
              "      display:flex;\n",
              "      gap: 12px;\n",
              "    }\n",
              "\n",
              "    .colab-df-convert {\n",
              "      background-color: #E8F0FE;\n",
              "      border: none;\n",
              "      border-radius: 50%;\n",
              "      cursor: pointer;\n",
              "      display: none;\n",
              "      fill: #1967D2;\n",
              "      height: 32px;\n",
              "      padding: 0 0 0 0;\n",
              "      width: 32px;\n",
              "    }\n",
              "\n",
              "    .colab-df-convert:hover {\n",
              "      background-color: #E2EBFA;\n",
              "      box-shadow: 0px 1px 2px rgba(60, 64, 67, 0.3), 0px 1px 3px 1px rgba(60, 64, 67, 0.15);\n",
              "      fill: #174EA6;\n",
              "    }\n",
              "\n",
              "    .colab-df-buttons div {\n",
              "      margin-bottom: 4px;\n",
              "    }\n",
              "\n",
              "    [theme=dark] .colab-df-convert {\n",
              "      background-color: #3B4455;\n",
              "      fill: #D2E3FC;\n",
              "    }\n",
              "\n",
              "    [theme=dark] .colab-df-convert:hover {\n",
              "      background-color: #434B5C;\n",
              "      box-shadow: 0px 1px 3px 1px rgba(0, 0, 0, 0.15);\n",
              "      filter: drop-shadow(0px 1px 2px rgba(0, 0, 0, 0.3));\n",
              "      fill: #FFFFFF;\n",
              "    }\n",
              "  </style>\n",
              "\n",
              "    <script>\n",
              "      const buttonEl =\n",
              "        document.querySelector('#df-5b0ea887-2c0e-4abd-bf06-7d49b40791b9 button.colab-df-convert');\n",
              "      buttonEl.style.display =\n",
              "        google.colab.kernel.accessAllowed ? 'block' : 'none';\n",
              "\n",
              "      async function convertToInteractive(key) {\n",
              "        const element = document.querySelector('#df-5b0ea887-2c0e-4abd-bf06-7d49b40791b9');\n",
              "        const dataTable =\n",
              "          await google.colab.kernel.invokeFunction('convertToInteractive',\n",
              "                                                    [key], {});\n",
              "        if (!dataTable) return;\n",
              "\n",
              "        const docLinkHtml = 'Like what you see? Visit the ' +\n",
              "          '<a target=\"_blank\" href=https://colab.research.google.com/notebooks/data_table.ipynb>data table notebook</a>'\n",
              "          + ' to learn more about interactive tables.';\n",
              "        element.innerHTML = '';\n",
              "        dataTable['output_type'] = 'display_data';\n",
              "        await google.colab.output.renderOutput(dataTable, element);\n",
              "        const docLink = document.createElement('div');\n",
              "        docLink.innerHTML = docLinkHtml;\n",
              "        element.appendChild(docLink);\n",
              "      }\n",
              "    </script>\n",
              "  </div>\n",
              "\n",
              "\n",
              "<div id=\"df-929f7ce4-7a93-40d6-a1ce-a9c55c9ca197\">\n",
              "  <button class=\"colab-df-quickchart\" onclick=\"quickchart('df-929f7ce4-7a93-40d6-a1ce-a9c55c9ca197')\"\n",
              "            title=\"Suggest charts\"\n",
              "            style=\"display:none;\">\n",
              "\n",
              "<svg xmlns=\"http://www.w3.org/2000/svg\" height=\"24px\"viewBox=\"0 0 24 24\"\n",
              "     width=\"24px\">\n",
              "    <g>\n",
              "        <path d=\"M19 3H5c-1.1 0-2 .9-2 2v14c0 1.1.9 2 2 2h14c1.1 0 2-.9 2-2V5c0-1.1-.9-2-2-2zM9 17H7v-7h2v7zm4 0h-2V7h2v10zm4 0h-2v-4h2v4z\"/>\n",
              "    </g>\n",
              "</svg>\n",
              "  </button>\n",
              "\n",
              "<style>\n",
              "  .colab-df-quickchart {\n",
              "      --bg-color: #E8F0FE;\n",
              "      --fill-color: #1967D2;\n",
              "      --hover-bg-color: #E2EBFA;\n",
              "      --hover-fill-color: #174EA6;\n",
              "      --disabled-fill-color: #AAA;\n",
              "      --disabled-bg-color: #DDD;\n",
              "  }\n",
              "\n",
              "  [theme=dark] .colab-df-quickchart {\n",
              "      --bg-color: #3B4455;\n",
              "      --fill-color: #D2E3FC;\n",
              "      --hover-bg-color: #434B5C;\n",
              "      --hover-fill-color: #FFFFFF;\n",
              "      --disabled-bg-color: #3B4455;\n",
              "      --disabled-fill-color: #666;\n",
              "  }\n",
              "\n",
              "  .colab-df-quickchart {\n",
              "    background-color: var(--bg-color);\n",
              "    border: none;\n",
              "    border-radius: 50%;\n",
              "    cursor: pointer;\n",
              "    display: none;\n",
              "    fill: var(--fill-color);\n",
              "    height: 32px;\n",
              "    padding: 0;\n",
              "    width: 32px;\n",
              "  }\n",
              "\n",
              "  .colab-df-quickchart:hover {\n",
              "    background-color: var(--hover-bg-color);\n",
              "    box-shadow: 0 1px 2px rgba(60, 64, 67, 0.3), 0 1px 3px 1px rgba(60, 64, 67, 0.15);\n",
              "    fill: var(--button-hover-fill-color);\n",
              "  }\n",
              "\n",
              "  .colab-df-quickchart-complete:disabled,\n",
              "  .colab-df-quickchart-complete:disabled:hover {\n",
              "    background-color: var(--disabled-bg-color);\n",
              "    fill: var(--disabled-fill-color);\n",
              "    box-shadow: none;\n",
              "  }\n",
              "\n",
              "  .colab-df-spinner {\n",
              "    border: 2px solid var(--fill-color);\n",
              "    border-color: transparent;\n",
              "    border-bottom-color: var(--fill-color);\n",
              "    animation:\n",
              "      spin 1s steps(1) infinite;\n",
              "  }\n",
              "\n",
              "  @keyframes spin {\n",
              "    0% {\n",
              "      border-color: transparent;\n",
              "      border-bottom-color: var(--fill-color);\n",
              "      border-left-color: var(--fill-color);\n",
              "    }\n",
              "    20% {\n",
              "      border-color: transparent;\n",
              "      border-left-color: var(--fill-color);\n",
              "      border-top-color: var(--fill-color);\n",
              "    }\n",
              "    30% {\n",
              "      border-color: transparent;\n",
              "      border-left-color: var(--fill-color);\n",
              "      border-top-color: var(--fill-color);\n",
              "      border-right-color: var(--fill-color);\n",
              "    }\n",
              "    40% {\n",
              "      border-color: transparent;\n",
              "      border-right-color: var(--fill-color);\n",
              "      border-top-color: var(--fill-color);\n",
              "    }\n",
              "    60% {\n",
              "      border-color: transparent;\n",
              "      border-right-color: var(--fill-color);\n",
              "    }\n",
              "    80% {\n",
              "      border-color: transparent;\n",
              "      border-right-color: var(--fill-color);\n",
              "      border-bottom-color: var(--fill-color);\n",
              "    }\n",
              "    90% {\n",
              "      border-color: transparent;\n",
              "      border-bottom-color: var(--fill-color);\n",
              "    }\n",
              "  }\n",
              "</style>\n",
              "\n",
              "  <script>\n",
              "    async function quickchart(key) {\n",
              "      const quickchartButtonEl =\n",
              "        document.querySelector('#' + key + ' button');\n",
              "      quickchartButtonEl.disabled = true;  // To prevent multiple clicks.\n",
              "      quickchartButtonEl.classList.add('colab-df-spinner');\n",
              "      try {\n",
              "        const charts = await google.colab.kernel.invokeFunction(\n",
              "            'suggestCharts', [key], {});\n",
              "      } catch (error) {\n",
              "        console.error('Error during call to suggestCharts:', error);\n",
              "      }\n",
              "      quickchartButtonEl.classList.remove('colab-df-spinner');\n",
              "      quickchartButtonEl.classList.add('colab-df-quickchart-complete');\n",
              "    }\n",
              "    (() => {\n",
              "      let quickchartButtonEl =\n",
              "        document.querySelector('#df-929f7ce4-7a93-40d6-a1ce-a9c55c9ca197 button');\n",
              "      quickchartButtonEl.style.display =\n",
              "        google.colab.kernel.accessAllowed ? 'block' : 'none';\n",
              "    })();\n",
              "  </script>\n",
              "</div>\n",
              "    </div>\n",
              "  </div>\n"
            ]
          },
          "metadata": {}
        },
        {
          "output_type": "stream",
          "name": "stdout",
          "text": [
            "\n",
            "<class 'pandas.core.frame.DataFrame'>\n",
            "RangeIndex: 237 entries, 0 to 236\n",
            "Data columns (total 3 columns):\n",
            " #   Column                       Non-Null Count  Dtype \n",
            "---  ------                       --------------  ----- \n",
            " 0   \"Количество больничных дней  237 non-null    object\n",
            " 1   \"\"Возраст\"\"                  237 non-null    object\n",
            " 2   \"\"Пол\"\"\"                     237 non-null    object\n",
            "dtypes: object(3)\n",
            "memory usage: 5.7+ KB\n",
            "\n",
            "Количество явных дубликатов в датасете: 72\n",
            "\n",
            "Столбцы с пропусками:\n",
            "\n"
          ]
        }
      ]
    },
    {
      "cell_type": "code",
      "source": [
        "# Очистим данные, удалим ненужные знаки\n",
        "\n",
        "# Переведем названия столбцов и уберем лишние символы\n",
        "#df.columns = ['Количество больничных дней',\t'Возраст', 'Пол']\n",
        "df.columns = ['work_days', 'age', 'sex']\n",
        "\n",
        "\n",
        "# Обработка численных столбцов\n",
        "num_cols = ['work_days', 'age']\n",
        "for col in num_cols:\n",
        "  # Заменить ненужные символы на пустую строку\n",
        "  df[col] = df[col].replace('[^0-9\\.]+', '', regex=True)\n",
        "  # Заменить пустые строки на NaN\n",
        "  df[col] = df[col].replace('', np.nan)\n",
        "  # Привести к типу int\n",
        "  df [col] = df[col].astype(int)\n",
        "\n",
        "\n",
        "# Обработка столбца 'Пол'\n",
        "# Заменить ненужные символы на пустую строку\n",
        "df['sex'] = df['sex'].replace('[^А-Яа-я\\,-,\\.,\\,]', '', regex=True)\n",
        "# Заменить пустые строки на NaN\n",
        "df['sex'] = df['sex'].replace('', np.nan)"
      ],
      "metadata": {
        "id": "RTjwGiU6cPB_"
      },
      "execution_count": 6,
      "outputs": []
    },
    {
      "cell_type": "code",
      "source": [
        "# Уберем кириллицу из столбца 'sex'\n",
        "df['sex'].replace({'М':'M', 'Ж':'F'}, inplace=True)"
      ],
      "metadata": {
        "id": "b9QAtQNRYI6D"
      },
      "execution_count": 7,
      "outputs": []
    },
    {
      "cell_type": "code",
      "source": [
        "data_checkup(df)"
      ],
      "metadata": {
        "colab": {
          "base_uri": "https://localhost:8080/",
          "height": 404
        },
        "id": "PGDcCJbAeEsz",
        "outputId": "e07b691f-bd02-47b1-81b5-e4b991a65a7d"
      },
      "execution_count": 8,
      "outputs": [
        {
          "output_type": "display_data",
          "data": {
            "text/plain": [
              "   work_days  age sex\n",
              "0          5   39   F\n",
              "1          4   54   M"
            ],
            "text/html": [
              "\n",
              "  <div id=\"df-7803c45a-33e6-4bb5-a384-e8be407a5a81\" class=\"colab-df-container\">\n",
              "    <div>\n",
              "<style scoped>\n",
              "    .dataframe tbody tr th:only-of-type {\n",
              "        vertical-align: middle;\n",
              "    }\n",
              "\n",
              "    .dataframe tbody tr th {\n",
              "        vertical-align: top;\n",
              "    }\n",
              "\n",
              "    .dataframe thead th {\n",
              "        text-align: right;\n",
              "    }\n",
              "</style>\n",
              "<table border=\"1\" class=\"dataframe\">\n",
              "  <thead>\n",
              "    <tr style=\"text-align: right;\">\n",
              "      <th></th>\n",
              "      <th>work_days</th>\n",
              "      <th>age</th>\n",
              "      <th>sex</th>\n",
              "    </tr>\n",
              "  </thead>\n",
              "  <tbody>\n",
              "    <tr>\n",
              "      <th>0</th>\n",
              "      <td>5</td>\n",
              "      <td>39</td>\n",
              "      <td>F</td>\n",
              "    </tr>\n",
              "    <tr>\n",
              "      <th>1</th>\n",
              "      <td>4</td>\n",
              "      <td>54</td>\n",
              "      <td>M</td>\n",
              "    </tr>\n",
              "  </tbody>\n",
              "</table>\n",
              "</div>\n",
              "    <div class=\"colab-df-buttons\">\n",
              "\n",
              "  <div class=\"colab-df-container\">\n",
              "    <button class=\"colab-df-convert\" onclick=\"convertToInteractive('df-7803c45a-33e6-4bb5-a384-e8be407a5a81')\"\n",
              "            title=\"Convert this dataframe to an interactive table.\"\n",
              "            style=\"display:none;\">\n",
              "\n",
              "  <svg xmlns=\"http://www.w3.org/2000/svg\" height=\"24px\" viewBox=\"0 -960 960 960\">\n",
              "    <path d=\"M120-120v-720h720v720H120Zm60-500h600v-160H180v160Zm220 220h160v-160H400v160Zm0 220h160v-160H400v160ZM180-400h160v-160H180v160Zm440 0h160v-160H620v160ZM180-180h160v-160H180v160Zm440 0h160v-160H620v160Z\"/>\n",
              "  </svg>\n",
              "    </button>\n",
              "\n",
              "  <style>\n",
              "    .colab-df-container {\n",
              "      display:flex;\n",
              "      gap: 12px;\n",
              "    }\n",
              "\n",
              "    .colab-df-convert {\n",
              "      background-color: #E8F0FE;\n",
              "      border: none;\n",
              "      border-radius: 50%;\n",
              "      cursor: pointer;\n",
              "      display: none;\n",
              "      fill: #1967D2;\n",
              "      height: 32px;\n",
              "      padding: 0 0 0 0;\n",
              "      width: 32px;\n",
              "    }\n",
              "\n",
              "    .colab-df-convert:hover {\n",
              "      background-color: #E2EBFA;\n",
              "      box-shadow: 0px 1px 2px rgba(60, 64, 67, 0.3), 0px 1px 3px 1px rgba(60, 64, 67, 0.15);\n",
              "      fill: #174EA6;\n",
              "    }\n",
              "\n",
              "    .colab-df-buttons div {\n",
              "      margin-bottom: 4px;\n",
              "    }\n",
              "\n",
              "    [theme=dark] .colab-df-convert {\n",
              "      background-color: #3B4455;\n",
              "      fill: #D2E3FC;\n",
              "    }\n",
              "\n",
              "    [theme=dark] .colab-df-convert:hover {\n",
              "      background-color: #434B5C;\n",
              "      box-shadow: 0px 1px 3px 1px rgba(0, 0, 0, 0.15);\n",
              "      filter: drop-shadow(0px 1px 2px rgba(0, 0, 0, 0.3));\n",
              "      fill: #FFFFFF;\n",
              "    }\n",
              "  </style>\n",
              "\n",
              "    <script>\n",
              "      const buttonEl =\n",
              "        document.querySelector('#df-7803c45a-33e6-4bb5-a384-e8be407a5a81 button.colab-df-convert');\n",
              "      buttonEl.style.display =\n",
              "        google.colab.kernel.accessAllowed ? 'block' : 'none';\n",
              "\n",
              "      async function convertToInteractive(key) {\n",
              "        const element = document.querySelector('#df-7803c45a-33e6-4bb5-a384-e8be407a5a81');\n",
              "        const dataTable =\n",
              "          await google.colab.kernel.invokeFunction('convertToInteractive',\n",
              "                                                    [key], {});\n",
              "        if (!dataTable) return;\n",
              "\n",
              "        const docLinkHtml = 'Like what you see? Visit the ' +\n",
              "          '<a target=\"_blank\" href=https://colab.research.google.com/notebooks/data_table.ipynb>data table notebook</a>'\n",
              "          + ' to learn more about interactive tables.';\n",
              "        element.innerHTML = '';\n",
              "        dataTable['output_type'] = 'display_data';\n",
              "        await google.colab.output.renderOutput(dataTable, element);\n",
              "        const docLink = document.createElement('div');\n",
              "        docLink.innerHTML = docLinkHtml;\n",
              "        element.appendChild(docLink);\n",
              "      }\n",
              "    </script>\n",
              "  </div>\n",
              "\n",
              "\n",
              "<div id=\"df-be66835d-5415-4ffe-a189-bcaf6141df2c\">\n",
              "  <button class=\"colab-df-quickchart\" onclick=\"quickchart('df-be66835d-5415-4ffe-a189-bcaf6141df2c')\"\n",
              "            title=\"Suggest charts\"\n",
              "            style=\"display:none;\">\n",
              "\n",
              "<svg xmlns=\"http://www.w3.org/2000/svg\" height=\"24px\"viewBox=\"0 0 24 24\"\n",
              "     width=\"24px\">\n",
              "    <g>\n",
              "        <path d=\"M19 3H5c-1.1 0-2 .9-2 2v14c0 1.1.9 2 2 2h14c1.1 0 2-.9 2-2V5c0-1.1-.9-2-2-2zM9 17H7v-7h2v7zm4 0h-2V7h2v10zm4 0h-2v-4h2v4z\"/>\n",
              "    </g>\n",
              "</svg>\n",
              "  </button>\n",
              "\n",
              "<style>\n",
              "  .colab-df-quickchart {\n",
              "      --bg-color: #E8F0FE;\n",
              "      --fill-color: #1967D2;\n",
              "      --hover-bg-color: #E2EBFA;\n",
              "      --hover-fill-color: #174EA6;\n",
              "      --disabled-fill-color: #AAA;\n",
              "      --disabled-bg-color: #DDD;\n",
              "  }\n",
              "\n",
              "  [theme=dark] .colab-df-quickchart {\n",
              "      --bg-color: #3B4455;\n",
              "      --fill-color: #D2E3FC;\n",
              "      --hover-bg-color: #434B5C;\n",
              "      --hover-fill-color: #FFFFFF;\n",
              "      --disabled-bg-color: #3B4455;\n",
              "      --disabled-fill-color: #666;\n",
              "  }\n",
              "\n",
              "  .colab-df-quickchart {\n",
              "    background-color: var(--bg-color);\n",
              "    border: none;\n",
              "    border-radius: 50%;\n",
              "    cursor: pointer;\n",
              "    display: none;\n",
              "    fill: var(--fill-color);\n",
              "    height: 32px;\n",
              "    padding: 0;\n",
              "    width: 32px;\n",
              "  }\n",
              "\n",
              "  .colab-df-quickchart:hover {\n",
              "    background-color: var(--hover-bg-color);\n",
              "    box-shadow: 0 1px 2px rgba(60, 64, 67, 0.3), 0 1px 3px 1px rgba(60, 64, 67, 0.15);\n",
              "    fill: var(--button-hover-fill-color);\n",
              "  }\n",
              "\n",
              "  .colab-df-quickchart-complete:disabled,\n",
              "  .colab-df-quickchart-complete:disabled:hover {\n",
              "    background-color: var(--disabled-bg-color);\n",
              "    fill: var(--disabled-fill-color);\n",
              "    box-shadow: none;\n",
              "  }\n",
              "\n",
              "  .colab-df-spinner {\n",
              "    border: 2px solid var(--fill-color);\n",
              "    border-color: transparent;\n",
              "    border-bottom-color: var(--fill-color);\n",
              "    animation:\n",
              "      spin 1s steps(1) infinite;\n",
              "  }\n",
              "\n",
              "  @keyframes spin {\n",
              "    0% {\n",
              "      border-color: transparent;\n",
              "      border-bottom-color: var(--fill-color);\n",
              "      border-left-color: var(--fill-color);\n",
              "    }\n",
              "    20% {\n",
              "      border-color: transparent;\n",
              "      border-left-color: var(--fill-color);\n",
              "      border-top-color: var(--fill-color);\n",
              "    }\n",
              "    30% {\n",
              "      border-color: transparent;\n",
              "      border-left-color: var(--fill-color);\n",
              "      border-top-color: var(--fill-color);\n",
              "      border-right-color: var(--fill-color);\n",
              "    }\n",
              "    40% {\n",
              "      border-color: transparent;\n",
              "      border-right-color: var(--fill-color);\n",
              "      border-top-color: var(--fill-color);\n",
              "    }\n",
              "    60% {\n",
              "      border-color: transparent;\n",
              "      border-right-color: var(--fill-color);\n",
              "    }\n",
              "    80% {\n",
              "      border-color: transparent;\n",
              "      border-right-color: var(--fill-color);\n",
              "      border-bottom-color: var(--fill-color);\n",
              "    }\n",
              "    90% {\n",
              "      border-color: transparent;\n",
              "      border-bottom-color: var(--fill-color);\n",
              "    }\n",
              "  }\n",
              "</style>\n",
              "\n",
              "  <script>\n",
              "    async function quickchart(key) {\n",
              "      const quickchartButtonEl =\n",
              "        document.querySelector('#' + key + ' button');\n",
              "      quickchartButtonEl.disabled = true;  // To prevent multiple clicks.\n",
              "      quickchartButtonEl.classList.add('colab-df-spinner');\n",
              "      try {\n",
              "        const charts = await google.colab.kernel.invokeFunction(\n",
              "            'suggestCharts', [key], {});\n",
              "      } catch (error) {\n",
              "        console.error('Error during call to suggestCharts:', error);\n",
              "      }\n",
              "      quickchartButtonEl.classList.remove('colab-df-spinner');\n",
              "      quickchartButtonEl.classList.add('colab-df-quickchart-complete');\n",
              "    }\n",
              "    (() => {\n",
              "      let quickchartButtonEl =\n",
              "        document.querySelector('#df-be66835d-5415-4ffe-a189-bcaf6141df2c button');\n",
              "      quickchartButtonEl.style.display =\n",
              "        google.colab.kernel.accessAllowed ? 'block' : 'none';\n",
              "    })();\n",
              "  </script>\n",
              "</div>\n",
              "    </div>\n",
              "  </div>\n"
            ]
          },
          "metadata": {}
        },
        {
          "output_type": "stream",
          "name": "stdout",
          "text": [
            "\n",
            "<class 'pandas.core.frame.DataFrame'>\n",
            "RangeIndex: 237 entries, 0 to 236\n",
            "Data columns (total 3 columns):\n",
            " #   Column     Non-Null Count  Dtype \n",
            "---  ------     --------------  ----- \n",
            " 0   work_days  237 non-null    int64 \n",
            " 1   age        237 non-null    int64 \n",
            " 2   sex        237 non-null    object\n",
            "dtypes: int64(2), object(1)\n",
            "memory usage: 5.7+ KB\n",
            "\n",
            "Количество явных дубликатов в датасете: 72\n",
            "\n",
            "Столбцы с пропусками:\n",
            "\n"
          ]
        }
      ]
    },
    {
      "cell_type": "markdown",
      "source": [
        "Данные осмотрены и предобработаны. Попусков нет. Явные дубликаты трогать не будем, поскольку, учитывая скудный характер данных, это могут быть разные сотрудники с однаковыми характеристиками, а доля таких как бы дубликатов существенная.  \n",
        "\n",
        "В результате предобработки данные были очищены от лишних символов.  "
      ],
      "metadata": {
        "id": "0HwKRAimpMBe"
      }
    },
    {
      "cell_type": "markdown",
      "source": [
        "## 3. EDA"
      ],
      "metadata": {
        "id": "0vv0oZ7W3d2L"
      }
    },
    {
      "cell_type": "code",
      "source": [
        "# Количество уникальных значений в столбце age\n",
        "df['age'].nunique()"
      ],
      "metadata": {
        "colab": {
          "base_uri": "https://localhost:8080/"
        },
        "id": "SaayRbqU3ktO",
        "outputId": "6a078607-c21e-4c76-ec5a-5cc8decdb1c2"
      },
      "execution_count": 9,
      "outputs": [
        {
          "output_type": "execute_result",
          "data": {
            "text/plain": [
              "35"
            ]
          },
          "metadata": {},
          "execution_count": 9
        }
      ]
    },
    {
      "cell_type": "markdown",
      "source": [
        "У нас 35 уникальных значений в признаке age, для анализа удобнее будет объединить сотрудников в группы по возрасту.\n",
        "\n",
        "На основании возрастных диапазонов создим в датафрейме столбец age_group."
      ],
      "metadata": {
        "id": "rpWukKZE3qX-"
      }
    },
    {
      "cell_type": "code",
      "source": [
        "def age_group(age):\n",
        "    try:\n",
        "        if age < 30:\n",
        "            return '< 30'\n",
        "        elif 30 <= age <= 35:\n",
        "            return '30-35'\n",
        "        elif 36 <= age <= 40:\n",
        "            return '36-40'\n",
        "        elif 41 <= age <= 50:\n",
        "            return '41-50'\n",
        "        elif age >= 51:\n",
        "            return '> 50'\n",
        "    except:\n",
        "        pass"
      ],
      "metadata": {
        "id": "l4ySOtbe31qq"
      },
      "execution_count": 10,
      "outputs": []
    },
    {
      "cell_type": "code",
      "source": [
        "df['age_group'] =  df['age'].apply(age_group)"
      ],
      "metadata": {
        "id": "-TtjOnhReG0a"
      },
      "execution_count": 11,
      "outputs": []
    },
    {
      "cell_type": "code",
      "source": [
        "# Сохраним предобработанный датасет для дашборда\n",
        "df.to_csv('/content/data_prepared.csv', index=False)"
      ],
      "metadata": {
        "id": "AJFwbg2cAJCe"
      },
      "execution_count": 12,
      "outputs": []
    },
    {
      "cell_type": "code",
      "source": [
        "# Всего пропущенных по болезни дней\n",
        "df['work_days'].sum()"
      ],
      "metadata": {
        "colab": {
          "base_uri": "https://localhost:8080/"
        },
        "id": "0lTkLmqvBEEp",
        "outputId": "ad59b70b-e67f-40c4-9c3b-86eba1389da7"
      },
      "execution_count": 13,
      "outputs": [
        {
          "output_type": "execute_result",
          "data": {
            "text/plain": [
              "772"
            ]
          },
          "metadata": {},
          "execution_count": 13
        }
      ]
    },
    {
      "cell_type": "code",
      "source": [
        "# Посмотрим на суммарные пропуски по возрастным группам с учетом пола сотрудников\n",
        "df_pivot_age_group = df.pivot_table(index='age_group',\n",
        "                                    columns='sex',\n",
        "                                    values='work_days',\n",
        "                                    aggfunc='sum').reset_index()\n",
        "\n",
        "df_pivot_age_group['total_sum_work_days'] = df_pivot_age_group['M'] + df_pivot_age_group['F']\n",
        "print('Количество пропущенных дней по возратным группам')\n",
        "display(df_pivot_age_group)"
      ],
      "metadata": {
        "colab": {
          "base_uri": "https://localhost:8080/",
          "height": 224
        },
        "id": "zdsJDVxD_zlA",
        "outputId": "8e8223b9-7a0b-41d2-e8bc-b9eef03917fd"
      },
      "execution_count": 14,
      "outputs": [
        {
          "output_type": "stream",
          "name": "stdout",
          "text": [
            "Количество пропущенных дней по возратным группам\n"
          ]
        },
        {
          "output_type": "display_data",
          "data": {
            "text/plain": [
              "sex age_group    F    M  total_sum_work_days\n",
              "0       30-35   45   95                  140\n",
              "1       36-40  110   84                  194\n",
              "2       41-50  147  197                  344\n",
              "3        < 30   16   35                   51\n",
              "4        > 50   12   31                   43"
            ],
            "text/html": [
              "\n",
              "  <div id=\"df-9740acf8-a6ce-44fa-8324-b465a9358b3e\" class=\"colab-df-container\">\n",
              "    <div>\n",
              "<style scoped>\n",
              "    .dataframe tbody tr th:only-of-type {\n",
              "        vertical-align: middle;\n",
              "    }\n",
              "\n",
              "    .dataframe tbody tr th {\n",
              "        vertical-align: top;\n",
              "    }\n",
              "\n",
              "    .dataframe thead th {\n",
              "        text-align: right;\n",
              "    }\n",
              "</style>\n",
              "<table border=\"1\" class=\"dataframe\">\n",
              "  <thead>\n",
              "    <tr style=\"text-align: right;\">\n",
              "      <th>sex</th>\n",
              "      <th>age_group</th>\n",
              "      <th>F</th>\n",
              "      <th>M</th>\n",
              "      <th>total_sum_work_days</th>\n",
              "    </tr>\n",
              "  </thead>\n",
              "  <tbody>\n",
              "    <tr>\n",
              "      <th>0</th>\n",
              "      <td>30-35</td>\n",
              "      <td>45</td>\n",
              "      <td>95</td>\n",
              "      <td>140</td>\n",
              "    </tr>\n",
              "    <tr>\n",
              "      <th>1</th>\n",
              "      <td>36-40</td>\n",
              "      <td>110</td>\n",
              "      <td>84</td>\n",
              "      <td>194</td>\n",
              "    </tr>\n",
              "    <tr>\n",
              "      <th>2</th>\n",
              "      <td>41-50</td>\n",
              "      <td>147</td>\n",
              "      <td>197</td>\n",
              "      <td>344</td>\n",
              "    </tr>\n",
              "    <tr>\n",
              "      <th>3</th>\n",
              "      <td>&lt; 30</td>\n",
              "      <td>16</td>\n",
              "      <td>35</td>\n",
              "      <td>51</td>\n",
              "    </tr>\n",
              "    <tr>\n",
              "      <th>4</th>\n",
              "      <td>&gt; 50</td>\n",
              "      <td>12</td>\n",
              "      <td>31</td>\n",
              "      <td>43</td>\n",
              "    </tr>\n",
              "  </tbody>\n",
              "</table>\n",
              "</div>\n",
              "    <div class=\"colab-df-buttons\">\n",
              "\n",
              "  <div class=\"colab-df-container\">\n",
              "    <button class=\"colab-df-convert\" onclick=\"convertToInteractive('df-9740acf8-a6ce-44fa-8324-b465a9358b3e')\"\n",
              "            title=\"Convert this dataframe to an interactive table.\"\n",
              "            style=\"display:none;\">\n",
              "\n",
              "  <svg xmlns=\"http://www.w3.org/2000/svg\" height=\"24px\" viewBox=\"0 -960 960 960\">\n",
              "    <path d=\"M120-120v-720h720v720H120Zm60-500h600v-160H180v160Zm220 220h160v-160H400v160Zm0 220h160v-160H400v160ZM180-400h160v-160H180v160Zm440 0h160v-160H620v160ZM180-180h160v-160H180v160Zm440 0h160v-160H620v160Z\"/>\n",
              "  </svg>\n",
              "    </button>\n",
              "\n",
              "  <style>\n",
              "    .colab-df-container {\n",
              "      display:flex;\n",
              "      gap: 12px;\n",
              "    }\n",
              "\n",
              "    .colab-df-convert {\n",
              "      background-color: #E8F0FE;\n",
              "      border: none;\n",
              "      border-radius: 50%;\n",
              "      cursor: pointer;\n",
              "      display: none;\n",
              "      fill: #1967D2;\n",
              "      height: 32px;\n",
              "      padding: 0 0 0 0;\n",
              "      width: 32px;\n",
              "    }\n",
              "\n",
              "    .colab-df-convert:hover {\n",
              "      background-color: #E2EBFA;\n",
              "      box-shadow: 0px 1px 2px rgba(60, 64, 67, 0.3), 0px 1px 3px 1px rgba(60, 64, 67, 0.15);\n",
              "      fill: #174EA6;\n",
              "    }\n",
              "\n",
              "    .colab-df-buttons div {\n",
              "      margin-bottom: 4px;\n",
              "    }\n",
              "\n",
              "    [theme=dark] .colab-df-convert {\n",
              "      background-color: #3B4455;\n",
              "      fill: #D2E3FC;\n",
              "    }\n",
              "\n",
              "    [theme=dark] .colab-df-convert:hover {\n",
              "      background-color: #434B5C;\n",
              "      box-shadow: 0px 1px 3px 1px rgba(0, 0, 0, 0.15);\n",
              "      filter: drop-shadow(0px 1px 2px rgba(0, 0, 0, 0.3));\n",
              "      fill: #FFFFFF;\n",
              "    }\n",
              "  </style>\n",
              "\n",
              "    <script>\n",
              "      const buttonEl =\n",
              "        document.querySelector('#df-9740acf8-a6ce-44fa-8324-b465a9358b3e button.colab-df-convert');\n",
              "      buttonEl.style.display =\n",
              "        google.colab.kernel.accessAllowed ? 'block' : 'none';\n",
              "\n",
              "      async function convertToInteractive(key) {\n",
              "        const element = document.querySelector('#df-9740acf8-a6ce-44fa-8324-b465a9358b3e');\n",
              "        const dataTable =\n",
              "          await google.colab.kernel.invokeFunction('convertToInteractive',\n",
              "                                                    [key], {});\n",
              "        if (!dataTable) return;\n",
              "\n",
              "        const docLinkHtml = 'Like what you see? Visit the ' +\n",
              "          '<a target=\"_blank\" href=https://colab.research.google.com/notebooks/data_table.ipynb>data table notebook</a>'\n",
              "          + ' to learn more about interactive tables.';\n",
              "        element.innerHTML = '';\n",
              "        dataTable['output_type'] = 'display_data';\n",
              "        await google.colab.output.renderOutput(dataTable, element);\n",
              "        const docLink = document.createElement('div');\n",
              "        docLink.innerHTML = docLinkHtml;\n",
              "        element.appendChild(docLink);\n",
              "      }\n",
              "    </script>\n",
              "  </div>\n",
              "\n",
              "\n",
              "<div id=\"df-8fc3bc9e-854e-4e79-8e29-8d05c38a81de\">\n",
              "  <button class=\"colab-df-quickchart\" onclick=\"quickchart('df-8fc3bc9e-854e-4e79-8e29-8d05c38a81de')\"\n",
              "            title=\"Suggest charts\"\n",
              "            style=\"display:none;\">\n",
              "\n",
              "<svg xmlns=\"http://www.w3.org/2000/svg\" height=\"24px\"viewBox=\"0 0 24 24\"\n",
              "     width=\"24px\">\n",
              "    <g>\n",
              "        <path d=\"M19 3H5c-1.1 0-2 .9-2 2v14c0 1.1.9 2 2 2h14c1.1 0 2-.9 2-2V5c0-1.1-.9-2-2-2zM9 17H7v-7h2v7zm4 0h-2V7h2v10zm4 0h-2v-4h2v4z\"/>\n",
              "    </g>\n",
              "</svg>\n",
              "  </button>\n",
              "\n",
              "<style>\n",
              "  .colab-df-quickchart {\n",
              "      --bg-color: #E8F0FE;\n",
              "      --fill-color: #1967D2;\n",
              "      --hover-bg-color: #E2EBFA;\n",
              "      --hover-fill-color: #174EA6;\n",
              "      --disabled-fill-color: #AAA;\n",
              "      --disabled-bg-color: #DDD;\n",
              "  }\n",
              "\n",
              "  [theme=dark] .colab-df-quickchart {\n",
              "      --bg-color: #3B4455;\n",
              "      --fill-color: #D2E3FC;\n",
              "      --hover-bg-color: #434B5C;\n",
              "      --hover-fill-color: #FFFFFF;\n",
              "      --disabled-bg-color: #3B4455;\n",
              "      --disabled-fill-color: #666;\n",
              "  }\n",
              "\n",
              "  .colab-df-quickchart {\n",
              "    background-color: var(--bg-color);\n",
              "    border: none;\n",
              "    border-radius: 50%;\n",
              "    cursor: pointer;\n",
              "    display: none;\n",
              "    fill: var(--fill-color);\n",
              "    height: 32px;\n",
              "    padding: 0;\n",
              "    width: 32px;\n",
              "  }\n",
              "\n",
              "  .colab-df-quickchart:hover {\n",
              "    background-color: var(--hover-bg-color);\n",
              "    box-shadow: 0 1px 2px rgba(60, 64, 67, 0.3), 0 1px 3px 1px rgba(60, 64, 67, 0.15);\n",
              "    fill: var(--button-hover-fill-color);\n",
              "  }\n",
              "\n",
              "  .colab-df-quickchart-complete:disabled,\n",
              "  .colab-df-quickchart-complete:disabled:hover {\n",
              "    background-color: var(--disabled-bg-color);\n",
              "    fill: var(--disabled-fill-color);\n",
              "    box-shadow: none;\n",
              "  }\n",
              "\n",
              "  .colab-df-spinner {\n",
              "    border: 2px solid var(--fill-color);\n",
              "    border-color: transparent;\n",
              "    border-bottom-color: var(--fill-color);\n",
              "    animation:\n",
              "      spin 1s steps(1) infinite;\n",
              "  }\n",
              "\n",
              "  @keyframes spin {\n",
              "    0% {\n",
              "      border-color: transparent;\n",
              "      border-bottom-color: var(--fill-color);\n",
              "      border-left-color: var(--fill-color);\n",
              "    }\n",
              "    20% {\n",
              "      border-color: transparent;\n",
              "      border-left-color: var(--fill-color);\n",
              "      border-top-color: var(--fill-color);\n",
              "    }\n",
              "    30% {\n",
              "      border-color: transparent;\n",
              "      border-left-color: var(--fill-color);\n",
              "      border-top-color: var(--fill-color);\n",
              "      border-right-color: var(--fill-color);\n",
              "    }\n",
              "    40% {\n",
              "      border-color: transparent;\n",
              "      border-right-color: var(--fill-color);\n",
              "      border-top-color: var(--fill-color);\n",
              "    }\n",
              "    60% {\n",
              "      border-color: transparent;\n",
              "      border-right-color: var(--fill-color);\n",
              "    }\n",
              "    80% {\n",
              "      border-color: transparent;\n",
              "      border-right-color: var(--fill-color);\n",
              "      border-bottom-color: var(--fill-color);\n",
              "    }\n",
              "    90% {\n",
              "      border-color: transparent;\n",
              "      border-bottom-color: var(--fill-color);\n",
              "    }\n",
              "  }\n",
              "</style>\n",
              "\n",
              "  <script>\n",
              "    async function quickchart(key) {\n",
              "      const quickchartButtonEl =\n",
              "        document.querySelector('#' + key + ' button');\n",
              "      quickchartButtonEl.disabled = true;  // To prevent multiple clicks.\n",
              "      quickchartButtonEl.classList.add('colab-df-spinner');\n",
              "      try {\n",
              "        const charts = await google.colab.kernel.invokeFunction(\n",
              "            'suggestCharts', [key], {});\n",
              "      } catch (error) {\n",
              "        console.error('Error during call to suggestCharts:', error);\n",
              "      }\n",
              "      quickchartButtonEl.classList.remove('colab-df-spinner');\n",
              "      quickchartButtonEl.classList.add('colab-df-quickchart-complete');\n",
              "    }\n",
              "    (() => {\n",
              "      let quickchartButtonEl =\n",
              "        document.querySelector('#df-8fc3bc9e-854e-4e79-8e29-8d05c38a81de button');\n",
              "      quickchartButtonEl.style.display =\n",
              "        google.colab.kernel.accessAllowed ? 'block' : 'none';\n",
              "    })();\n",
              "  </script>\n",
              "</div>\n",
              "    </div>\n",
              "  </div>\n"
            ]
          },
          "metadata": {}
        }
      ]
    },
    {
      "cell_type": "code",
      "source": [
        "# Посмотрим количество сотрудников, пропустивших рабочие дни по болезни\n",
        "df_pivot_age_group_2 = df.pivot_table(index='age_group',\n",
        "                                    columns='sex',\n",
        "                                    values='work_days',\n",
        "                                    aggfunc='count').reset_index()\n",
        "\n",
        "df_pivot_age_group_2['number_of_employees_in_age_group'] = df_pivot_age_group_2['F'] + df_pivot_age_group_2['M']\n",
        "print('Количество сотрудников по возратным группам')\n",
        "display(df_pivot_age_group_2)"
      ],
      "metadata": {
        "colab": {
          "base_uri": "https://localhost:8080/",
          "height": 224
        },
        "id": "Y65a1MB6E-LW",
        "outputId": "e2c2bb7f-7d51-4e53-ee3c-c1b4ec5a3869"
      },
      "execution_count": 15,
      "outputs": [
        {
          "output_type": "stream",
          "name": "stdout",
          "text": [
            "Количество сотрудников по возратным группам\n"
          ]
        },
        {
          "output_type": "display_data",
          "data": {
            "text/plain": [
              "sex age_group   F   M  number_of_employees_in_age_group\n",
              "0       30-35  14  28                                42\n",
              "1       36-40  29  30                                59\n",
              "2       41-50  46  61                               107\n",
              "3        < 30   5  10                                15\n",
              "4        > 50   4  10                                14"
            ],
            "text/html": [
              "\n",
              "  <div id=\"df-5a07fc17-fbdb-4f02-a10c-7907c45dd472\" class=\"colab-df-container\">\n",
              "    <div>\n",
              "<style scoped>\n",
              "    .dataframe tbody tr th:only-of-type {\n",
              "        vertical-align: middle;\n",
              "    }\n",
              "\n",
              "    .dataframe tbody tr th {\n",
              "        vertical-align: top;\n",
              "    }\n",
              "\n",
              "    .dataframe thead th {\n",
              "        text-align: right;\n",
              "    }\n",
              "</style>\n",
              "<table border=\"1\" class=\"dataframe\">\n",
              "  <thead>\n",
              "    <tr style=\"text-align: right;\">\n",
              "      <th>sex</th>\n",
              "      <th>age_group</th>\n",
              "      <th>F</th>\n",
              "      <th>M</th>\n",
              "      <th>number_of_employees_in_age_group</th>\n",
              "    </tr>\n",
              "  </thead>\n",
              "  <tbody>\n",
              "    <tr>\n",
              "      <th>0</th>\n",
              "      <td>30-35</td>\n",
              "      <td>14</td>\n",
              "      <td>28</td>\n",
              "      <td>42</td>\n",
              "    </tr>\n",
              "    <tr>\n",
              "      <th>1</th>\n",
              "      <td>36-40</td>\n",
              "      <td>29</td>\n",
              "      <td>30</td>\n",
              "      <td>59</td>\n",
              "    </tr>\n",
              "    <tr>\n",
              "      <th>2</th>\n",
              "      <td>41-50</td>\n",
              "      <td>46</td>\n",
              "      <td>61</td>\n",
              "      <td>107</td>\n",
              "    </tr>\n",
              "    <tr>\n",
              "      <th>3</th>\n",
              "      <td>&lt; 30</td>\n",
              "      <td>5</td>\n",
              "      <td>10</td>\n",
              "      <td>15</td>\n",
              "    </tr>\n",
              "    <tr>\n",
              "      <th>4</th>\n",
              "      <td>&gt; 50</td>\n",
              "      <td>4</td>\n",
              "      <td>10</td>\n",
              "      <td>14</td>\n",
              "    </tr>\n",
              "  </tbody>\n",
              "</table>\n",
              "</div>\n",
              "    <div class=\"colab-df-buttons\">\n",
              "\n",
              "  <div class=\"colab-df-container\">\n",
              "    <button class=\"colab-df-convert\" onclick=\"convertToInteractive('df-5a07fc17-fbdb-4f02-a10c-7907c45dd472')\"\n",
              "            title=\"Convert this dataframe to an interactive table.\"\n",
              "            style=\"display:none;\">\n",
              "\n",
              "  <svg xmlns=\"http://www.w3.org/2000/svg\" height=\"24px\" viewBox=\"0 -960 960 960\">\n",
              "    <path d=\"M120-120v-720h720v720H120Zm60-500h600v-160H180v160Zm220 220h160v-160H400v160Zm0 220h160v-160H400v160ZM180-400h160v-160H180v160Zm440 0h160v-160H620v160ZM180-180h160v-160H180v160Zm440 0h160v-160H620v160Z\"/>\n",
              "  </svg>\n",
              "    </button>\n",
              "\n",
              "  <style>\n",
              "    .colab-df-container {\n",
              "      display:flex;\n",
              "      gap: 12px;\n",
              "    }\n",
              "\n",
              "    .colab-df-convert {\n",
              "      background-color: #E8F0FE;\n",
              "      border: none;\n",
              "      border-radius: 50%;\n",
              "      cursor: pointer;\n",
              "      display: none;\n",
              "      fill: #1967D2;\n",
              "      height: 32px;\n",
              "      padding: 0 0 0 0;\n",
              "      width: 32px;\n",
              "    }\n",
              "\n",
              "    .colab-df-convert:hover {\n",
              "      background-color: #E2EBFA;\n",
              "      box-shadow: 0px 1px 2px rgba(60, 64, 67, 0.3), 0px 1px 3px 1px rgba(60, 64, 67, 0.15);\n",
              "      fill: #174EA6;\n",
              "    }\n",
              "\n",
              "    .colab-df-buttons div {\n",
              "      margin-bottom: 4px;\n",
              "    }\n",
              "\n",
              "    [theme=dark] .colab-df-convert {\n",
              "      background-color: #3B4455;\n",
              "      fill: #D2E3FC;\n",
              "    }\n",
              "\n",
              "    [theme=dark] .colab-df-convert:hover {\n",
              "      background-color: #434B5C;\n",
              "      box-shadow: 0px 1px 3px 1px rgba(0, 0, 0, 0.15);\n",
              "      filter: drop-shadow(0px 1px 2px rgba(0, 0, 0, 0.3));\n",
              "      fill: #FFFFFF;\n",
              "    }\n",
              "  </style>\n",
              "\n",
              "    <script>\n",
              "      const buttonEl =\n",
              "        document.querySelector('#df-5a07fc17-fbdb-4f02-a10c-7907c45dd472 button.colab-df-convert');\n",
              "      buttonEl.style.display =\n",
              "        google.colab.kernel.accessAllowed ? 'block' : 'none';\n",
              "\n",
              "      async function convertToInteractive(key) {\n",
              "        const element = document.querySelector('#df-5a07fc17-fbdb-4f02-a10c-7907c45dd472');\n",
              "        const dataTable =\n",
              "          await google.colab.kernel.invokeFunction('convertToInteractive',\n",
              "                                                    [key], {});\n",
              "        if (!dataTable) return;\n",
              "\n",
              "        const docLinkHtml = 'Like what you see? Visit the ' +\n",
              "          '<a target=\"_blank\" href=https://colab.research.google.com/notebooks/data_table.ipynb>data table notebook</a>'\n",
              "          + ' to learn more about interactive tables.';\n",
              "        element.innerHTML = '';\n",
              "        dataTable['output_type'] = 'display_data';\n",
              "        await google.colab.output.renderOutput(dataTable, element);\n",
              "        const docLink = document.createElement('div');\n",
              "        docLink.innerHTML = docLinkHtml;\n",
              "        element.appendChild(docLink);\n",
              "      }\n",
              "    </script>\n",
              "  </div>\n",
              "\n",
              "\n",
              "<div id=\"df-6c2bae2f-f069-4860-938b-8e806d055c2a\">\n",
              "  <button class=\"colab-df-quickchart\" onclick=\"quickchart('df-6c2bae2f-f069-4860-938b-8e806d055c2a')\"\n",
              "            title=\"Suggest charts\"\n",
              "            style=\"display:none;\">\n",
              "\n",
              "<svg xmlns=\"http://www.w3.org/2000/svg\" height=\"24px\"viewBox=\"0 0 24 24\"\n",
              "     width=\"24px\">\n",
              "    <g>\n",
              "        <path d=\"M19 3H5c-1.1 0-2 .9-2 2v14c0 1.1.9 2 2 2h14c1.1 0 2-.9 2-2V5c0-1.1-.9-2-2-2zM9 17H7v-7h2v7zm4 0h-2V7h2v10zm4 0h-2v-4h2v4z\"/>\n",
              "    </g>\n",
              "</svg>\n",
              "  </button>\n",
              "\n",
              "<style>\n",
              "  .colab-df-quickchart {\n",
              "      --bg-color: #E8F0FE;\n",
              "      --fill-color: #1967D2;\n",
              "      --hover-bg-color: #E2EBFA;\n",
              "      --hover-fill-color: #174EA6;\n",
              "      --disabled-fill-color: #AAA;\n",
              "      --disabled-bg-color: #DDD;\n",
              "  }\n",
              "\n",
              "  [theme=dark] .colab-df-quickchart {\n",
              "      --bg-color: #3B4455;\n",
              "      --fill-color: #D2E3FC;\n",
              "      --hover-bg-color: #434B5C;\n",
              "      --hover-fill-color: #FFFFFF;\n",
              "      --disabled-bg-color: #3B4455;\n",
              "      --disabled-fill-color: #666;\n",
              "  }\n",
              "\n",
              "  .colab-df-quickchart {\n",
              "    background-color: var(--bg-color);\n",
              "    border: none;\n",
              "    border-radius: 50%;\n",
              "    cursor: pointer;\n",
              "    display: none;\n",
              "    fill: var(--fill-color);\n",
              "    height: 32px;\n",
              "    padding: 0;\n",
              "    width: 32px;\n",
              "  }\n",
              "\n",
              "  .colab-df-quickchart:hover {\n",
              "    background-color: var(--hover-bg-color);\n",
              "    box-shadow: 0 1px 2px rgba(60, 64, 67, 0.3), 0 1px 3px 1px rgba(60, 64, 67, 0.15);\n",
              "    fill: var(--button-hover-fill-color);\n",
              "  }\n",
              "\n",
              "  .colab-df-quickchart-complete:disabled,\n",
              "  .colab-df-quickchart-complete:disabled:hover {\n",
              "    background-color: var(--disabled-bg-color);\n",
              "    fill: var(--disabled-fill-color);\n",
              "    box-shadow: none;\n",
              "  }\n",
              "\n",
              "  .colab-df-spinner {\n",
              "    border: 2px solid var(--fill-color);\n",
              "    border-color: transparent;\n",
              "    border-bottom-color: var(--fill-color);\n",
              "    animation:\n",
              "      spin 1s steps(1) infinite;\n",
              "  }\n",
              "\n",
              "  @keyframes spin {\n",
              "    0% {\n",
              "      border-color: transparent;\n",
              "      border-bottom-color: var(--fill-color);\n",
              "      border-left-color: var(--fill-color);\n",
              "    }\n",
              "    20% {\n",
              "      border-color: transparent;\n",
              "      border-left-color: var(--fill-color);\n",
              "      border-top-color: var(--fill-color);\n",
              "    }\n",
              "    30% {\n",
              "      border-color: transparent;\n",
              "      border-left-color: var(--fill-color);\n",
              "      border-top-color: var(--fill-color);\n",
              "      border-right-color: var(--fill-color);\n",
              "    }\n",
              "    40% {\n",
              "      border-color: transparent;\n",
              "      border-right-color: var(--fill-color);\n",
              "      border-top-color: var(--fill-color);\n",
              "    }\n",
              "    60% {\n",
              "      border-color: transparent;\n",
              "      border-right-color: var(--fill-color);\n",
              "    }\n",
              "    80% {\n",
              "      border-color: transparent;\n",
              "      border-right-color: var(--fill-color);\n",
              "      border-bottom-color: var(--fill-color);\n",
              "    }\n",
              "    90% {\n",
              "      border-color: transparent;\n",
              "      border-bottom-color: var(--fill-color);\n",
              "    }\n",
              "  }\n",
              "</style>\n",
              "\n",
              "  <script>\n",
              "    async function quickchart(key) {\n",
              "      const quickchartButtonEl =\n",
              "        document.querySelector('#' + key + ' button');\n",
              "      quickchartButtonEl.disabled = true;  // To prevent multiple clicks.\n",
              "      quickchartButtonEl.classList.add('colab-df-spinner');\n",
              "      try {\n",
              "        const charts = await google.colab.kernel.invokeFunction(\n",
              "            'suggestCharts', [key], {});\n",
              "      } catch (error) {\n",
              "        console.error('Error during call to suggestCharts:', error);\n",
              "      }\n",
              "      quickchartButtonEl.classList.remove('colab-df-spinner');\n",
              "      quickchartButtonEl.classList.add('colab-df-quickchart-complete');\n",
              "    }\n",
              "    (() => {\n",
              "      let quickchartButtonEl =\n",
              "        document.querySelector('#df-6c2bae2f-f069-4860-938b-8e806d055c2a button');\n",
              "      quickchartButtonEl.style.display =\n",
              "        google.colab.kernel.accessAllowed ? 'block' : 'none';\n",
              "    })();\n",
              "  </script>\n",
              "</div>\n",
              "    </div>\n",
              "  </div>\n"
            ]
          },
          "metadata": {}
        }
      ]
    },
    {
      "cell_type": "code",
      "source": [
        "# График общей картины пропусков с учетом пола и возраста\n",
        "plt.figure(figsize=(12,5))\n",
        "\n",
        "plt.subplots_adjust(wspace=0.2, hspace=0.2, top=0.9)\n",
        "plt.title('Зависимость пропусков по болезни от возраста сотрудника', fontsize=15)\n",
        "\n",
        "sns.countplot(x='age_group', hue='sex', data=df, palette=sns.hls_palette(l=.4))\n",
        "plt.legend(('M', 'F'), title='Пол сотрудника', fontsize=7, loc=\"center left\",\n",
        "          bbox_to_anchor=(1, 0, 0.5, 1))\n",
        "\n",
        "plt.xlabel('Возрастная группа', fontsize=10)\n",
        "plt.ylabel('Количество пропусков по болезни', fontsize=10)\n",
        "\n",
        "plt.show()"
      ],
      "metadata": {
        "colab": {
          "base_uri": "https://localhost:8080/",
          "height": 500
        },
        "id": "7sTPp8kv-5I4",
        "outputId": "451d2fc9-bd26-4d16-ce1b-c8125407ba8e"
      },
      "execution_count": 16,
      "outputs": [
        {
          "output_type": "display_data",
          "data": {
            "text/plain": [
              "<Figure size 1200x500 with 1 Axes>"
            ],
            "image/png": "[encoded data removed]"
          },
          "metadata": {}
        }
      ]
    },
    {
      "cell_type": "markdown",
      "source": [
        "Судя по графику и сводным таблицам, больше всего болеют сотрудники в возрасте 41-50: суммарно на группу 344 пропущенных дня. Однако, это может связано с тем, что это самая многочисленная группа - 107 человек. Женщины в этой группе болеют чаще мужчин.\n",
        "\n",
        "Вторая по количеству пропущенных дней группа - от 36 до 40лет: в ней на 59 человек суммарно 194 пропущенных дня. Женщины и мужчины в этой группе болеют примерно поровну.\n",
        "\n",
        "Далее идет группа 30-35 лет: в ней на 42 сотрудника приходится 140 пропущенных по болезни дней. Женщины в этой группе болеют чаще.\n",
        "\n",
        "Самые малочисленные группы - до 30(15 человек) и после 50 (14 человек) предсказуемо болеют реже остальных: на эти группы приходится 51 и 43 пропущенных дня соответственно."
      ],
      "metadata": {
        "id": "kWF_XhLzGOwu"
      }
    },
    {
      "cell_type": "markdown",
      "source": [
        "На первый взгляд, предположение руководства компании о том, что сотрудники старше 35 лет болеют чаще, чем более молодые сотрудники, верное.\n",
        "\n",
        "Однако, второе предположение, что среди мужчин количество пропусков рабочих дней в связи с больничным выше, чем среди женщин, кажется ошибочным.\n",
        "\n",
        "Поэтому, проверим эти гипотезы статистическими методами.\n"
      ],
      "metadata": {
        "id": "nPK6VO3ZI9Hq"
      }
    },
    {
      "cell_type": "markdown",
      "source": [
        "## 4. Проверка статистических гипотез."
      ],
      "metadata": {
        "id": "-g27p9x3Lv2i"
      }
    },
    {
      "cell_type": "markdown",
      "source": [
        "Необходимо проверить следующие гипотезы:"
      ],
      "metadata": {
        "id": "zWGsIAzNLv8w"
      }
    },
    {
      "cell_type": "markdown",
      "source": [
        "**1. Гипотеза: Мужчины пропускают в течение года более 2 рабочих дней по болезни значимо чаще женщин.**\n",
        "\n",
        "`Нулевая гипотеза (H0)`: Мужчины и женщины пропускают в течение года одинаковое количество рабочих дней по болезни.\n",
        "\n",
        "`Альтернативная гипотеза (H1`): Мужчины пропускают в течение года более 2 рабочих дней по болезни значимо чаще женщин.\n",
        "\n",
        "Для проверки данной гипотезы можно воспользоваться двухвыборочным t-тестом независимых выборок, так как мы сравниваем две группы (мужчин и женщин)."
      ],
      "metadata": {
        "id": "A7ZlDF5J1l3Z"
      }
    },
    {
      "cell_type": "code",
      "source": [
        "# Делаем необходимые выборки данных\n",
        "men = df[df['sex'] == 'M']['work_days']\n",
        "women = df[df['sex'] == 'F']['work_days']\n",
        "\n",
        "alpha = .05  # определяем уровень статистической значимости\n",
        "\n",
        "# Проведение t-теста\n",
        "t_statistic, p_value = stats.ttest_ind(men, women)\n",
        "print('t-статистика:', t_statistic)\n",
        "print('p-значение:', p_value)\n",
        "\n",
        "if p_value < alpha:\n",
        "    print('Отвергаем нулевую гипотезу')\n",
        "else:\n",
        "    print('Не получилось отвергнуть нулевую гипотезу')"
      ],
      "metadata": {
        "colab": {
          "base_uri": "https://localhost:8080/"
        },
        "id": "d4zw79dx8-vD",
        "outputId": "d00d98b4-001d-4661-e49e-07bce6abf01c"
      },
      "execution_count": 17,
      "outputs": [
        {
          "output_type": "stream",
          "name": "stdout",
          "text": [
            "t-статистика: -0.7856303350416829\n",
            "p-значение: 0.4328754720595044\n",
            "Не получилось отвергнуть нулевую гипотезу\n"
          ]
        }
      ]
    },
    {
      "cell_type": "markdown",
      "source": [
        "Проверим гипотезу №1 на более узкой выборке: отберем только тех сотрудников, которые пропустили по болезни более 2-х дней"
      ],
      "metadata": {
        "id": "n33XSixOwz8I"
      }
    },
    {
      "cell_type": "code",
      "source": [
        "# Отбираем всех, у кого более 2-х пропусков по болезни:\n",
        "df_more_2 = df.query('work_days >2')"
      ],
      "metadata": {
        "id": "ZkwegCwOxIuK"
      },
      "execution_count": 18,
      "outputs": []
    },
    {
      "cell_type": "code",
      "source": [
        "men_2 = df_more_2[df_more_2['sex'] == 'M']['work_days']\n",
        "women_2 = df_more_2[df_more_2['sex'] == 'F']['work_days']\n",
        "\n",
        "alpha = .05  # определяем уровень статистической значимости\n",
        "\n",
        "# Проведение t-теста\n",
        "t_statistic, p_value = stats.ttest_ind(men_2, women_2)\n",
        "print('t-статистика:', t_statistic)\n",
        "print('p-значение:', p_value)\n",
        "\n",
        "if p_value < alpha:\n",
        "    print('Отвергаем нулевую гипотезу')\n",
        "else:\n",
        "    print('Не получилось отвергнуть нулевую гипотезу')"
      ],
      "metadata": {
        "colab": {
          "base_uri": "https://localhost:8080/"
        },
        "id": "Yx-EfZaHE2To",
        "outputId": "1624eebd-ae1b-4341-bf1a-17438f9a4838"
      },
      "execution_count": 19,
      "outputs": [
        {
          "output_type": "stream",
          "name": "stdout",
          "text": [
            "t-статистика: 0.41592499748510986\n",
            "p-значение: 0.67806332103283\n",
            "Не получилось отвергнуть нулевую гипотезу\n"
          ]
        }
      ]
    },
    {
      "cell_type": "markdown",
      "source": [
        "**2. Гипотеза: Работники старше 35 лет пропускают в течение года более 2 рабочих дней по болезни значимо чаще своих более молодых коллег.**\n",
        "\n",
        "`Нулевая гипотеза (H0)`: Работники старше 35 лет пропускают в течение года не более или равное количество рабочих дней по болезни, чем их более молодые коллеги.\n",
        "\n",
        "`Альтернативная гипотеза (Н1)`: Работники старше 35 лет пропускают в течение года больше рабочих дней по болезни, чем их более молодые коллеги.\n",
        "\n",
        "Для проверки этой гипотезы также можно воспользоваться статистическим тестом, например, двухвыборочным t-тестом для независимых выборок."
      ],
      "metadata": {
        "id": "IMwFL_tt3mO8"
      }
    },
    {
      "cell_type": "code",
      "source": [
        "# Разделение данных на две выборки: работники старше 35 лет и работники младше 35 лет\n",
        "older_employees = df[df['age'] > 35]['work_days']\n",
        "younger_employees = df[df['age'] <= 35]['work_days']\n",
        "\n",
        "alpha = .05  # определяем уровень статистической значимости\n",
        "\n",
        "# Проведение t-теста\n",
        "t_statistic, p_value = stats.ttest_ind(older_employees, younger_employees)\n",
        "print('t-статистика:', t_statistic)\n",
        "print('p-значение:', p_value)\n",
        "\n",
        "if p_value < alpha:\n",
        "    print('Отвергаем нулевую гипотезу')\n",
        "else:\n",
        "    print('Не получилось отвергнуть нулевую гипотезу')"
      ],
      "metadata": {
        "colab": {
          "base_uri": "https://localhost:8080/"
        },
        "id": "tvMkc9U7Hmb7",
        "outputId": "46888d71-7459-46de-e70b-12840e0588e6"
      },
      "execution_count": 20,
      "outputs": [
        {
          "output_type": "stream",
          "name": "stdout",
          "text": [
            "t-статистика: -0.447262667369775\n",
            "p-значение: 0.6550973822138465\n",
            "Не получилось отвергнуть нулевую гипотезу\n"
          ]
        }
      ]
    },
    {
      "cell_type": "markdown",
      "source": [
        "Гипотезу №2 также проверим на более узкой выборке из  тех сотрудников, которые пропустили по болезни более 2-х дней"
      ],
      "metadata": {
        "id": "77BBy4OkxQIc"
      }
    },
    {
      "cell_type": "code",
      "source": [
        "# ВАРИАНТ 2 - проверим гипотезы на выборках из сотрудников, пропустивших более 2-х дней по болезни\n",
        "\n",
        "# Разделение данных на две выборки: работники старше 35 лет и работники младше 35 лет\n",
        "older_employees_2 = df_more_2[df_more_2['age'] > 35]['work_days']\n",
        "younger_employees_2 = df_more_2[df_more_2['age'] <= 35]['work_days']\n",
        "\n",
        "alpha = .05  # определяем уровень статистической значимости\n",
        "\n",
        "# Проведение t-теста\n",
        "t_statistic, p_value = stats.ttest_ind(older_employees_2, younger_employees_2)\n",
        "print('t-статистика:', t_statistic)\n",
        "print('p-значение:', p_value)\n",
        "\n",
        "if p_value < alpha:\n",
        "    print('Отвергаем нулевую гипотезу')\n",
        "else:\n",
        "    print('Не получилось отвергнуть нулевую гипотезу')\n"
      ],
      "metadata": {
        "colab": {
          "base_uri": "https://localhost:8080/"
        },
        "id": "EpujDsv83v-l",
        "outputId": "f759ee1a-3cb6-4295-d063-431aeac62213"
      },
      "execution_count": 21,
      "outputs": [
        {
          "output_type": "stream",
          "name": "stdout",
          "text": [
            "t-статистика: -0.7594348478395395\n",
            "p-значение: 0.4487922957971878\n",
            "Не получилось отвергнуть нулевую гипотезу\n"
          ]
        }
      ]
    },
    {
      "cell_type": "markdown",
      "source": [
        "Построим графики распределения."
      ],
      "metadata": {
        "id": "0rg9IMHezgvH"
      }
    },
    {
      "cell_type": "code",
      "source": [
        "# Графики распределения пропусков рабочих дней по болезни для мужчин и женщин\n",
        "plt.figure(figsize=(10, 6))\n",
        "sns.histplot(men, color='blue', alpha=0.5, label='Мужчины')\n",
        "sns.histplot(women, color='pink', alpha=0.5, label='Женщины')\n",
        "plt.xlabel('Рабочие дни, пропущенные по болезни')\n",
        "plt.ylabel('Количество')\n",
        "plt.legend()\n",
        "plt.title('Распределение пропущенных по болезни дней в зависимости от пола')\n",
        "plt.show()\n"
      ],
      "metadata": {
        "id": "l15R02EtQS4Y",
        "colab": {
          "base_uri": "https://localhost:8080/",
          "height": 564
        },
        "outputId": "434d4aa3-5453-4ca4-9516-8f1517528d80"
      },
      "execution_count": 22,
      "outputs": [
        {
          "output_type": "display_data",
          "data": {
            "text/plain": [
              "<Figure size 1000x600 with 1 Axes>"
            ],
            "image/png": "[encoded data removed]"
          },
          "metadata": {}
        }
      ]
    },
    {
      "cell_type": "code",
      "source": [
        "# Графики распределения пропусков рабочих дней по болезни для работников старше 35 лет и моложе 35 лет\n",
        "plt.figure(figsize=(10, 6))\n",
        "sns.histplot(older_employees, color='green', alpha=0.5, label='Старше 35')\n",
        "sns.histplot(younger_employees, color='orange', alpha=0.5, label='Моложе 35')\n",
        "plt.xlabel('Рабочие дни, пропущенные по болезни')\n",
        "plt.ylabel('Количество')\n",
        "plt.legend()\n",
        "plt.title('Распределение пропущенных по болезни дней в зависимости от возраста')\n",
        "plt.show"
      ],
      "metadata": {
        "colab": {
          "base_uri": "https://localhost:8080/",
          "height": 582
        },
        "id": "vyXvGNNCBM5Z",
        "outputId": "84f56f8d-ddec-4498-979d-1ac575e95702"
      },
      "execution_count": 23,
      "outputs": [
        {
          "output_type": "execute_result",
          "data": {
            "text/plain": [
              "<function matplotlib.pyplot.show(close=None, block=None)>"
            ]
          },
          "metadata": {},
          "execution_count": 23
        },
        {
          "output_type": "display_data",
          "data": {
            "text/plain": [
              "<Figure size 1000x600 with 1 Axes>"
            ],
            "image/png": "[encoded data removed]"
          },
          "metadata": {}
        }
      ]
    },
    {
      "cell_type": "markdown",
      "source": [
        "**ПРОВЕРКА СТАТИСТИЧЕСКИХ ГИПОТЕЗ. ВЫВОД**\n",
        "\n",
        "**Для эксперимента №1:\"Мужчины пропускают в течение года более 2 рабочих дней по болезни значимо чаще женщин\"**\n",
        "\n",
        "- была сформулирована следующая `нулевая гипотеза (H0):`\n",
        "\n",
        "     Мужчины и женщины пропускают в течение года одинаковое количество рабочих дней по болезни.\n",
        "\n",
        "**Для эксперимента №2:\"Работники старше 35 лет пропускают в течение года более 2 рабочих дней по болезни значимо чаще своих более молодых коллег\"**\n",
        "\n",
        "- была сформулирована следующая `нулевая гипотеза (H0):`\n",
        "\n",
        "     Работники старше 35 лет пропускают в течение года не более или равное количество рабочих дней по болезни, чем их более молодые коллеги.\n",
        "\n",
        "Гипотезы проверялись на 2-х наборах данных:\n",
        "1. полный набор\n",
        "2. выборка из тех сотрудников, которые пропустили по болезни более 2-х дней\n",
        "\n",
        "Таким образом, было проведено 4 статистических теста.\n",
        "\n",
        "В всех 4-х случаях мы получили уровень статистической значимости p-value менее 0.05, что не позволяет отвергнуть нулевую гипотезу ни для одного из экспериментов."
      ],
      "metadata": {
        "id": "-Hmri53Ixbtg"
      }
    },
    {
      "cell_type": "code",
      "source": [],
      "metadata": {
        "id": "CnE165AA3EUI"
      },
      "execution_count": null,
      "outputs": []
    }
  ]
}