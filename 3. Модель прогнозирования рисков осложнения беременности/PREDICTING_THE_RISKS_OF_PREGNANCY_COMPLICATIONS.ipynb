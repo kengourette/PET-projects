{
  "nbformat": 4,
  "nbformat_minor": 0,
  "metadata": {
    "colab": {
      "provenance": []
    },
    "kernelspec": {
      "name": "python3",
      "display_name": "Python 3"
    },
    "language_info": {
      "name": "python"
    },
    "widgets": {
      "application/vnd.jupyter.widget-state+json": {
        "a064d782ca3043908aa96b9e6f6fac90": {
          "model_module": "@jupyter-widgets/controls",
          "model_name": "HBoxModel",
          "model_module_version": "1.5.0",
          "state": {
            "_dom_classes": [],
            "_model_module": "@jupyter-widgets/controls",
            "_model_module_version": "1.5.0",
            "_model_name": "HBoxModel",
            "_view_count": null,
            "_view_module": "@jupyter-widgets/controls",
            "_view_module_version": "1.5.0",
            "_view_name": "HBoxView",
            "box_style": "",
            "children": [
              "IPY_MODEL_fdc5844638da478f9055a9ca2a1e6d89",
              "IPY_MODEL_654dd785fd4b427f82da82ef5ca54f1c",
              "IPY_MODEL_76cbb6c121484242a01b6197039a1718"
            ],
            "layout": "IPY_MODEL_280898932b0449ba8ad0aa8fb6c2a7d9"
          }
        },
        "fdc5844638da478f9055a9ca2a1e6d89": {
          "model_module": "@jupyter-widgets/controls",
          "model_name": "HTMLModel",
          "model_module_version": "1.5.0",
          "state": {
            "_dom_classes": [],
            "_model_module": "@jupyter-widgets/controls",
            "_model_module_version": "1.5.0",
            "_model_name": "HTMLModel",
            "_view_count": null,
            "_view_module": "@jupyter-widgets/controls",
            "_view_module_version": "1.5.0",
            "_view_name": "HTMLView",
            "description": "",
            "description_tooltip": null,
            "layout": "IPY_MODEL_8169d5f09eb240f5bc7df9c9e589b388",
            "placeholder": "​",
            "style": "IPY_MODEL_3dea2a4fca0b47b89c2f7b1e1f6214ea",
            "value": "100%"
          }
        },
        "654dd785fd4b427f82da82ef5ca54f1c": {
          "model_module": "@jupyter-widgets/controls",
          "model_name": "FloatProgressModel",
          "model_module_version": "1.5.0",
          "state": {
            "_dom_classes": [],
            "_model_module": "@jupyter-widgets/controls",
            "_model_module_version": "1.5.0",
            "_model_name": "FloatProgressModel",
            "_view_count": null,
            "_view_module": "@jupyter-widgets/controls",
            "_view_module_version": "1.5.0",
            "_view_name": "ProgressView",
            "bar_style": "success",
            "description": "",
            "description_tooltip": null,
            "layout": "IPY_MODEL_dcb00edfa8cf4ed18f166e6e65bdbcc0",
            "max": 1,
            "min": 0,
            "orientation": "horizontal",
            "style": "IPY_MODEL_bce6286f8fac4855b6ae38482a96844a",
            "value": 1
          }
        },
        "76cbb6c121484242a01b6197039a1718": {
          "model_module": "@jupyter-widgets/controls",
          "model_name": "HTMLModel",
          "model_module_version": "1.5.0",
          "state": {
            "_dom_classes": [],
            "_model_module": "@jupyter-widgets/controls",
            "_model_module_version": "1.5.0",
            "_model_name": "HTMLModel",
            "_view_count": null,
            "_view_module": "@jupyter-widgets/controls",
            "_view_module_version": "1.5.0",
            "_view_name": "HTMLView",
            "description": "",
            "description_tooltip": null,
            "layout": "IPY_MODEL_5c5902653671481ca92d101d56e6ff22",
            "placeholder": "​",
            "style": "IPY_MODEL_3703b776b3354a2da5f2c01462ac5186",
            "value": " 1/1 [00:00&lt;00:00,  8.96it/s]"
          }
        },
        "280898932b0449ba8ad0aa8fb6c2a7d9": {
          "model_module": "@jupyter-widgets/base",
          "model_name": "LayoutModel",
          "model_module_version": "1.2.0",
          "state": {
            "_model_module": "@jupyter-widgets/base",
            "_model_module_version": "1.2.0",
            "_model_name": "LayoutModel",
            "_view_count": null,
            "_view_module": "@jupyter-widgets/base",
            "_view_module_version": "1.2.0",
            "_view_name": "LayoutView",
            "align_content": null,
            "align_items": null,
            "align_self": null,
            "border": null,
            "bottom": null,
            "display": null,
            "flex": null,
            "flex_flow": null,
            "grid_area": null,
            "grid_auto_columns": null,
            "grid_auto_flow": null,
            "grid_auto_rows": null,
            "grid_column": null,
            "grid_gap": null,
            "grid_row": null,
            "grid_template_areas": null,
            "grid_template_columns": null,
            "grid_template_rows": null,
            "height": null,
            "justify_content": null,
            "justify_items": null,
            "left": null,
            "margin": null,
            "max_height": null,
            "max_width": null,
            "min_height": null,
            "min_width": null,
            "object_fit": null,
            "object_position": null,
            "order": null,
            "overflow": null,
            "overflow_x": null,
            "overflow_y": null,
            "padding": null,
            "right": null,
            "top": null,
            "visibility": null,
            "width": null
          }
        },
        "8169d5f09eb240f5bc7df9c9e589b388": {
          "model_module": "@jupyter-widgets/base",
          "model_name": "LayoutModel",
          "model_module_version": "1.2.0",
          "state": {
            "_model_module": "@jupyter-widgets/base",
            "_model_module_version": "1.2.0",
            "_model_name": "LayoutModel",
            "_view_count": null,
            "_view_module": "@jupyter-widgets/base",
            "_view_module_version": "1.2.0",
            "_view_name": "LayoutView",
            "align_content": null,
            "align_items": null,
            "align_self": null,
            "border": null,
            "bottom": null,
            "display": null,
            "flex": null,
            "flex_flow": null,
            "grid_area": null,
            "grid_auto_columns": null,
            "grid_auto_flow": null,
            "grid_auto_rows": null,
            "grid_column": null,
            "grid_gap": null,
            "grid_row": null,
            "grid_template_areas": null,
            "grid_template_columns": null,
            "grid_template_rows": null,
            "height": null,
            "justify_content": null,
            "justify_items": null,
            "left": null,
            "margin": null,
            "max_height": null,
            "max_width": null,
            "min_height": null,
            "min_width": null,
            "object_fit": null,
            "object_position": null,
            "order": null,
            "overflow": null,
            "overflow_x": null,
            "overflow_y": null,
            "padding": null,
            "right": null,
            "top": null,
            "visibility": null,
            "width": null
          }
        },
        "3dea2a4fca0b47b89c2f7b1e1f6214ea": {
          "model_module": "@jupyter-widgets/controls",
          "model_name": "DescriptionStyleModel",
          "model_module_version": "1.5.0",
          "state": {
            "_model_module": "@jupyter-widgets/controls",
            "_model_module_version": "1.5.0",
            "_model_name": "DescriptionStyleModel",
            "_view_count": null,
            "_view_module": "@jupyter-widgets/base",
            "_view_module_version": "1.2.0",
            "_view_name": "StyleView",
            "description_width": ""
          }
        },
        "dcb00edfa8cf4ed18f166e6e65bdbcc0": {
          "model_module": "@jupyter-widgets/base",
          "model_name": "LayoutModel",
          "model_module_version": "1.2.0",
          "state": {
            "_model_module": "@jupyter-widgets/base",
            "_model_module_version": "1.2.0",
            "_model_name": "LayoutModel",
            "_view_count": null,
            "_view_module": "@jupyter-widgets/base",
            "_view_module_version": "1.2.0",
            "_view_name": "LayoutView",
            "align_content": null,
            "align_items": null,
            "align_self": null,
            "border": null,
            "bottom": null,
            "display": null,
            "flex": null,
            "flex_flow": null,
            "grid_area": null,
            "grid_auto_columns": null,
            "grid_auto_flow": null,
            "grid_auto_rows": null,
            "grid_column": null,
            "grid_gap": null,
            "grid_row": null,
            "grid_template_areas": null,
            "grid_template_columns": null,
            "grid_template_rows": null,
            "height": null,
            "justify_content": null,
            "justify_items": null,
            "left": null,
            "margin": null,
            "max_height": null,
            "max_width": null,
            "min_height": null,
            "min_width": null,
            "object_fit": null,
            "object_position": null,
            "order": null,
            "overflow": null,
            "overflow_x": null,
            "overflow_y": null,
            "padding": null,
            "right": null,
            "top": null,
            "visibility": null,
            "width": null
          }
        },
        "bce6286f8fac4855b6ae38482a96844a": {
          "model_module": "@jupyter-widgets/controls",
          "model_name": "ProgressStyleModel",
          "model_module_version": "1.5.0",
          "state": {
            "_model_module": "@jupyter-widgets/controls",
            "_model_module_version": "1.5.0",
            "_model_name": "ProgressStyleModel",
            "_view_count": null,
            "_view_module": "@jupyter-widgets/base",
            "_view_module_version": "1.2.0",
            "_view_name": "StyleView",
            "bar_color": null,
            "description_width": ""
          }
        },
        "5c5902653671481ca92d101d56e6ff22": {
          "model_module": "@jupyter-widgets/base",
          "model_name": "LayoutModel",
          "model_module_version": "1.2.0",
          "state": {
            "_model_module": "@jupyter-widgets/base",
            "_model_module_version": "1.2.0",
            "_model_name": "LayoutModel",
            "_view_count": null,
            "_view_module": "@jupyter-widgets/base",
            "_view_module_version": "1.2.0",
            "_view_name": "LayoutView",
            "align_content": null,
            "align_items": null,
            "align_self": null,
            "border": null,
            "bottom": null,
            "display": null,
            "flex": null,
            "flex_flow": null,
            "grid_area": null,
            "grid_auto_columns": null,
            "grid_auto_flow": null,
            "grid_auto_rows": null,
            "grid_column": null,
            "grid_gap": null,
            "grid_row": null,
            "grid_template_areas": null,
            "grid_template_columns": null,
            "grid_template_rows": null,
            "height": null,
            "justify_content": null,
            "justify_items": null,
            "left": null,
            "margin": null,
            "max_height": null,
            "max_width": null,
            "min_height": null,
            "min_width": null,
            "object_fit": null,
            "object_position": null,
            "order": null,
            "overflow": null,
            "overflow_x": null,
            "overflow_y": null,
            "padding": null,
            "right": null,
            "top": null,
            "visibility": null,
            "width": null
          }
        },
        "3703b776b3354a2da5f2c01462ac5186": {
          "model_module": "@jupyter-widgets/controls",
          "model_name": "DescriptionStyleModel",
          "model_module_version": "1.5.0",
          "state": {
            "_model_module": "@jupyter-widgets/controls",
            "_model_module_version": "1.5.0",
            "_model_name": "DescriptionStyleModel",
            "_view_count": null,
            "_view_module": "@jupyter-widgets/base",
            "_view_module_version": "1.2.0",
            "_view_name": "StyleView",
            "description_width": ""
          }
        }
      }
    }
  },
  "cells": [
    {
      "cell_type": "markdown",
      "source": [
        "# **ПРОГНОЗИРОВАНИЕ РИСКОВ ОСЛОЖНЕНИЯ БЕРЕМЕННОСТИ**"
      ],
      "metadata": {
        "id": "Sy5W3_ofVWYh"
      }
    },
    {
      "cell_type": "markdown",
      "source": [
        "Выполнила: **Ольга Гелетуха**\n",
        "\n",
        "Контакты: https://t.me/kengourette"
      ],
      "metadata": {
        "id": "wvr2pxzoCE2f"
      }
    },
    {
      "cell_type": "markdown",
      "source": [
        "Необходимо на основании размеченных данных построить модель, прогнозирующую риск осложнения беременности.\n",
        "\n",
        "**В нашем распоряжении следующие данные:**\n",
        "\n",
        " - **Age**: Age in years when a woman is pregnant.\n",
        "\n",
        " - **SystolicBP**: Upper value of Blood Pressure in mmHg, another significant attribute during pregnancy.\n",
        "\n",
        " - **DiastolicBP**: Lower value of Blood Pressure in mmHg, another significant attribute during pregnancy.\n",
        "\n",
        " - **BS**: Blood glucose levels is in terms of a molar concentration, mmol/L.\n",
        "\n",
        " - **HeartRate**: A normal resting heart rate in beats per minute.\n",
        "\n",
        " - **Risk Level**: Predicted Risk Intensity Level during pregnancy considering the previous attribute."
      ],
      "metadata": {
        "id": "1r8rMGnzVX2Q"
      }
    },
    {
      "cell_type": "markdown",
      "source": [
        "## **1. Импорты библиотек и зависимостей**"
      ],
      "metadata": {
        "id": "vZOGfCgNX_gx"
      }
    },
    {
      "cell_type": "code",
      "execution_count": null,
      "metadata": {
        "id": "F6USvNacUtmP",
        "colab": {
          "base_uri": "https://localhost:8080/"
        },
        "outputId": "1e1f9ef5-355c-4a9b-83ae-94ded5c857b4"
      },
      "outputs": [
        {
          "output_type": "stream",
          "name": "stdout",
          "text": [
            "Requirement already satisfied: catboost in /usr/local/lib/python3.10/dist-packages (1.2.2)\n",
            "Requirement already satisfied: graphviz in /usr/local/lib/python3.10/dist-packages (from catboost) (0.20.1)\n",
            "Requirement already satisfied: matplotlib in /usr/local/lib/python3.10/dist-packages (from catboost) (3.7.1)\n",
            "Requirement already satisfied: numpy>=1.16.0 in /usr/local/lib/python3.10/dist-packages (from catboost) (1.23.5)\n",
            "Requirement already satisfied: pandas>=0.24 in /usr/local/lib/python3.10/dist-packages (from catboost) (1.5.3)\n",
            "Requirement already satisfied: scipy in /usr/local/lib/python3.10/dist-packages (from catboost) (1.11.4)\n",
            "Requirement already satisfied: plotly in /usr/local/lib/python3.10/dist-packages (from catboost) (5.15.0)\n",
            "Requirement already satisfied: six in /usr/local/lib/python3.10/dist-packages (from catboost) (1.16.0)\n",
            "Requirement already satisfied: python-dateutil>=2.8.1 in /usr/local/lib/python3.10/dist-packages (from pandas>=0.24->catboost) (2.8.2)\n",
            "Requirement already satisfied: pytz>=2020.1 in /usr/local/lib/python3.10/dist-packages (from pandas>=0.24->catboost) (2023.3.post1)\n",
            "Requirement already satisfied: contourpy>=1.0.1 in /usr/local/lib/python3.10/dist-packages (from matplotlib->catboost) (1.2.0)\n",
            "Requirement already satisfied: cycler>=0.10 in /usr/local/lib/python3.10/dist-packages (from matplotlib->catboost) (0.12.1)\n",
            "Requirement already satisfied: fonttools>=4.22.0 in /usr/local/lib/python3.10/dist-packages (from matplotlib->catboost) (4.47.0)\n",
            "Requirement already satisfied: kiwisolver>=1.0.1 in /usr/local/lib/python3.10/dist-packages (from matplotlib->catboost) (1.4.5)\n",
            "Requirement already satisfied: packaging>=20.0 in /usr/local/lib/python3.10/dist-packages (from matplotlib->catboost) (23.2)\n",
            "Requirement already satisfied: pillow>=6.2.0 in /usr/local/lib/python3.10/dist-packages (from matplotlib->catboost) (9.4.0)\n",
            "Requirement already satisfied: pyparsing>=2.3.1 in /usr/local/lib/python3.10/dist-packages (from matplotlib->catboost) (3.1.1)\n",
            "Requirement already satisfied: tenacity>=6.2.0 in /usr/local/lib/python3.10/dist-packages (from plotly->catboost) (8.2.3)\n"
          ]
        }
      ],
      "source": [
        "### os для обращения к среде разработки и requests для интернет запросов.\n",
        "import os, requests\n",
        "\n",
        "### Numpy для вычислений\n",
        "import numpy as np\n",
        "### Pandas для работы с датафреймами\n",
        "import pandas as pd\n",
        "\n",
        "### Визуализация.\n",
        "import matplotlib.pyplot as plt\n",
        "import seaborn as sns\n",
        "\n",
        "### Методы и классы для работы с моделями.\n",
        "## Разделение выборок\n",
        "from sklearn.model_selection import train_test_split\n",
        "## Масштабирование данных\n",
        "from sklearn.preprocessing import (RobustScaler,\n",
        "                                   StandardScaler,\n",
        "                                   QuantileTransformer,\n",
        "                                   LabelEncoder)\n",
        "### Метрики для оценки модели\n",
        "from sklearn import metrics\n",
        "from sklearn.metrics import (\n",
        "    accuracy_score,\n",
        "    f1_score,\n",
        "    precision_score,\n",
        "    precision_recall_curve,\n",
        "    recall_score,\n",
        "    roc_auc_score,\n",
        "    roc_curve,\n",
        "    multilabel_confusion_matrix,\n",
        "    ConfusionMatrixDisplay,\n",
        "    classification_report,\n",
        "    make_scorer\n",
        ")\n",
        "\n",
        "### Реализация пайплайнов\n",
        "from sklearn.compose import make_column_transformer\n",
        "from sklearn.pipeline import Pipeline\n",
        "from sklearn.compose import ColumnTransformer\n",
        "from sklearn.pipeline import make_pipeline\n",
        "\n",
        "### Реализация кросс-валидации\n",
        "from sklearn.model_selection import (\n",
        "    GridSearchCV,\n",
        "    train_test_split\n",
        ")\n",
        "\n",
        "### Модули для контроля времени и хода исполнения ячеек.\n",
        "## tqdm для контроля выполнения ячеек\n",
        "from tqdm.notebook import tqdm\n",
        "\n",
        "### Модели.\n",
        "## Классификация\n",
        "!pip install catboost\n",
        "from catboost import CatBoostClassifier, Pool\n",
        "from sklearn.ensemble import RandomForestClassifier\n",
        "from sklearn.linear_model import LogisticRegression\n",
        "\n",
        "### Настройки\n",
        "import warnings\n",
        "np.warnings = warnings\n",
        "warnings.filterwarnings(\"ignore\")\n",
        "\n",
        "### Константы\n",
        "RANDOM_STATE = 42"
      ]
    },
    {
      "cell_type": "markdown",
      "source": [
        "## **2. Загрузка и чтение данных.**"
      ],
      "metadata": {
        "id": "jsMfCbY_eb3b"
      }
    },
    {
      "cell_type": "code",
      "source": [
        "# Функция загрузки и записи в переменные любого количества датасетов\n",
        "# по ссылкам или пути с проверкой адреса/пути.\n",
        "def fetch_datasets(pths, separator=',', index_col=None, dtype=None):\n",
        "    '''\n",
        "    Функция извлекает и присваивает наборы данных переменным.\n",
        "    Аргументы:\n",
        "    - pths: str, list. Полный путь к строке в кавычках, или список ссылок, или\n",
        "     список путей к файлам в виде списка строк.\n",
        "    - separator: str, default=','. Разделитель в виде строки.\n",
        "    - Примеры: ('/datasets/file.csv' or ['https://datasets/file.csv'], 't').\n",
        "    '''\n",
        "\n",
        "    # Переведём путь в список при необходимости.\n",
        "    pths = [pths] if isinstance(pths, str) else pths\n",
        "\n",
        "    print('Начало загрузки и записи датасетов в переменные:')\n",
        "\n",
        "    for pth in tqdm(pths):\n",
        "        # Запишем название и расширение файла.\n",
        "        full_name = os.path.basename(pth)\n",
        "        name, extension = os.path.splitext(full_name)\n",
        "\n",
        "        # Проверим ссылку и запишем датасет в переменную.\n",
        "        if 'http' in pth:\n",
        "            # Воспользуемся try/except для непредвиденных ошибок.\n",
        "            try:\n",
        "                # Проверим корректность ссылки.\n",
        "                if requests.get(pth).status_code == 200:\n",
        "                    # Создадим переменную и запишем в неё датафрейм.\n",
        "                    globals()[name.lower()] = pd.read_csv(\n",
        "                        filepath_or_buffer=pth,\n",
        "                        sep=separator,\n",
        "                        index_col=index_col,\n",
        "                        dtype=dtype\n",
        "                        )\n",
        "                    print(f'Файл {full_name} прочитан и записан в переменную ',\n",
        "                          f'\"{name.lower()}\". \\nПуть к файлу: \\n{pth}')\n",
        "                    print('~' * 60)\n",
        "                else:\n",
        "                    print(f'Ошибка чтения файла по пути: {pth}')\n",
        "                    print('~' * 60)\n",
        "            except:\n",
        "                print(f'Ошибка чтения файла по пути: {pth}')\n",
        "\n",
        "        # Проверим путь и запишем датасет в переменную.\n",
        "        elif os.path.exists(pth):\n",
        "            # Создадим переменную и запишем в неё датафрейм.\n",
        "            globals()[name.lower()] = pd.read_csv(\n",
        "                filepath_or_buffer=pth,\n",
        "                sep=separator,\n",
        "                index_col=index_col,\n",
        "                dtype=dtype\n",
        "                )\n",
        "            print(f'Файл {full_name} прочитан и записан в переменную ',\n",
        "                  f'\"{name.lower()}\". \\nПуть к файлу: \\n{pth}')\n",
        "            print('~' * 60)\n",
        "\n",
        "        else:\n",
        "            print(f'Ошибка чтения файла по пути: {pth}.')\n",
        "            print('~' * 60)"
      ],
      "metadata": {
        "id": "qSahnhWYDQoS"
      },
      "execution_count": null,
      "outputs": []
    },
    {
      "cell_type": "code",
      "source": [
        "# Прочитаем и запишем датасеты в переменные.\n",
        "if os.getenv(\"COLAB_RELEASE_TAG\"):\n",
        "    '''\n",
        "    Подставляете в функцию свою ссылку на датасет\n",
        "    Maternal Health Risk Data Set.csv\n",
        "    '''\n",
        "\n",
        "    fetch_datasets('/content/drive/MyDrive/DATA/DOCTOR24_Testovoe /'+\n",
        "                   '/Maternal Health Risk Data Set.csv', index_col=0)\n",
        "\n",
        "else:\n",
        "    fetch_datasets('./datasets/Maternal Health Risk Data Set.csv', index_col=0)"
      ],
      "metadata": {
        "colab": {
          "base_uri": "https://localhost:8080/",
          "height": 140,
          "referenced_widgets": [
            "a064d782ca3043908aa96b9e6f6fac90",
            "fdc5844638da478f9055a9ca2a1e6d89",
            "654dd785fd4b427f82da82ef5ca54f1c",
            "76cbb6c121484242a01b6197039a1718",
            "280898932b0449ba8ad0aa8fb6c2a7d9",
            "8169d5f09eb240f5bc7df9c9e589b388",
            "3dea2a4fca0b47b89c2f7b1e1f6214ea",
            "dcb00edfa8cf4ed18f166e6e65bdbcc0",
            "bce6286f8fac4855b6ae38482a96844a",
            "5c5902653671481ca92d101d56e6ff22",
            "3703b776b3354a2da5f2c01462ac5186"
          ]
        },
        "id": "jKcosbHpDcNn",
        "outputId": "f17f93bc-c73e-4076-9319-ae5292e22736"
      },
      "execution_count": null,
      "outputs": [
        {
          "output_type": "stream",
          "name": "stdout",
          "text": [
            "Начало загрузки и записи датасетов в переменные:\n"
          ]
        },
        {
          "output_type": "display_data",
          "data": {
            "text/plain": [
              "  0%|          | 0/1 [00:00<?, ?it/s]"
            ],
            "application/vnd.jupyter.widget-view+json": {
              "version_major": 2,
              "version_minor": 0,
              "model_id": "a064d782ca3043908aa96b9e6f6fac90"
            }
          },
          "metadata": {}
        },
        {
          "output_type": "stream",
          "name": "stdout",
          "text": [
            "Файл Maternal Health Risk Data Set.csv прочитан и записан в переменную  \"maternal health risk data set\". \n",
            "Путь к файлу: \n",
            "/content/drive/MyDrive/DATA/DOCTOR24_Testovoe //Maternal Health Risk Data Set.csv\n",
            "~~~~~~~~~~~~~~~~~~~~~~~~~~~~~~~~~~~~~~~~~~~~~~~~~~~~~~~~~~~~\n"
          ]
        }
      ]
    },
    {
      "cell_type": "code",
      "source": [
        "df = pd.read_csv('/content/drive/MyDrive/DATA/DOCTOR24_Testovoe //Maternal Health Risk Data Set.csv')\n",
        "df"
      ],
      "metadata": {
        "colab": {
          "base_uri": "https://localhost:8080/",
          "height": 423
        },
        "id": "IO5LjmIGU1NY",
        "outputId": "f2cd0af6-7669-43a5-a354-7748c409b146"
      },
      "execution_count": null,
      "outputs": [
        {
          "output_type": "execute_result",
          "data": {
            "text/plain": [
              "      Age  SystolicBP  DiastolicBP    BS  BodyTemp  HeartRate  RiskLevel\n",
              "0      25         130           80  15.0      98.0         86  high risk\n",
              "1      35         140           90  13.0      98.0         70  high risk\n",
              "2      29          90           70   8.0     100.0         80  high risk\n",
              "3      30         140           85   7.0      98.0         70  high risk\n",
              "4      35         120           60   6.1      98.0         76   low risk\n",
              "...   ...         ...          ...   ...       ...        ...        ...\n",
              "1009   22         120           60  15.0      98.0         80  high risk\n",
              "1010   55         120           90  18.0      98.0         60  high risk\n",
              "1011   35          85           60  19.0      98.0         86  high risk\n",
              "1012   43         120           90  18.0      98.0         70  high risk\n",
              "1013   32         120           65   6.0     101.0         76   mid risk\n",
              "\n",
              "[1014 rows x 7 columns]"
            ],
            "text/html": [
              "\n",
              "  <div id=\"df-707b89e2-2714-48f3-9899-835071109d61\" class=\"colab-df-container\">\n",
              "    <div>\n",
              "<style scoped>\n",
              "    .dataframe tbody tr th:only-of-type {\n",
              "        vertical-align: middle;\n",
              "    }\n",
              "\n",
              "    .dataframe tbody tr th {\n",
              "        vertical-align: top;\n",
              "    }\n",
              "\n",
              "    .dataframe thead th {\n",
              "        text-align: right;\n",
              "    }\n",
              "</style>\n",
              "<table border=\"1\" class=\"dataframe\">\n",
              "  <thead>\n",
              "    <tr style=\"text-align: right;\">\n",
              "      <th></th>\n",
              "      <th>Age</th>\n",
              "      <th>SystolicBP</th>\n",
              "      <th>DiastolicBP</th>\n",
              "      <th>BS</th>\n",
              "      <th>BodyTemp</th>\n",
              "      <th>HeartRate</th>\n",
              "      <th>RiskLevel</th>\n",
              "    </tr>\n",
              "  </thead>\n",
              "  <tbody>\n",
              "    <tr>\n",
              "      <th>0</th>\n",
              "      <td>25</td>\n",
              "      <td>130</td>\n",
              "      <td>80</td>\n",
              "      <td>15.0</td>\n",
              "      <td>98.0</td>\n",
              "      <td>86</td>\n",
              "      <td>high risk</td>\n",
              "    </tr>\n",
              "    <tr>\n",
              "      <th>1</th>\n",
              "      <td>35</td>\n",
              "      <td>140</td>\n",
              "      <td>90</td>\n",
              "      <td>13.0</td>\n",
              "      <td>98.0</td>\n",
              "      <td>70</td>\n",
              "      <td>high risk</td>\n",
              "    </tr>\n",
              "    <tr>\n",
              "      <th>2</th>\n",
              "      <td>29</td>\n",
              "      <td>90</td>\n",
              "      <td>70</td>\n",
              "      <td>8.0</td>\n",
              "      <td>100.0</td>\n",
              "      <td>80</td>\n",
              "      <td>high risk</td>\n",
              "    </tr>\n",
              "    <tr>\n",
              "      <th>3</th>\n",
              "      <td>30</td>\n",
              "      <td>140</td>\n",
              "      <td>85</td>\n",
              "      <td>7.0</td>\n",
              "      <td>98.0</td>\n",
              "      <td>70</td>\n",
              "      <td>high risk</td>\n",
              "    </tr>\n",
              "    <tr>\n",
              "      <th>4</th>\n",
              "      <td>35</td>\n",
              "      <td>120</td>\n",
              "      <td>60</td>\n",
              "      <td>6.1</td>\n",
              "      <td>98.0</td>\n",
              "      <td>76</td>\n",
              "      <td>low risk</td>\n",
              "    </tr>\n",
              "    <tr>\n",
              "      <th>...</th>\n",
              "      <td>...</td>\n",
              "      <td>...</td>\n",
              "      <td>...</td>\n",
              "      <td>...</td>\n",
              "      <td>...</td>\n",
              "      <td>...</td>\n",
              "      <td>...</td>\n",
              "    </tr>\n",
              "    <tr>\n",
              "      <th>1009</th>\n",
              "      <td>22</td>\n",
              "      <td>120</td>\n",
              "      <td>60</td>\n",
              "      <td>15.0</td>\n",
              "      <td>98.0</td>\n",
              "      <td>80</td>\n",
              "      <td>high risk</td>\n",
              "    </tr>\n",
              "    <tr>\n",
              "      <th>1010</th>\n",
              "      <td>55</td>\n",
              "      <td>120</td>\n",
              "      <td>90</td>\n",
              "      <td>18.0</td>\n",
              "      <td>98.0</td>\n",
              "      <td>60</td>\n",
              "      <td>high risk</td>\n",
              "    </tr>\n",
              "    <tr>\n",
              "      <th>1011</th>\n",
              "      <td>35</td>\n",
              "      <td>85</td>\n",
              "      <td>60</td>\n",
              "      <td>19.0</td>\n",
              "      <td>98.0</td>\n",
              "      <td>86</td>\n",
              "      <td>high risk</td>\n",
              "    </tr>\n",
              "    <tr>\n",
              "      <th>1012</th>\n",
              "      <td>43</td>\n",
              "      <td>120</td>\n",
              "      <td>90</td>\n",
              "      <td>18.0</td>\n",
              "      <td>98.0</td>\n",
              "      <td>70</td>\n",
              "      <td>high risk</td>\n",
              "    </tr>\n",
              "    <tr>\n",
              "      <th>1013</th>\n",
              "      <td>32</td>\n",
              "      <td>120</td>\n",
              "      <td>65</td>\n",
              "      <td>6.0</td>\n",
              "      <td>101.0</td>\n",
              "      <td>76</td>\n",
              "      <td>mid risk</td>\n",
              "    </tr>\n",
              "  </tbody>\n",
              "</table>\n",
              "<p>1014 rows × 7 columns</p>\n",
              "</div>\n",
              "    <div class=\"colab-df-buttons\">\n",
              "\n",
              "  <div class=\"colab-df-container\">\n",
              "    <button class=\"colab-df-convert\" onclick=\"convertToInteractive('df-707b89e2-2714-48f3-9899-835071109d61')\"\n",
              "            title=\"Convert this dataframe to an interactive table.\"\n",
              "            style=\"display:none;\">\n",
              "\n",
              "  <svg xmlns=\"http://www.w3.org/2000/svg\" height=\"24px\" viewBox=\"0 -960 960 960\">\n",
              "    <path d=\"M120-120v-720h720v720H120Zm60-500h600v-160H180v160Zm220 220h160v-160H400v160Zm0 220h160v-160H400v160ZM180-400h160v-160H180v160Zm440 0h160v-160H620v160ZM180-180h160v-160H180v160Zm440 0h160v-160H620v160Z\"/>\n",
              "  </svg>\n",
              "    </button>\n",
              "\n",
              "  <style>\n",
              "    .colab-df-container {\n",
              "      display:flex;\n",
              "      gap: 12px;\n",
              "    }\n",
              "\n",
              "    .colab-df-convert {\n",
              "      background-color: #E8F0FE;\n",
              "      border: none;\n",
              "      border-radius: 50%;\n",
              "      cursor: pointer;\n",
              "      display: none;\n",
              "      fill: #1967D2;\n",
              "      height: 32px;\n",
              "      padding: 0 0 0 0;\n",
              "      width: 32px;\n",
              "    }\n",
              "\n",
              "    .colab-df-convert:hover {\n",
              "      background-color: #E2EBFA;\n",
              "      box-shadow: 0px 1px 2px rgba(60, 64, 67, 0.3), 0px 1px 3px 1px rgba(60, 64, 67, 0.15);\n",
              "      fill: #174EA6;\n",
              "    }\n",
              "\n",
              "    .colab-df-buttons div {\n",
              "      margin-bottom: 4px;\n",
              "    }\n",
              "\n",
              "    [theme=dark] .colab-df-convert {\n",
              "      background-color: #3B4455;\n",
              "      fill: #D2E3FC;\n",
              "    }\n",
              "\n",
              "    [theme=dark] .colab-df-convert:hover {\n",
              "      background-color: #434B5C;\n",
              "      box-shadow: 0px 1px 3px 1px rgba(0, 0, 0, 0.15);\n",
              "      filter: drop-shadow(0px 1px 2px rgba(0, 0, 0, 0.3));\n",
              "      fill: #FFFFFF;\n",
              "    }\n",
              "  </style>\n",
              "\n",
              "    <script>\n",
              "      const buttonEl =\n",
              "        document.querySelector('#df-707b89e2-2714-48f3-9899-835071109d61 button.colab-df-convert');\n",
              "      buttonEl.style.display =\n",
              "        google.colab.kernel.accessAllowed ? 'block' : 'none';\n",
              "\n",
              "      async function convertToInteractive(key) {\n",
              "        const element = document.querySelector('#df-707b89e2-2714-48f3-9899-835071109d61');\n",
              "        const dataTable =\n",
              "          await google.colab.kernel.invokeFunction('convertToInteractive',\n",
              "                                                    [key], {});\n",
              "        if (!dataTable) return;\n",
              "\n",
              "        const docLinkHtml = 'Like what you see? Visit the ' +\n",
              "          '<a target=\"_blank\" href=https://colab.research.google.com/notebooks/data_table.ipynb>data table notebook</a>'\n",
              "          + ' to learn more about interactive tables.';\n",
              "        element.innerHTML = '';\n",
              "        dataTable['output_type'] = 'display_data';\n",
              "        await google.colab.output.renderOutput(dataTable, element);\n",
              "        const docLink = document.createElement('div');\n",
              "        docLink.innerHTML = docLinkHtml;\n",
              "        element.appendChild(docLink);\n",
              "      }\n",
              "    </script>\n",
              "  </div>\n",
              "\n",
              "\n",
              "<div id=\"df-4869b2f6-357e-408b-b4d2-51b8ed502a3d\">\n",
              "  <button class=\"colab-df-quickchart\" onclick=\"quickchart('df-4869b2f6-357e-408b-b4d2-51b8ed502a3d')\"\n",
              "            title=\"Suggest charts\"\n",
              "            style=\"display:none;\">\n",
              "\n",
              "<svg xmlns=\"http://www.w3.org/2000/svg\" height=\"24px\"viewBox=\"0 0 24 24\"\n",
              "     width=\"24px\">\n",
              "    <g>\n",
              "        <path d=\"M19 3H5c-1.1 0-2 .9-2 2v14c0 1.1.9 2 2 2h14c1.1 0 2-.9 2-2V5c0-1.1-.9-2-2-2zM9 17H7v-7h2v7zm4 0h-2V7h2v10zm4 0h-2v-4h2v4z\"/>\n",
              "    </g>\n",
              "</svg>\n",
              "  </button>\n",
              "\n",
              "<style>\n",
              "  .colab-df-quickchart {\n",
              "      --bg-color: #E8F0FE;\n",
              "      --fill-color: #1967D2;\n",
              "      --hover-bg-color: #E2EBFA;\n",
              "      --hover-fill-color: #174EA6;\n",
              "      --disabled-fill-color: #AAA;\n",
              "      --disabled-bg-color: #DDD;\n",
              "  }\n",
              "\n",
              "  [theme=dark] .colab-df-quickchart {\n",
              "      --bg-color: #3B4455;\n",
              "      --fill-color: #D2E3FC;\n",
              "      --hover-bg-color: #434B5C;\n",
              "      --hover-fill-color: #FFFFFF;\n",
              "      --disabled-bg-color: #3B4455;\n",
              "      --disabled-fill-color: #666;\n",
              "  }\n",
              "\n",
              "  .colab-df-quickchart {\n",
              "    background-color: var(--bg-color);\n",
              "    border: none;\n",
              "    border-radius: 50%;\n",
              "    cursor: pointer;\n",
              "    display: none;\n",
              "    fill: var(--fill-color);\n",
              "    height: 32px;\n",
              "    padding: 0;\n",
              "    width: 32px;\n",
              "  }\n",
              "\n",
              "  .colab-df-quickchart:hover {\n",
              "    background-color: var(--hover-bg-color);\n",
              "    box-shadow: 0 1px 2px rgba(60, 64, 67, 0.3), 0 1px 3px 1px rgba(60, 64, 67, 0.15);\n",
              "    fill: var(--button-hover-fill-color);\n",
              "  }\n",
              "\n",
              "  .colab-df-quickchart-complete:disabled,\n",
              "  .colab-df-quickchart-complete:disabled:hover {\n",
              "    background-color: var(--disabled-bg-color);\n",
              "    fill: var(--disabled-fill-color);\n",
              "    box-shadow: none;\n",
              "  }\n",
              "\n",
              "  .colab-df-spinner {\n",
              "    border: 2px solid var(--fill-color);\n",
              "    border-color: transparent;\n",
              "    border-bottom-color: var(--fill-color);\n",
              "    animation:\n",
              "      spin 1s steps(1) infinite;\n",
              "  }\n",
              "\n",
              "  @keyframes spin {\n",
              "    0% {\n",
              "      border-color: transparent;\n",
              "      border-bottom-color: var(--fill-color);\n",
              "      border-left-color: var(--fill-color);\n",
              "    }\n",
              "    20% {\n",
              "      border-color: transparent;\n",
              "      border-left-color: var(--fill-color);\n",
              "      border-top-color: var(--fill-color);\n",
              "    }\n",
              "    30% {\n",
              "      border-color: transparent;\n",
              "      border-left-color: var(--fill-color);\n",
              "      border-top-color: var(--fill-color);\n",
              "      border-right-color: var(--fill-color);\n",
              "    }\n",
              "    40% {\n",
              "      border-color: transparent;\n",
              "      border-right-color: var(--fill-color);\n",
              "      border-top-color: var(--fill-color);\n",
              "    }\n",
              "    60% {\n",
              "      border-color: transparent;\n",
              "      border-right-color: var(--fill-color);\n",
              "    }\n",
              "    80% {\n",
              "      border-color: transparent;\n",
              "      border-right-color: var(--fill-color);\n",
              "      border-bottom-color: var(--fill-color);\n",
              "    }\n",
              "    90% {\n",
              "      border-color: transparent;\n",
              "      border-bottom-color: var(--fill-color);\n",
              "    }\n",
              "  }\n",
              "</style>\n",
              "\n",
              "  <script>\n",
              "    async function quickchart(key) {\n",
              "      const quickchartButtonEl =\n",
              "        document.querySelector('#' + key + ' button');\n",
              "      quickchartButtonEl.disabled = true;  // To prevent multiple clicks.\n",
              "      quickchartButtonEl.classList.add('colab-df-spinner');\n",
              "      try {\n",
              "        const charts = await google.colab.kernel.invokeFunction(\n",
              "            'suggestCharts', [key], {});\n",
              "      } catch (error) {\n",
              "        console.error('Error during call to suggestCharts:', error);\n",
              "      }\n",
              "      quickchartButtonEl.classList.remove('colab-df-spinner');\n",
              "      quickchartButtonEl.classList.add('colab-df-quickchart-complete');\n",
              "    }\n",
              "    (() => {\n",
              "      let quickchartButtonEl =\n",
              "        document.querySelector('#df-4869b2f6-357e-408b-b4d2-51b8ed502a3d button');\n",
              "      quickchartButtonEl.style.display =\n",
              "        google.colab.kernel.accessAllowed ? 'block' : 'none';\n",
              "    })();\n",
              "  </script>\n",
              "</div>\n",
              "    </div>\n",
              "  </div>\n"
            ]
          },
          "metadata": {},
          "execution_count": 4
        }
      ]
    },
    {
      "cell_type": "markdown",
      "source": [
        "## **3. EDA**"
      ],
      "metadata": {
        "id": "iWO_aPuOVTdv"
      }
    },
    {
      "cell_type": "code",
      "source": [
        "# Функция для первичного осмотра данных\n",
        "def df_eda(df):\n",
        "  print('Размер датафрейма:',df.shape, '\\n')\n",
        "  print('Столбцы и типы данных:')\n",
        "  print(df.info(), '\\n')\n",
        "  print('Общее кол-во пропусков:')\n",
        "  display(df.isna().sum().sum())\n",
        "  print('Общее кол-во дубликатов в датафрейме:')\n",
        "  display(df.duplicated().sum().sum())"
      ],
      "metadata": {
        "id": "VJxbp53wU1SX"
      },
      "execution_count": null,
      "outputs": []
    },
    {
      "cell_type": "code",
      "source": [
        "df_eda(df)"
      ],
      "metadata": {
        "id": "ogLS5ODMgPr4",
        "colab": {
          "base_uri": "https://localhost:8080/",
          "height": 436
        },
        "outputId": "dbafacd3-e51e-4b56-c8d7-72d3255b354c"
      },
      "execution_count": null,
      "outputs": [
        {
          "output_type": "stream",
          "name": "stdout",
          "text": [
            "Размер датафрейма: (1014, 7) \n",
            "\n",
            "Столбцы и типы данных:\n",
            "<class 'pandas.core.frame.DataFrame'>\n",
            "RangeIndex: 1014 entries, 0 to 1013\n",
            "Data columns (total 7 columns):\n",
            " #   Column       Non-Null Count  Dtype  \n",
            "---  ------       --------------  -----  \n",
            " 0   Age          1014 non-null   int64  \n",
            " 1   SystolicBP   1014 non-null   int64  \n",
            " 2   DiastolicBP  1014 non-null   int64  \n",
            " 3   BS           1014 non-null   float64\n",
            " 4   BodyTemp     1014 non-null   float64\n",
            " 5   HeartRate    1014 non-null   int64  \n",
            " 6   RiskLevel    1014 non-null   object \n",
            "dtypes: float64(2), int64(4), object(1)\n",
            "memory usage: 55.6+ KB\n",
            "None \n",
            "\n",
            "Общее кол-во пропусков:\n"
          ]
        },
        {
          "output_type": "display_data",
          "data": {
            "text/plain": [
              "0"
            ]
          },
          "metadata": {}
        },
        {
          "output_type": "stream",
          "name": "stdout",
          "text": [
            "Общее кол-во дубликатов в датафрейме:\n"
          ]
        },
        {
          "output_type": "display_data",
          "data": {
            "text/plain": [
              "562"
            ]
          },
          "metadata": {}
        }
      ]
    },
    {
      "cell_type": "code",
      "source": [
        "df.columns"
      ],
      "metadata": {
        "colab": {
          "base_uri": "https://localhost:8080/"
        },
        "id": "owmKFVAnLryn",
        "outputId": "62e74b14-5b2f-431f-f4a2-9d822a20ae11"
      },
      "execution_count": null,
      "outputs": [
        {
          "output_type": "execute_result",
          "data": {
            "text/plain": [
              "Index(['Age', 'SystolicBP', 'DiastolicBP', 'BS', 'BodyTemp', 'HeartRate',\n",
              "       'RiskLevel'],\n",
              "      dtype='object')"
            ]
          },
          "metadata": {},
          "execution_count": 7
        }
      ]
    },
    {
      "cell_type": "code",
      "source": [
        "num_cols = ['Age', 'SystolicBP', 'DiastolicBP', 'BS', 'BodyTemp', 'HeartRate']\n",
        "\n",
        "fig, axs = plt.subplots(2, 3, figsize=(20, 8))\n",
        "plt.suptitle('Гистограммы распределения признаков', fontsize=13)\n",
        "plt.subplots_adjust(top=0.91)\n",
        "\n",
        "for i, col in enumerate(num_cols):\n",
        "    axs[i//3, i%3].hist(df[col], bins=50)\n",
        "    axs[i//3, i%3].set_title(col)\n",
        "\n",
        "plt.show()"
      ],
      "metadata": {
        "colab": {
          "base_uri": "https://localhost:8080/",
          "height": 607
        },
        "id": "eaRNF1ZmJPTT",
        "outputId": "26beffbb-46f5-47b0-9077-3fccf1c9b562"
      },
      "execution_count": null,
      "outputs": [
        {
          "output_type": "display_data",
          "data": {
            "text/plain": [
              "<Figure size 2000x800 with 6 Axes>"
            ],
            "image/png": "[encoded data removed]"
          },
          "metadata": {}
        }
      ]
    },
    {
      "cell_type": "code",
      "source": [
        "# Проверяем данные на мультиколлинеарность\n",
        "plt.figure(figsize=(10,5))\n",
        "sns.heatmap(df.corr(), vmax=1, vmin=-1, annot=True)\n",
        "plt.suptitle('Тепловая карта корреляции численных признаков', fontsize=13)\n",
        "plt.subplots_adjust(top=0.91)\n",
        "plt.show()"
      ],
      "metadata": {
        "id": "oUNGtQamhKB4",
        "colab": {
          "base_uri": "https://localhost:8080/",
          "height": 495
        },
        "outputId": "d936dd51-721c-4c0b-a15f-75faba352ac6"
      },
      "execution_count": null,
      "outputs": [
        {
          "output_type": "display_data",
          "data": {
            "text/plain": [
              "<Figure size 1000x500 with 2 Axes>"
            ],
            "image/png": "[encoded data removed]"
          },
          "metadata": {}
        }
      ]
    },
    {
      "cell_type": "code",
      "source": [
        "# Функция для исследования признаков на наличие выбросов и характер\n",
        "def variable_boxplot(df, title, xlabel):\n",
        "  plt.figure(figsize=[10,1])\n",
        "\n",
        "  sns.boxplot(x = df)\n",
        "  plt.title(title)\n",
        "  plt.xlabel(xlabel)\n",
        "\n",
        "  plt.show()\n",
        "\n",
        "  print('Статистики признака')\n",
        "  print(df.describe())\n",
        "  print()\n",
        "  print('Количество уникальных значений в признаке:',df.nunique(), sep='')\n",
        "  print()\n",
        "  print('Топ-10 самых частых значений')\n",
        "  print(df.value_counts(ascending=False).head(10))\n",
        "  print()\n",
        "  print('*'*60)\n",
        "  print()"
      ],
      "metadata": {
        "id": "QqTzblzDnT5D"
      },
      "execution_count": null,
      "outputs": []
    },
    {
      "cell_type": "code",
      "source": [
        "numeric_cols = list(df.columns[:-1])\n",
        "numeric_cols"
      ],
      "metadata": {
        "id": "6P95WBRDpCfw",
        "colab": {
          "base_uri": "https://localhost:8080/"
        },
        "outputId": "17486dad-ff01-4b8f-fad8-93116ae3e133"
      },
      "execution_count": null,
      "outputs": [
        {
          "output_type": "execute_result",
          "data": {
            "text/plain": [
              "['Age', 'SystolicBP', 'DiastolicBP', 'BS', 'BodyTemp', 'HeartRate']"
            ]
          },
          "metadata": {},
          "execution_count": 12
        }
      ]
    },
    {
      "cell_type": "code",
      "source": [
        "for col in numeric_cols:\n",
        "  variable_boxplot(df[col], ('Распределение значений для признака',col), col)"
      ],
      "metadata": {
        "id": "sD9cPoV8ntLN",
        "colab": {
          "base_uri": "https://localhost:8080/",
          "height": 1000
        },
        "outputId": "76348191-a1d6-476b-8b97-1181adb63277"
      },
      "execution_count": null,
      "outputs": [
        {
          "output_type": "display_data",
          "data": {
            "text/plain": [
              "<Figure size 1000x100 with 1 Axes>"
            ],
            "image/png": "[encoded data removed]"
          },
          "metadata": {}
        },
        {
          "output_type": "stream",
          "name": "stdout",
          "text": [
            "Статистики признака\n",
            "count    1014.000000\n",
            "mean       29.871795\n",
            "std        13.474386\n",
            "min        10.000000\n",
            "25%        19.000000\n",
            "50%        26.000000\n",
            "75%        39.000000\n",
            "max        70.000000\n",
            "Name: Age, dtype: float64\n",
            "\n",
            "Количество уникальных значений в признаке:50\n",
            "\n",
            "Топ-10 самых частых значений\n",
            "23    71\n",
            "19    67\n",
            "17    63\n",
            "15    60\n",
            "35    50\n",
            "25    48\n",
            "32    48\n",
            "22    45\n",
            "50    43\n",
            "29    40\n",
            "Name: Age, dtype: int64\n",
            "\n",
            "************************************************************\n",
            "\n"
          ]
        },
        {
          "output_type": "display_data",
          "data": {
            "text/plain": [
              "<Figure size 1000x100 with 1 Axes>"
            ],
            "image/png": "[encoded data removed]"
          },
          "metadata": {}
        },
        {
          "output_type": "stream",
          "name": "stdout",
          "text": [
            "Статистики признака\n",
            "count    1014.000000\n",
            "mean      113.198225\n",
            "std        18.403913\n",
            "min        70.000000\n",
            "25%       100.000000\n",
            "50%       120.000000\n",
            "75%       120.000000\n",
            "max       160.000000\n",
            "Name: SystolicBP, dtype: float64\n",
            "\n",
            "Количество уникальных значений в признаке:19\n",
            "\n",
            "Топ-10 самых частых значений\n",
            "120    449\n",
            "90     154\n",
            "140    120\n",
            "100     92\n",
            "130     60\n",
            "85      43\n",
            "110     19\n",
            "76      16\n",
            "95      12\n",
            "160     10\n",
            "Name: SystolicBP, dtype: int64\n",
            "\n",
            "************************************************************\n",
            "\n"
          ]
        },
        {
          "output_type": "display_data",
          "data": {
            "text/plain": [
              "<Figure size 1000x100 with 1 Axes>"
            ],
            "image/png": "[encoded data removed]"
          },
          "metadata": {}
        },
        {
          "output_type": "stream",
          "name": "stdout",
          "text": [
            "Статистики признака\n",
            "count    1014.000000\n",
            "mean       76.460552\n",
            "std        13.885796\n",
            "min        49.000000\n",
            "25%        65.000000\n",
            "50%        80.000000\n",
            "75%        90.000000\n",
            "max       100.000000\n",
            "Name: DiastolicBP, dtype: float64\n",
            "\n",
            "Количество уникальных значений в признаке:16\n",
            "\n",
            "Топ-10 самых частых значений\n",
            "80     226\n",
            "60     174\n",
            "90     153\n",
            "70     100\n",
            "100     87\n",
            "65      87\n",
            "85      49\n",
            "75      38\n",
            "95      36\n",
            "49      25\n",
            "Name: DiastolicBP, dtype: int64\n",
            "\n",
            "************************************************************\n",
            "\n"
          ]
        },
        {
          "output_type": "display_data",
          "data": {
            "text/plain": [
              "<Figure size 1000x100 with 1 Axes>"
            ],
            "image/png": "[encoded data removed]"
          },
          "metadata": {}
        },
        {
          "output_type": "stream",
          "name": "stdout",
          "text": [
            "Статистики признака\n",
            "count    1014.000000\n",
            "mean        8.725986\n",
            "std         3.293532\n",
            "min         6.000000\n",
            "25%         6.900000\n",
            "50%         7.500000\n",
            "75%         8.000000\n",
            "max        19.000000\n",
            "Name: BS, dtype: float64\n",
            "\n",
            "Количество уникальных значений в признаке:29\n",
            "\n",
            "Топ-10 самых частых значений\n",
            "7.5     176\n",
            "6.9     113\n",
            "6.8      88\n",
            "7.0      79\n",
            "7.9      60\n",
            "15.0     54\n",
            "6.1      53\n",
            "11.0     52\n",
            "7.8      45\n",
            "6.7      33\n",
            "Name: BS, dtype: int64\n",
            "\n",
            "************************************************************\n",
            "\n"
          ]
        },
        {
          "output_type": "display_data",
          "data": {
            "text/plain": [
              "<Figure size 1000x100 with 1 Axes>"
            ],
            "image/png": "[encoded data removed]"
          },
          "metadata": {}
        },
        {
          "output_type": "stream",
          "name": "stdout",
          "text": [
            "Статистики признака\n",
            "count    1014.000000\n",
            "mean       98.665089\n",
            "std         1.371384\n",
            "min        98.000000\n",
            "25%        98.000000\n",
            "50%        98.000000\n",
            "75%        98.000000\n",
            "max       103.000000\n",
            "Name: BodyTemp, dtype: float64\n",
            "\n",
            "Количество уникальных значений в признаке:8\n",
            "\n",
            "Топ-10 самых частых значений\n",
            "98.0     804\n",
            "101.0     98\n",
            "102.0     66\n",
            "100.0     20\n",
            "103.0     13\n",
            "99.0      10\n",
            "98.4       2\n",
            "98.6       1\n",
            "Name: BodyTemp, dtype: int64\n",
            "\n",
            "************************************************************\n",
            "\n"
          ]
        },
        {
          "output_type": "display_data",
          "data": {
            "text/plain": [
              "<Figure size 1000x100 with 1 Axes>"
            ],
            "image/png": "[encoded data removed]"
          },
          "metadata": {}
        },
        {
          "output_type": "stream",
          "name": "stdout",
          "text": [
            "Статистики признака\n",
            "count    1014.000000\n",
            "mean       74.301775\n",
            "std         8.088702\n",
            "min         7.000000\n",
            "25%        70.000000\n",
            "50%        76.000000\n",
            "75%        80.000000\n",
            "max        90.000000\n",
            "Name: HeartRate, dtype: float64\n",
            "\n",
            "Количество уникальных значений в признаке:16\n",
            "\n",
            "Топ-10 самых частых значений\n",
            "70    271\n",
            "76    131\n",
            "80    117\n",
            "77     96\n",
            "66     87\n",
            "60     74\n",
            "88     59\n",
            "86     55\n",
            "78     46\n",
            "90     19\n",
            "Name: HeartRate, dtype: int64\n",
            "\n",
            "************************************************************\n",
            "\n"
          ]
        }
      ]
    },
    {
      "cell_type": "code",
      "source": [
        "# Баланс классов в таргете\n",
        "df.RiskLevel.value_counts(normalize=True)"
      ],
      "metadata": {
        "id": "DUAgP77Pj266",
        "colab": {
          "base_uri": "https://localhost:8080/"
        },
        "outputId": "9ecb5990-60ab-4e51-b06f-6b022336b2ae"
      },
      "execution_count": null,
      "outputs": [
        {
          "output_type": "execute_result",
          "data": {
            "text/plain": [
              "low risk     0.400394\n",
              "mid risk     0.331361\n",
              "high risk    0.268245\n",
              "Name: RiskLevel, dtype: float64"
            ]
          },
          "metadata": {},
          "execution_count": 14
        }
      ]
    },
    {
      "cell_type": "code",
      "source": [
        "# Построим гистограмму частотности классов в таргете\n",
        "plt.figure(figsize=(8, 3))\n",
        "\n",
        "df['RiskLevel'].hist(edgecolor='k')\n",
        "\n",
        "plt.title('Баланс класов в таргете')\n",
        "plt.xlabel('Метка класса')\n",
        "plt.ylabel('Количество значений')\n",
        "plt.xticks(rotation=0)\n",
        "plt.show()"
      ],
      "metadata": {
        "id": "jZ_lvSSOkEwD",
        "colab": {
          "base_uri": "https://localhost:8080/",
          "height": 333
        },
        "outputId": "8182cb89-b69a-47f9-8c19-02962fb0e551"
      },
      "execution_count": null,
      "outputs": [
        {
          "output_type": "display_data",
          "data": {
            "text/plain": [
              "<Figure size 800x300 with 1 Axes>"
            ],
            "image/png": "[encoded data removed]"
          },
          "metadata": {}
        }
      ]
    },
    {
      "cell_type": "markdown",
      "source": [
        "###**EDA. Вывод.**\n",
        "\n",
        "- __Размер датасета.__\n",
        "  - 1014 X 7\n",
        "- __Формат признаков.__\n",
        "  - Признаки в численном представлении, таргет - строка.\n",
        "  - Приведение к другим типам не требуется.\n",
        "- __Пропуски и дубликаты.__\n",
        "  - Данные не имеют пропусков.\n",
        "  - Количество явных дубликатов = 562. Учитывая смысловой характер данных(показатели организма), они не являются дубликатами, а указывают на совпадение показателей для разных наблюдений, и следовательно удалять их из датасета нельзя.\n",
        "- __Распределение и характер признаков.__\n",
        "  - Признаки имеют различный масштаб.\n",
        "  - Признаки имеют ненормальное распределение.\n",
        "  - Распределение признака `Age` приближено к нормальному.\n",
        "- __Выбросы / аномалии.__\n",
        "  - Почти во всех признаках среднее близко к медиане и присутствует минимальный процент выбросов.\n",
        "- __Корреляция признаков / мультиколлинеарность.__\n",
        "  - Признаки `SystolicBP` и `DiastolicBP` имеют относительно высокий коэффициент корреляции = 0.79.\n",
        "  - В остальных признаках значимая корреляция отсутствует.\n",
        "- __Баланс классов в таргете.__\n",
        "  - Значения в таргете сбалансированы, доли классов следующие:\n",
        "     - `low risk`  -   0.40\n",
        "     - `mid risk`  -   0.33\n",
        "     - `high risk` -   0.27\n",
        "\n",
        "По итогу EDA данные готовы к моделированию. На этапе построения baseline никакой специальной предварительной обработки не потребуется. Возможно, при дальнейшей доработке baseline потребуется обработка выбросов."
      ],
      "metadata": {
        "id": "nylFRfyglNqH"
      }
    },
    {
      "cell_type": "markdown",
      "source": [
        "## **4. Baseline**\n",
        "\n",
        "В качестве baseline построим простой линейный классификатор на базе логистической регрессии.\n",
        "\n",
        "Для оценки качества моделей будем использовать метрики precision, recall, f1_score, accuracy."
      ],
      "metadata": {
        "id": "_qS5_XkdsZBH"
      }
    },
    {
      "cell_type": "markdown",
      "source": [
        "#### **4.1.Разделение данных на выборки**"
      ],
      "metadata": {
        "id": "F5JSj9LCv6u_"
      }
    },
    {
      "cell_type": "code",
      "execution_count": null,
      "metadata": {
        "id": "F2gViCJ2BcVL"
      },
      "outputs": [],
      "source": [
        "# Делим признаки на фичи и таргет:\n",
        "X = df.drop('RiskLevel', axis=1)\n",
        "y = df['RiskLevel']"
      ]
    },
    {
      "cell_type": "code",
      "source": [
        "# Разбиваем на выборки - обучающую и тестовую:\n",
        "X_train, X_test, y_train, y_test = train_test_split(X, y, test_size=0.2, random_state=RANDOM_STATE, stratify=y)"
      ],
      "metadata": {
        "id": "Fm1n0bP4EpjR"
      },
      "execution_count": null,
      "outputs": []
    },
    {
      "cell_type": "code",
      "source": [
        "# Выделяем из train валидационную выборку\n",
        "\n",
        "# Но сначала создадим полную обучающую выборку, в которой объединены train и val\n",
        "train_full_X = X_train\n",
        "train_full_y = y_train\n",
        "\n",
        "# Выделим валидационную выборку:\n",
        "X_train, X_valid, y_train, y_valid = train_test_split(X_train, y_train, test_size=0.25, random_state=RANDOM_STATE, stratify=y_train)\n",
        "\n",
        "# Проверим размеры сетов\n",
        "print('Изначальный датафрейм после предобработки:', df.shape)\n",
        "print('X_train:', X_train.shape)\n",
        "print('X_valid:', X_valid.shape)\n",
        "print('X_test:', X_test.shape)\n",
        "print('Полный обучающий сет train_full_X:', train_full_X.shape)"
      ],
      "metadata": {
        "colab": {
          "base_uri": "https://localhost:8080/"
        },
        "id": "oHYQIOi2v4QB",
        "outputId": "a0fa7d2d-11c2-4b98-fb12-4cc318af4fcf"
      },
      "execution_count": null,
      "outputs": [
        {
          "output_type": "stream",
          "name": "stdout",
          "text": [
            "Изначальный датафрейм после предобработки: (1014, 7)\n",
            "X_train: (608, 6)\n",
            "X_valid: (203, 6)\n",
            "X_test: (203, 6)\n",
            "Полный обучающий сет train_full_X: (811, 6)\n"
          ]
        }
      ]
    },
    {
      "cell_type": "markdown",
      "source": [
        "#### **4.2.Фильтрация выбросов и формирование выборок на отфильтрованных данных**\n",
        "\n",
        "Создадим второй набор выборок, сформированный на данных после удаления выбросов.\n",
        "\n",
        "Фильтрацию выбросов будем делать по следующим условиям:\n",
        "\n",
        "   - удаляем: `Age` > 65\n",
        "   - удаляем: `HeartRate` < 60\n",
        "   - удаляем: `SystolicBP` > 140\n",
        "   - удаляем: `BS` > 9"
      ],
      "metadata": {
        "id": "fGLrJrDfsCPd"
      }
    },
    {
      "cell_type": "code",
      "source": [
        "df_filtered = df.query('Age <=65 and HeartRate >= 60 and SystolicBP <=140 and BS <=9').copy()\n",
        "df_eda(df_filtered)"
      ],
      "metadata": {
        "colab": {
          "base_uri": "https://localhost:8080/",
          "height": 436
        },
        "id": "NOIIBtvQsCti",
        "outputId": "a900d969-ac20-4b68-d65a-2f315702cd78"
      },
      "execution_count": null,
      "outputs": [
        {
          "output_type": "stream",
          "name": "stdout",
          "text": [
            "Размер датафрейма: (800, 7) \n",
            "\n",
            "Столбцы и типы данных:\n",
            "<class 'pandas.core.frame.DataFrame'>\n",
            "Int64Index: 800 entries, 2 to 1013\n",
            "Data columns (total 7 columns):\n",
            " #   Column       Non-Null Count  Dtype  \n",
            "---  ------       --------------  -----  \n",
            " 0   Age          800 non-null    int64  \n",
            " 1   SystolicBP   800 non-null    int64  \n",
            " 2   DiastolicBP  800 non-null    int64  \n",
            " 3   BS           800 non-null    float64\n",
            " 4   BodyTemp     800 non-null    float64\n",
            " 5   HeartRate    800 non-null    int64  \n",
            " 6   RiskLevel    800 non-null    object \n",
            "dtypes: float64(2), int64(4), object(1)\n",
            "memory usage: 50.0+ KB\n",
            "None \n",
            "\n",
            "Общее кол-во пропусков:\n"
          ]
        },
        {
          "output_type": "display_data",
          "data": {
            "text/plain": [
              "0"
            ]
          },
          "metadata": {}
        },
        {
          "output_type": "stream",
          "name": "stdout",
          "text": [
            "Общее кол-во дубликатов в датафрейме:\n"
          ]
        },
        {
          "output_type": "display_data",
          "data": {
            "text/plain": [
              "422"
            ]
          },
          "metadata": {}
        }
      ]
    },
    {
      "cell_type": "code",
      "execution_count": null,
      "metadata": {
        "id": "4WfEICJSuULw"
      },
      "outputs": [],
      "source": [
        "# Делим признаки на фичи и таргет:\n",
        "X_filter = df_filtered.drop('RiskLevel', axis=1)\n",
        "y_filter = df_filtered['RiskLevel']"
      ]
    },
    {
      "cell_type": "code",
      "source": [
        "# Разбиваем на выборки - обучающую и тестовую:\n",
        "X_filter_train, X_filter_test, y_filter_train, y_filter_test = train_test_split(\n",
        "    X_filter,\n",
        "    y_filter,\n",
        "    test_size=0.2,\n",
        "    random_state=RANDOM_STATE,\n",
        "    stratify=y_filter\n",
        "    )"
      ],
      "metadata": {
        "id": "DGUI5KfuuUMI"
      },
      "execution_count": null,
      "outputs": []
    },
    {
      "cell_type": "code",
      "source": [
        "# Выделяем из train_filter валидационную выборку\n",
        "\n",
        "# Но сначала создадим полную обучающую выборку, в которой объединены train и val\n",
        "train_full_X_filter = X_filter_train\n",
        "train_full_y_filter = y_filter_train\n",
        "\n",
        "# Выделим валидационную выборку:\n",
        "X_filter_train, X_filter_valid, y_filter_train, y_filter_valid = train_test_split(\n",
        "    X_filter_train,\n",
        "    y_filter_train,\n",
        "    test_size=0.25,\n",
        "    random_state=RANDOM_STATE,\n",
        "    stratify=y_filter_train\n",
        "    )\n",
        "\n",
        "# Проверим размеры сетов\n",
        "print('Изначальный датафрейм после предобработки:', df_filtered.shape)\n",
        "print('X_filter_train:', X_filter_train.shape)\n",
        "print('X_filter_valid:', X_filter_valid.shape)\n",
        "print('X_filter_test:', X_filter_test.shape)\n",
        "print('Полный обучающий сет train_full_X_filter:', train_full_X_filter.shape)"
      ],
      "metadata": {
        "colab": {
          "base_uri": "https://localhost:8080/"
        },
        "outputId": "8478da13-81d4-4c93-82b0-2167fc0b363a",
        "id": "hAVP9R2IuUMK"
      },
      "execution_count": null,
      "outputs": [
        {
          "output_type": "stream",
          "name": "stdout",
          "text": [
            "Изначальный датафрейм после предобработки: (800, 7)\n",
            "X_filter_train: (480, 6)\n",
            "X_filter_valid: (160, 6)\n",
            "X_filter_test: (160, 6)\n",
            "Полный обучающий сет train_full_X_filter: (640, 6)\n"
          ]
        }
      ]
    },
    {
      "cell_type": "markdown",
      "source": [
        "**Функция для вывода основных метрик**"
      ],
      "metadata": {
        "id": "WwssLuX0qWdu"
      }
    },
    {
      "cell_type": "code",
      "source": [
        "# Функция для вывода основных метрик\n",
        "def get_metrics(X, y, model):\n",
        "\n",
        "  '''Функция принимает на вход:\n",
        "      - выборку для формирования предсказания\n",
        "      - таргет для расчета метрик качества предсказания\n",
        "      - модель\n",
        "    Выдает рассчитанные метрики'''\n",
        "\n",
        "  f1_macro = metrics.f1_score(y, model.predict(X), average='macro')\n",
        "  accuracy = accuracy_score(y, model.predict(X))\n",
        "  precision = precision_score(y, model.predict(X), average='macro')\n",
        "  recall = recall_score(y, model.predict(X), average='macro')\n",
        "\n",
        "  print('\\033[1mМетрики\\033[0m')\n",
        "  print('F1-macro:', f1_macro.round(3))\n",
        "  print('Accuracy:', accuracy.round(3))\n",
        "  print('Precision:', precision.round(3))\n",
        "  print('Recall:', recall.round(3))"
      ],
      "metadata": {
        "id": "k8NliVq0M6GJ"
      },
      "execution_count": null,
      "outputs": []
    },
    {
      "cell_type": "markdown",
      "source": [
        "#### **4.2. Моделирование baseline**"
      ],
      "metadata": {
        "id": "oXgDC9ykwpTY"
      }
    },
    {
      "cell_type": "code",
      "source": [
        "%%time\n",
        "\n",
        "model_base = LogisticRegression(random_state=RANDOM_STATE, n_jobs=-1)\n",
        "model_base.fit(X_train, y_train)"
      ],
      "metadata": {
        "colab": {
          "base_uri": "https://localhost:8080/",
          "height": 111
        },
        "id": "PsA8otxTxCgL",
        "outputId": "0f9f65a2-d0b7-4284-fe31-62a95b6262aa"
      },
      "execution_count": null,
      "outputs": [
        {
          "output_type": "stream",
          "name": "stdout",
          "text": [
            "CPU times: user 45.8 ms, sys: 72.5 ms, total: 118 ms\n",
            "Wall time: 1.37 s\n"
          ]
        },
        {
          "output_type": "execute_result",
          "data": {
            "text/plain": [
              "LogisticRegression(n_jobs=-1, random_state=42)"
            ],
            "text/html": [
              "<style>#sk-container-id-1 {color: black;background-color: white;}#sk-container-id-1 pre{padding: 0;}#sk-container-id-1 div.sk-toggleable {background-color: white;}#sk-container-id-1 label.sk-toggleable__label {cursor: pointer;display: block;width: 100%;margin-bottom: 0;padding: 0.3em;box-sizing: border-box;text-align: center;}#sk-container-id-1 label.sk-toggleable__label-arrow:before {content: \"▸\";float: left;margin-right: 0.25em;color: #696969;}#sk-container-id-1 label.sk-toggleable__label-arrow:hover:before {color: black;}#sk-container-id-1 div.sk-estimator:hover label.sk-toggleable__label-arrow:before {color: black;}#sk-container-id-1 div.sk-toggleable__content {max-height: 0;max-width: 0;overflow: hidden;text-align: left;background-color: #f0f8ff;}#sk-container-id-1 div.sk-toggleable__content pre {margin: 0.2em;color: black;border-radius: 0.25em;background-color: #f0f8ff;}#sk-container-id-1 input.sk-toggleable__control:checked~div.sk-toggleable__content {max-height: 200px;max-width: 100%;overflow: auto;}#sk-container-id-1 input.sk-toggleable__control:checked~label.sk-toggleable__label-arrow:before {content: \"▾\";}#sk-container-id-1 div.sk-estimator input.sk-toggleable__control:checked~label.sk-toggleable__label {background-color: #d4ebff;}#sk-container-id-1 div.sk-label input.sk-toggleable__control:checked~label.sk-toggleable__label {background-color: #d4ebff;}#sk-container-id-1 input.sk-hidden--visually {border: 0;clip: rect(1px 1px 1px 1px);clip: rect(1px, 1px, 1px, 1px);height: 1px;margin: -1px;overflow: hidden;padding: 0;position: absolute;width: 1px;}#sk-container-id-1 div.sk-estimator {font-family: monospace;background-color: #f0f8ff;border: 1px dotted black;border-radius: 0.25em;box-sizing: border-box;margin-bottom: 0.5em;}#sk-container-id-1 div.sk-estimator:hover {background-color: #d4ebff;}#sk-container-id-1 div.sk-parallel-item::after {content: \"\";width: 100%;border-bottom: 1px solid gray;flex-grow: 1;}#sk-container-id-1 div.sk-label:hover label.sk-toggleable__label {background-color: #d4ebff;}#sk-container-id-1 div.sk-serial::before {content: \"\";position: absolute;border-left: 1px solid gray;box-sizing: border-box;top: 0;bottom: 0;left: 50%;z-index: 0;}#sk-container-id-1 div.sk-serial {display: flex;flex-direction: column;align-items: center;background-color: white;padding-right: 0.2em;padding-left: 0.2em;position: relative;}#sk-container-id-1 div.sk-item {position: relative;z-index: 1;}#sk-container-id-1 div.sk-parallel {display: flex;align-items: stretch;justify-content: center;background-color: white;position: relative;}#sk-container-id-1 div.sk-item::before, #sk-container-id-1 div.sk-parallel-item::before {content: \"\";position: absolute;border-left: 1px solid gray;box-sizing: border-box;top: 0;bottom: 0;left: 50%;z-index: -1;}#sk-container-id-1 div.sk-parallel-item {display: flex;flex-direction: column;z-index: 1;position: relative;background-color: white;}#sk-container-id-1 div.sk-parallel-item:first-child::after {align-self: flex-end;width: 50%;}#sk-container-id-1 div.sk-parallel-item:last-child::after {align-self: flex-start;width: 50%;}#sk-container-id-1 div.sk-parallel-item:only-child::after {width: 0;}#sk-container-id-1 div.sk-dashed-wrapped {border: 1px dashed gray;margin: 0 0.4em 0.5em 0.4em;box-sizing: border-box;padding-bottom: 0.4em;background-color: white;}#sk-container-id-1 div.sk-label label {font-family: monospace;font-weight: bold;display: inline-block;line-height: 1.2em;}#sk-container-id-1 div.sk-label-container {text-align: center;}#sk-container-id-1 div.sk-container {/* jupyter's `normalize.less` sets `[hidden] { display: none; }` but bootstrap.min.css set `[hidden] { display: none !important; }` so we also need the `!important` here to be able to override the default hidden behavior on the sphinx rendered scikit-learn.org. See: https://github.com/scikit-learn/scikit-learn/issues/21755 */display: inline-block !important;position: relative;}#sk-container-id-1 div.sk-text-repr-fallback {display: none;}</style><div id=\"sk-container-id-1\" class=\"sk-top-container\"><div class=\"sk-text-repr-fallback\"><pre>LogisticRegression(n_jobs=-1, random_state=42)</pre><b>In a Jupyter environment, please rerun this cell to show the HTML representation or trust the notebook. <br />On GitHub, the HTML representation is unable to render, please try loading this page with nbviewer.org.</b></div><div class=\"sk-container\" hidden><div class=\"sk-item\"><div class=\"sk-estimator sk-toggleable\"><input class=\"sk-toggleable__control sk-hidden--visually\" id=\"sk-estimator-id-1\" type=\"checkbox\" checked><label for=\"sk-estimator-id-1\" class=\"sk-toggleable__label sk-toggleable__label-arrow\">LogisticRegression</label><div class=\"sk-toggleable__content\"><pre>LogisticRegression(n_jobs=-1, random_state=42)</pre></div></div></div></div></div>"
            ]
          },
          "metadata": {},
          "execution_count": 24
        }
      ]
    },
    {
      "cell_type": "code",
      "source": [
        "get_metrics(X_valid, y_valid, model_base)"
      ],
      "metadata": {
        "colab": {
          "base_uri": "https://localhost:8080/"
        },
        "id": "1ENLjZulO2Li",
        "outputId": "9f2a71ff-5b03-4778-edf1-832f45e3fadb"
      },
      "execution_count": null,
      "outputs": [
        {
          "output_type": "stream",
          "name": "stdout",
          "text": [
            "\u001b[1mМетрики\u001b[0m\n",
            "F1-macro: 0.61\n",
            "Accuracy: 0.621\n",
            "Precision: 0.63\n",
            "Recall: 0.613\n"
          ]
        }
      ]
    },
    {
      "cell_type": "markdown",
      "source": [
        "## **5. Модели**"
      ],
      "metadata": {
        "id": "BXRGuaU4yYtI"
      }
    },
    {
      "cell_type": "markdown",
      "source": [
        "**МЕТРИКА**\n",
        "\n",
        "Перед нами задача мультиклассовой классификации, поэтому целесообразно использовать для оценки микро- или макро-усреднение (micro-averaging и macro-averaging): они позволяют объединить показатели производительности по отдельным классам для получения общей оценки модели.\n",
        "\n",
        "Микро-усреднение учитывает каждый экземпляр отдельно, тогда как макро-усреднение учитывает каждый класс одинаково.\n",
        "\n",
        "Нам важно, чтобы даже самый малочисленный класс определялся с высокой точностью, поэтому возьмем метрику F1-мера в варианте macro - он считает f1-меру для каждой класса, а затем считает среднее значение. Из-за этого даже самый малый класс имеет одинаковый вес при расчёте средней метрики."
      ],
      "metadata": {
        "id": "HCLsJecIyZWh"
      }
    },
    {
      "cell_type": "markdown",
      "source": [
        "**Функция для вывода основных метрик при подборе гиперпараметров кросс-валидацией**"
      ],
      "metadata": {
        "id": "NhkXRsJiqkMs"
      }
    },
    {
      "cell_type": "code",
      "source": [
        "# Функция для вывода основных метрик при подборе гиперпараметров кросс-валидацией\n",
        "def get_metrics_gridsearchCV(model):\n",
        "\n",
        "  '''Функция принимает на вход:\n",
        "      - модель на базе GridSearchCV\n",
        "    Выдает рассчитанные на валидационной выборке внутри GridSearchCV метрики для лучшей модели'''\n",
        "\n",
        "  results = pd.DataFrame(model.cv_results_)\n",
        "\n",
        "  f1_macro = results.at[model.best_index_, 'mean_test_f1_macro']\n",
        "  accuracy = results.at[model.best_index_, 'mean_test_accuracy']\n",
        "  precision = results.at[model.best_index_, 'mean_test_precision']\n",
        "  recall = results.at[model.best_index_, 'mean_test_recall']\n",
        "\n",
        "  print('\\033[1mМетрики\\033[0m') #, model.best_params_, '\\033[1mна валидационной выборке\\033[0m')\n",
        "  print('F1-macro:', f1_macro.round(3))\n",
        "  print('Accuracy:', accuracy.round(3))\n",
        "  print('Precision:', precision.round(3))\n",
        "  print('Recall:', recall.round(3))"
      ],
      "metadata": {
        "id": "8e8n0lo1nyNl"
      },
      "execution_count": null,
      "outputs": []
    },
    {
      "cell_type": "markdown",
      "source": [
        "#### **5.1. Логистическая регрессия на отмасштабированных данных**"
      ],
      "metadata": {
        "id": "10coaR_BKc59"
      }
    },
    {
      "cell_type": "code",
      "source": [
        "%%time\n",
        "\n",
        "# Создаем пайплайн для логистической регрессии с предварительным масштабированием данных\n",
        "pipeline_lr = Pipeline([\n",
        "    ('scaler', StandardScaler()),\n",
        "    ('classifier', LogisticRegression(random_state=RANDOM_STATE))\n",
        "])\n",
        "\n",
        "# Определяем сетку гиперпараметров для логистической регрессии\n",
        "param_lr = {\n",
        "    'classifier__C': [0.01, 1, 10],\n",
        "    'classifier__penalty': ['l1', 'l2']\n",
        "}\n",
        "\n",
        "scoring = {\n",
        "    'f1_macro': make_scorer(f1_score, pos_label=None, average='macro'),\n",
        "    'accuracy': make_scorer(accuracy_score),\n",
        "    'precision': make_scorer(precision_score, average='macro'),\n",
        "    'recall': make_scorer(recall_score, average='macro')\n",
        "    }\n",
        "\n",
        "# Инициализируем GridSearchCV с пайплайном и сеткой гиперпараметров\n",
        "model_lr = GridSearchCV(\n",
        "    pipeline_lr,\n",
        "    param_lr,\n",
        "    cv=3,\n",
        "    scoring=scoring,\n",
        "    refit='f1_macro',\n",
        "    verbose=10,\n",
        "    n_jobs=-1,\n",
        "    return_train_score = True\n",
        "    )\n",
        "\n",
        "# Обучаем модель с кросс-валидацией на полных данных\n",
        "model_lr.fit(train_full_X, train_full_y)"
      ],
      "metadata": {
        "id": "KT3MswcKyDF-",
        "colab": {
          "base_uri": "https://localhost:8080/",
          "height": 206
        },
        "outputId": "0755ea31-d5c5-4b02-b1d8-6c5941dbc030"
      },
      "execution_count": null,
      "outputs": [
        {
          "output_type": "stream",
          "name": "stdout",
          "text": [
            "Fitting 3 folds for each of 6 candidates, totalling 18 fits\n",
            "CPU times: user 113 ms, sys: 4.79 ms, total: 118 ms\n",
            "Wall time: 1.52 s\n"
          ]
        },
        {
          "output_type": "execute_result",
          "data": {
            "text/plain": [
              "GridSearchCV(cv=3,\n",
              "             estimator=Pipeline(steps=[('scaler', StandardScaler()),\n",
              "                                       ('classifier',\n",
              "                                        LogisticRegression(random_state=42))]),\n",
              "             n_jobs=-1,\n",
              "             param_grid={'classifier__C': [0.01, 1, 10],\n",
              "                         'classifier__penalty': ['l1', 'l2']},\n",
              "             refit='f1_macro', return_train_score=True,\n",
              "             scoring={'accuracy': make_scorer(accuracy_score),\n",
              "                      'f1_macro': make_scorer(f1_score, pos_label=None, average=macro),\n",
              "                      'precision': make_scorer(precision_score, average=macro),\n",
              "                      'recall': make_scorer(recall_score, average=macro)},\n",
              "             verbose=10)"
            ],
            "text/html": [
              "<style>#sk-container-id-2 {color: black;background-color: white;}#sk-container-id-2 pre{padding: 0;}#sk-container-id-2 div.sk-toggleable {background-color: white;}#sk-container-id-2 label.sk-toggleable__label {cursor: pointer;display: block;width: 100%;margin-bottom: 0;padding: 0.3em;box-sizing: border-box;text-align: center;}#sk-container-id-2 label.sk-toggleable__label-arrow:before {content: \"▸\";float: left;margin-right: 0.25em;color: #696969;}#sk-container-id-2 label.sk-toggleable__label-arrow:hover:before {color: black;}#sk-container-id-2 div.sk-estimator:hover label.sk-toggleable__label-arrow:before {color: black;}#sk-container-id-2 div.sk-toggleable__content {max-height: 0;max-width: 0;overflow: hidden;text-align: left;background-color: #f0f8ff;}#sk-container-id-2 div.sk-toggleable__content pre {margin: 0.2em;color: black;border-radius: 0.25em;background-color: #f0f8ff;}#sk-container-id-2 input.sk-toggleable__control:checked~div.sk-toggleable__content {max-height: 200px;max-width: 100%;overflow: auto;}#sk-container-id-2 input.sk-toggleable__control:checked~label.sk-toggleable__label-arrow:before {content: \"▾\";}#sk-container-id-2 div.sk-estimator input.sk-toggleable__control:checked~label.sk-toggleable__label {background-color: #d4ebff;}#sk-container-id-2 div.sk-label input.sk-toggleable__control:checked~label.sk-toggleable__label {background-color: #d4ebff;}#sk-container-id-2 input.sk-hidden--visually {border: 0;clip: rect(1px 1px 1px 1px);clip: rect(1px, 1px, 1px, 1px);height: 1px;margin: -1px;overflow: hidden;padding: 0;position: absolute;width: 1px;}#sk-container-id-2 div.sk-estimator {font-family: monospace;background-color: #f0f8ff;border: 1px dotted black;border-radius: 0.25em;box-sizing: border-box;margin-bottom: 0.5em;}#sk-container-id-2 div.sk-estimator:hover {background-color: #d4ebff;}#sk-container-id-2 div.sk-parallel-item::after {content: \"\";width: 100%;border-bottom: 1px solid gray;flex-grow: 1;}#sk-container-id-2 div.sk-label:hover label.sk-toggleable__label {background-color: #d4ebff;}#sk-container-id-2 div.sk-serial::before {content: \"\";position: absolute;border-left: 1px solid gray;box-sizing: border-box;top: 0;bottom: 0;left: 50%;z-index: 0;}#sk-container-id-2 div.sk-serial {display: flex;flex-direction: column;align-items: center;background-color: white;padding-right: 0.2em;padding-left: 0.2em;position: relative;}#sk-container-id-2 div.sk-item {position: relative;z-index: 1;}#sk-container-id-2 div.sk-parallel {display: flex;align-items: stretch;justify-content: center;background-color: white;position: relative;}#sk-container-id-2 div.sk-item::before, #sk-container-id-2 div.sk-parallel-item::before {content: \"\";position: absolute;border-left: 1px solid gray;box-sizing: border-box;top: 0;bottom: 0;left: 50%;z-index: -1;}#sk-container-id-2 div.sk-parallel-item {display: flex;flex-direction: column;z-index: 1;position: relative;background-color: white;}#sk-container-id-2 div.sk-parallel-item:first-child::after {align-self: flex-end;width: 50%;}#sk-container-id-2 div.sk-parallel-item:last-child::after {align-self: flex-start;width: 50%;}#sk-container-id-2 div.sk-parallel-item:only-child::after {width: 0;}#sk-container-id-2 div.sk-dashed-wrapped {border: 1px dashed gray;margin: 0 0.4em 0.5em 0.4em;box-sizing: border-box;padding-bottom: 0.4em;background-color: white;}#sk-container-id-2 div.sk-label label {font-family: monospace;font-weight: bold;display: inline-block;line-height: 1.2em;}#sk-container-id-2 div.sk-label-container {text-align: center;}#sk-container-id-2 div.sk-container {/* jupyter's `normalize.less` sets `[hidden] { display: none; }` but bootstrap.min.css set `[hidden] { display: none !important; }` so we also need the `!important` here to be able to override the default hidden behavior on the sphinx rendered scikit-learn.org. See: https://github.com/scikit-learn/scikit-learn/issues/21755 */display: inline-block !important;position: relative;}#sk-container-id-2 div.sk-text-repr-fallback {display: none;}</style><div id=\"sk-container-id-2\" class=\"sk-top-container\"><div class=\"sk-text-repr-fallback\"><pre>GridSearchCV(cv=3,\n",
              "             estimator=Pipeline(steps=[(&#x27;scaler&#x27;, StandardScaler()),\n",
              "                                       (&#x27;classifier&#x27;,\n",
              "                                        LogisticRegression(random_state=42))]),\n",
              "             n_jobs=-1,\n",
              "             param_grid={&#x27;classifier__C&#x27;: [0.01, 1, 10],\n",
              "                         &#x27;classifier__penalty&#x27;: [&#x27;l1&#x27;, &#x27;l2&#x27;]},\n",
              "             refit=&#x27;f1_macro&#x27;, return_train_score=True,\n",
              "             scoring={&#x27;accuracy&#x27;: make_scorer(accuracy_score),\n",
              "                      &#x27;f1_macro&#x27;: make_scorer(f1_score, pos_label=None, average=macro),\n",
              "                      &#x27;precision&#x27;: make_scorer(precision_score, average=macro),\n",
              "                      &#x27;recall&#x27;: make_scorer(recall_score, average=macro)},\n",
              "             verbose=10)</pre><b>In a Jupyter environment, please rerun this cell to show the HTML representation or trust the notebook. <br />On GitHub, the HTML representation is unable to render, please try loading this page with nbviewer.org.</b></div><div class=\"sk-container\" hidden><div class=\"sk-item sk-dashed-wrapped\"><div class=\"sk-label-container\"><div class=\"sk-label sk-toggleable\"><input class=\"sk-toggleable__control sk-hidden--visually\" id=\"sk-estimator-id-2\" type=\"checkbox\" ><label for=\"sk-estimator-id-2\" class=\"sk-toggleable__label sk-toggleable__label-arrow\">GridSearchCV</label><div class=\"sk-toggleable__content\"><pre>GridSearchCV(cv=3,\n",
              "             estimator=Pipeline(steps=[(&#x27;scaler&#x27;, StandardScaler()),\n",
              "                                       (&#x27;classifier&#x27;,\n",
              "                                        LogisticRegression(random_state=42))]),\n",
              "             n_jobs=-1,\n",
              "             param_grid={&#x27;classifier__C&#x27;: [0.01, 1, 10],\n",
              "                         &#x27;classifier__penalty&#x27;: [&#x27;l1&#x27;, &#x27;l2&#x27;]},\n",
              "             refit=&#x27;f1_macro&#x27;, return_train_score=True,\n",
              "             scoring={&#x27;accuracy&#x27;: make_scorer(accuracy_score),\n",
              "                      &#x27;f1_macro&#x27;: make_scorer(f1_score, pos_label=None, average=macro),\n",
              "                      &#x27;precision&#x27;: make_scorer(precision_score, average=macro),\n",
              "                      &#x27;recall&#x27;: make_scorer(recall_score, average=macro)},\n",
              "             verbose=10)</pre></div></div></div><div class=\"sk-parallel\"><div class=\"sk-parallel-item\"><div class=\"sk-item\"><div class=\"sk-label-container\"><div class=\"sk-label sk-toggleable\"><input class=\"sk-toggleable__control sk-hidden--visually\" id=\"sk-estimator-id-3\" type=\"checkbox\" ><label for=\"sk-estimator-id-3\" class=\"sk-toggleable__label sk-toggleable__label-arrow\">estimator: Pipeline</label><div class=\"sk-toggleable__content\"><pre>Pipeline(steps=[(&#x27;scaler&#x27;, StandardScaler()),\n",
              "                (&#x27;classifier&#x27;, LogisticRegression(random_state=42))])</pre></div></div></div><div class=\"sk-serial\"><div class=\"sk-item\"><div class=\"sk-serial\"><div class=\"sk-item\"><div class=\"sk-estimator sk-toggleable\"><input class=\"sk-toggleable__control sk-hidden--visually\" id=\"sk-estimator-id-4\" type=\"checkbox\" ><label for=\"sk-estimator-id-4\" class=\"sk-toggleable__label sk-toggleable__label-arrow\">StandardScaler</label><div class=\"sk-toggleable__content\"><pre>StandardScaler()</pre></div></div></div><div class=\"sk-item\"><div class=\"sk-estimator sk-toggleable\"><input class=\"sk-toggleable__control sk-hidden--visually\" id=\"sk-estimator-id-5\" type=\"checkbox\" ><label for=\"sk-estimator-id-5\" class=\"sk-toggleable__label sk-toggleable__label-arrow\">LogisticRegression</label><div class=\"sk-toggleable__content\"><pre>LogisticRegression(random_state=42)</pre></div></div></div></div></div></div></div></div></div></div></div></div>"
            ]
          },
          "metadata": {},
          "execution_count": 27
        }
      ]
    },
    {
      "cell_type": "code",
      "source": [
        "# Параметры лучшей модели\n",
        "model_lr.best_params_"
      ],
      "metadata": {
        "colab": {
          "base_uri": "https://localhost:8080/"
        },
        "id": "FQiVZuJ-T3-V",
        "outputId": "3b2d05fd-52fa-416a-8480-8947e577bd79"
      },
      "execution_count": null,
      "outputs": [
        {
          "output_type": "execute_result",
          "data": {
            "text/plain": [
              "{'classifier__C': 0.01, 'classifier__penalty': 'l2'}"
            ]
          },
          "metadata": {},
          "execution_count": 28
        }
      ]
    },
    {
      "cell_type": "code",
      "source": [
        "get_metrics_gridsearchCV(model_lr)"
      ],
      "metadata": {
        "colab": {
          "base_uri": "https://localhost:8080/"
        },
        "id": "Wd5yIptxPW_T",
        "outputId": "1c03c301-b99b-40ca-bab7-8098961327a3"
      },
      "execution_count": null,
      "outputs": [
        {
          "output_type": "stream",
          "name": "stdout",
          "text": [
            "\u001b[1mМетрики\u001b[0m\n",
            "F1-macro: 0.609\n",
            "Accuracy: 0.638\n",
            "Precision: 0.644\n",
            "Recall: 0.619\n"
          ]
        }
      ]
    },
    {
      "cell_type": "markdown",
      "source": [
        "Масштабирование данных не дало прироста в метрике. Попробуем исследовать поочередное удаление признаков с относительно высоким коэффициентом корреляции."
      ],
      "metadata": {
        "id": "bO0CIkiwqIvR"
      }
    },
    {
      "cell_type": "markdown",
      "source": [
        "#### **5.2. Логистическая регрессия на отмасштабированных данных c удалением одного из коррелирующих признаков**"
      ],
      "metadata": {
        "id": "LpJWhtPNMSWd"
      }
    },
    {
      "cell_type": "code",
      "source": [
        "cols_for_drop = ['SystolicBP', 'DiastolicBP']\n",
        "\n",
        "for col in cols_for_drop:\n",
        "  train_full_X_drop = train_full_X.drop(col, axis=1).copy()\n",
        "\n",
        "  # Создаем пайплайн для логистической регрессии с предварительным масштабированием данных\n",
        "  pipeline_lr = Pipeline([\n",
        "      ('scaler', StandardScaler()),\n",
        "      ('classifier', LogisticRegression(random_state=RANDOM_STATE))\n",
        "      ])\n",
        "\n",
        "  # Определяем сетку гиперпараметров для логистической регрессии\n",
        "  param_lr = {\n",
        "      'classifier__C': [0.01, 1, 10],\n",
        "      'classifier__penalty': ['l1', 'l2']\n",
        "      }\n",
        "\n",
        "  scoring = {\n",
        "    'f1_macro': make_scorer(f1_score, pos_label=None, average='macro'),\n",
        "    'accuracy': make_scorer(accuracy_score),\n",
        "    'precision': make_scorer(precision_score, average='macro'),\n",
        "    'recall': make_scorer(recall_score, average='macro')\n",
        "    }\n",
        "\n",
        "\n",
        "  # Инициализируем GridSearchCV с пайплайном и сеткой гиперпараметров\n",
        "  model_lr_drop = GridSearchCV(\n",
        "      pipeline_lr,\n",
        "      param_lr,\n",
        "      cv=3,\n",
        "      scoring=scoring,\n",
        "      refit='f1_macro',\n",
        "      verbose=10,\n",
        "      n_jobs=-1,\n",
        "      return_train_score = True\n",
        "      )\n",
        "\n",
        "  # Обучаем модель с кросс-валидацией на данных с удалением признака\n",
        "  model_lr_drop.fit(train_full_X_drop, train_full_y)\n",
        "\n",
        "  # Выводим отчет по метрикам\n",
        "  print('\\033[1mРезультат для эксперимента с удалением столбца\\033[0m', col)\n",
        "  print()\n",
        "  get_metrics_gridsearchCV(model_lr_drop)\n",
        "  print()\n",
        "  print('##############################################################')\n",
        "  print()"
      ],
      "metadata": {
        "colab": {
          "base_uri": "https://localhost:8080/"
        },
        "id": "zY5ubtcByDUy",
        "outputId": "4ceeda89-1f11-4499-9f19-ef9f2491aff7"
      },
      "execution_count": null,
      "outputs": [
        {
          "output_type": "stream",
          "name": "stdout",
          "text": [
            "Fitting 3 folds for each of 6 candidates, totalling 18 fits\n",
            "\u001b[1mРезультат для эксперимента с удалением столбца\u001b[0m SystolicBP\n",
            "\n",
            "\u001b[1mМетрики\u001b[0m\n",
            "F1-macro: 0.556\n",
            "Accuracy: 0.592\n",
            "Precision: 0.599\n",
            "Recall: 0.572\n",
            "\n",
            "##############################################################\n",
            "\n",
            "Fitting 3 folds for each of 6 candidates, totalling 18 fits\n",
            "\u001b[1mРезультат для эксперимента с удалением столбца\u001b[0m DiastolicBP\n",
            "\n",
            "\u001b[1mМетрики\u001b[0m\n",
            "F1-macro: 0.597\n",
            "Accuracy: 0.629\n",
            "Precision: 0.639\n",
            "Recall: 0.607\n",
            "\n",
            "##############################################################\n",
            "\n"
          ]
        }
      ]
    },
    {
      "cell_type": "markdown",
      "source": [
        "**ПРОМЕЖУТОЧНЫЙ ВЫВОД:**\n",
        "Удаление любого из столбцов `SystolicBP`, `DiastolicBP` ухудшает метрику. Оставим все признаки, но теперь попробуем удалить выбросы."
      ],
      "metadata": {
        "id": "y0gvUQJXtK5t"
      }
    },
    {
      "cell_type": "markdown",
      "source": [
        "#### **5.3. Логистическая регрессия на отмасштабированных данных после удаления выбросов**"
      ],
      "metadata": {
        "id": "0LGzRGQwqzb1"
      }
    },
    {
      "cell_type": "code",
      "source": [
        "%%time\n",
        "\n",
        "# Создаем пайплайн для логистической регрессии с предварительным масштабированием данных\n",
        "pipeline_lr = Pipeline([\n",
        "    ('scaler', StandardScaler()),\n",
        "    ('classifier', LogisticRegression(random_state=RANDOM_STATE))\n",
        "])\n",
        "\n",
        "# Определяем сетку гиперпараметров для логистической регрессии\n",
        "param_lr = {\n",
        "    'classifier__C': [0.01, 1, 10],\n",
        "    'classifier__penalty': ['l1', 'l2']\n",
        "}\n",
        "\n",
        "scoring = {\n",
        "    'f1_macro': make_scorer(f1_score, pos_label=None, average='macro'),\n",
        "    'accuracy': make_scorer(accuracy_score),\n",
        "    'precision': make_scorer(precision_score, average='macro'),\n",
        "    'recall': make_scorer(recall_score, average='macro')\n",
        "    }\n",
        "\n",
        "# Инициализируем GridSearchCV с пайплайном и сеткой гиперпараметров\n",
        "model_lr_filter = GridSearchCV(\n",
        "    pipeline_lr,\n",
        "    param_lr,\n",
        "    cv=3,\n",
        "    scoring=scoring,\n",
        "    refit='f1_macro',\n",
        "    verbose=10,\n",
        "    n_jobs=-1,\n",
        "    return_train_score = True\n",
        "    )\n",
        "\n",
        "# Обучаем модель с кросс-валидацией на полных данных\n",
        "model_lr_filter.fit(train_full_X_filter, train_full_y_filter)"
      ],
      "metadata": {
        "colab": {
          "base_uri": "https://localhost:8080/",
          "height": 206
        },
        "id": "7q5FKsOnqywd",
        "outputId": "efbb5ff8-ebf9-4079-8452-2bd1a5975c08"
      },
      "execution_count": null,
      "outputs": [
        {
          "output_type": "stream",
          "name": "stdout",
          "text": [
            "Fitting 3 folds for each of 6 candidates, totalling 18 fits\n",
            "CPU times: user 69.1 ms, sys: 3.89 ms, total: 73 ms\n",
            "Wall time: 382 ms\n"
          ]
        },
        {
          "output_type": "execute_result",
          "data": {
            "text/plain": [
              "GridSearchCV(cv=3,\n",
              "             estimator=Pipeline(steps=[('scaler', StandardScaler()),\n",
              "                                       ('classifier',\n",
              "                                        LogisticRegression(random_state=42))]),\n",
              "             n_jobs=-1,\n",
              "             param_grid={'classifier__C': [0.01, 1, 10],\n",
              "                         'classifier__penalty': ['l1', 'l2']},\n",
              "             refit='f1_macro', return_train_score=True,\n",
              "             scoring={'accuracy': make_scorer(accuracy_score),\n",
              "                      'f1_macro': make_scorer(f1_score, pos_label=None, average=macro),\n",
              "                      'precision': make_scorer(precision_score, average=macro),\n",
              "                      'recall': make_scorer(recall_score, average=macro)},\n",
              "             verbose=10)"
            ],
            "text/html": [
              "<style>#sk-container-id-3 {color: black;background-color: white;}#sk-container-id-3 pre{padding: 0;}#sk-container-id-3 div.sk-toggleable {background-color: white;}#sk-container-id-3 label.sk-toggleable__label {cursor: pointer;display: block;width: 100%;margin-bottom: 0;padding: 0.3em;box-sizing: border-box;text-align: center;}#sk-container-id-3 label.sk-toggleable__label-arrow:before {content: \"▸\";float: left;margin-right: 0.25em;color: #696969;}#sk-container-id-3 label.sk-toggleable__label-arrow:hover:before {color: black;}#sk-container-id-3 div.sk-estimator:hover label.sk-toggleable__label-arrow:before {color: black;}#sk-container-id-3 div.sk-toggleable__content {max-height: 0;max-width: 0;overflow: hidden;text-align: left;background-color: #f0f8ff;}#sk-container-id-3 div.sk-toggleable__content pre {margin: 0.2em;color: black;border-radius: 0.25em;background-color: #f0f8ff;}#sk-container-id-3 input.sk-toggleable__control:checked~div.sk-toggleable__content {max-height: 200px;max-width: 100%;overflow: auto;}#sk-container-id-3 input.sk-toggleable__control:checked~label.sk-toggleable__label-arrow:before {content: \"▾\";}#sk-container-id-3 div.sk-estimator input.sk-toggleable__control:checked~label.sk-toggleable__label {background-color: #d4ebff;}#sk-container-id-3 div.sk-label input.sk-toggleable__control:checked~label.sk-toggleable__label {background-color: #d4ebff;}#sk-container-id-3 input.sk-hidden--visually {border: 0;clip: rect(1px 1px 1px 1px);clip: rect(1px, 1px, 1px, 1px);height: 1px;margin: -1px;overflow: hidden;padding: 0;position: absolute;width: 1px;}#sk-container-id-3 div.sk-estimator {font-family: monospace;background-color: #f0f8ff;border: 1px dotted black;border-radius: 0.25em;box-sizing: border-box;margin-bottom: 0.5em;}#sk-container-id-3 div.sk-estimator:hover {background-color: #d4ebff;}#sk-container-id-3 div.sk-parallel-item::after {content: \"\";width: 100%;border-bottom: 1px solid gray;flex-grow: 1;}#sk-container-id-3 div.sk-label:hover label.sk-toggleable__label {background-color: #d4ebff;}#sk-container-id-3 div.sk-serial::before {content: \"\";position: absolute;border-left: 1px solid gray;box-sizing: border-box;top: 0;bottom: 0;left: 50%;z-index: 0;}#sk-container-id-3 div.sk-serial {display: flex;flex-direction: column;align-items: center;background-color: white;padding-right: 0.2em;padding-left: 0.2em;position: relative;}#sk-container-id-3 div.sk-item {position: relative;z-index: 1;}#sk-container-id-3 div.sk-parallel {display: flex;align-items: stretch;justify-content: center;background-color: white;position: relative;}#sk-container-id-3 div.sk-item::before, #sk-container-id-3 div.sk-parallel-item::before {content: \"\";position: absolute;border-left: 1px solid gray;box-sizing: border-box;top: 0;bottom: 0;left: 50%;z-index: -1;}#sk-container-id-3 div.sk-parallel-item {display: flex;flex-direction: column;z-index: 1;position: relative;background-color: white;}#sk-container-id-3 div.sk-parallel-item:first-child::after {align-self: flex-end;width: 50%;}#sk-container-id-3 div.sk-parallel-item:last-child::after {align-self: flex-start;width: 50%;}#sk-container-id-3 div.sk-parallel-item:only-child::after {width: 0;}#sk-container-id-3 div.sk-dashed-wrapped {border: 1px dashed gray;margin: 0 0.4em 0.5em 0.4em;box-sizing: border-box;padding-bottom: 0.4em;background-color: white;}#sk-container-id-3 div.sk-label label {font-family: monospace;font-weight: bold;display: inline-block;line-height: 1.2em;}#sk-container-id-3 div.sk-label-container {text-align: center;}#sk-container-id-3 div.sk-container {/* jupyter's `normalize.less` sets `[hidden] { display: none; }` but bootstrap.min.css set `[hidden] { display: none !important; }` so we also need the `!important` here to be able to override the default hidden behavior on the sphinx rendered scikit-learn.org. See: https://github.com/scikit-learn/scikit-learn/issues/21755 */display: inline-block !important;position: relative;}#sk-container-id-3 div.sk-text-repr-fallback {display: none;}</style><div id=\"sk-container-id-3\" class=\"sk-top-container\"><div class=\"sk-text-repr-fallback\"><pre>GridSearchCV(cv=3,\n",
              "             estimator=Pipeline(steps=[(&#x27;scaler&#x27;, StandardScaler()),\n",
              "                                       (&#x27;classifier&#x27;,\n",
              "                                        LogisticRegression(random_state=42))]),\n",
              "             n_jobs=-1,\n",
              "             param_grid={&#x27;classifier__C&#x27;: [0.01, 1, 10],\n",
              "                         &#x27;classifier__penalty&#x27;: [&#x27;l1&#x27;, &#x27;l2&#x27;]},\n",
              "             refit=&#x27;f1_macro&#x27;, return_train_score=True,\n",
              "             scoring={&#x27;accuracy&#x27;: make_scorer(accuracy_score),\n",
              "                      &#x27;f1_macro&#x27;: make_scorer(f1_score, pos_label=None, average=macro),\n",
              "                      &#x27;precision&#x27;: make_scorer(precision_score, average=macro),\n",
              "                      &#x27;recall&#x27;: make_scorer(recall_score, average=macro)},\n",
              "             verbose=10)</pre><b>In a Jupyter environment, please rerun this cell to show the HTML representation or trust the notebook. <br />On GitHub, the HTML representation is unable to render, please try loading this page with nbviewer.org.</b></div><div class=\"sk-container\" hidden><div class=\"sk-item sk-dashed-wrapped\"><div class=\"sk-label-container\"><div class=\"sk-label sk-toggleable\"><input class=\"sk-toggleable__control sk-hidden--visually\" id=\"sk-estimator-id-6\" type=\"checkbox\" ><label for=\"sk-estimator-id-6\" class=\"sk-toggleable__label sk-toggleable__label-arrow\">GridSearchCV</label><div class=\"sk-toggleable__content\"><pre>GridSearchCV(cv=3,\n",
              "             estimator=Pipeline(steps=[(&#x27;scaler&#x27;, StandardScaler()),\n",
              "                                       (&#x27;classifier&#x27;,\n",
              "                                        LogisticRegression(random_state=42))]),\n",
              "             n_jobs=-1,\n",
              "             param_grid={&#x27;classifier__C&#x27;: [0.01, 1, 10],\n",
              "                         &#x27;classifier__penalty&#x27;: [&#x27;l1&#x27;, &#x27;l2&#x27;]},\n",
              "             refit=&#x27;f1_macro&#x27;, return_train_score=True,\n",
              "             scoring={&#x27;accuracy&#x27;: make_scorer(accuracy_score),\n",
              "                      &#x27;f1_macro&#x27;: make_scorer(f1_score, pos_label=None, average=macro),\n",
              "                      &#x27;precision&#x27;: make_scorer(precision_score, average=macro),\n",
              "                      &#x27;recall&#x27;: make_scorer(recall_score, average=macro)},\n",
              "             verbose=10)</pre></div></div></div><div class=\"sk-parallel\"><div class=\"sk-parallel-item\"><div class=\"sk-item\"><div class=\"sk-label-container\"><div class=\"sk-label sk-toggleable\"><input class=\"sk-toggleable__control sk-hidden--visually\" id=\"sk-estimator-id-7\" type=\"checkbox\" ><label for=\"sk-estimator-id-7\" class=\"sk-toggleable__label sk-toggleable__label-arrow\">estimator: Pipeline</label><div class=\"sk-toggleable__content\"><pre>Pipeline(steps=[(&#x27;scaler&#x27;, StandardScaler()),\n",
              "                (&#x27;classifier&#x27;, LogisticRegression(random_state=42))])</pre></div></div></div><div class=\"sk-serial\"><div class=\"sk-item\"><div class=\"sk-serial\"><div class=\"sk-item\"><div class=\"sk-estimator sk-toggleable\"><input class=\"sk-toggleable__control sk-hidden--visually\" id=\"sk-estimator-id-8\" type=\"checkbox\" ><label for=\"sk-estimator-id-8\" class=\"sk-toggleable__label sk-toggleable__label-arrow\">StandardScaler</label><div class=\"sk-toggleable__content\"><pre>StandardScaler()</pre></div></div></div><div class=\"sk-item\"><div class=\"sk-estimator sk-toggleable\"><input class=\"sk-toggleable__control sk-hidden--visually\" id=\"sk-estimator-id-9\" type=\"checkbox\" ><label for=\"sk-estimator-id-9\" class=\"sk-toggleable__label sk-toggleable__label-arrow\">LogisticRegression</label><div class=\"sk-toggleable__content\"><pre>LogisticRegression(random_state=42)</pre></div></div></div></div></div></div></div></div></div></div></div></div>"
            ]
          },
          "metadata": {},
          "execution_count": 31
        }
      ]
    },
    {
      "cell_type": "code",
      "source": [
        "get_metrics_gridsearchCV(model_lr_filter)"
      ],
      "metadata": {
        "colab": {
          "base_uri": "https://localhost:8080/"
        },
        "id": "K1V0t06Dqy56",
        "outputId": "fbbf882e-c8a4-4447-9a5d-83e314f6e65f"
      },
      "execution_count": null,
      "outputs": [
        {
          "output_type": "stream",
          "name": "stdout",
          "text": [
            "\u001b[1mМетрики\u001b[0m\n",
            "F1-macro: 0.526\n",
            "Accuracy: 0.592\n",
            "Precision: 0.567\n",
            "Recall: 0.512\n"
          ]
        }
      ]
    },
    {
      "cell_type": "markdown",
      "source": [
        "**ПРОМЕЖУТОЧНЫЙ ВЫВОД:**\n",
        "Обученние модели на отфильтрованных данных(после удаления выбросов), существенно ухудшает качество предсказания: занчение F1-меры упало с 0.609 до 0.526.\n",
        "\n",
        "Для логистической регрессии лучшим является вариант, обученный на полных данных с предварительным масштабированием.\n",
        "\n",
        "В дальнейших экспериментах с моделями будем использовать полные данные без фильтрации."
      ],
      "metadata": {
        "id": "bMSWH2LGxmJX"
      }
    },
    {
      "cell_type": "markdown",
      "source": [
        "#### **5.4. Случайный лес**"
      ],
      "metadata": {
        "id": "TWlVRfHSVqki"
      }
    },
    {
      "cell_type": "code",
      "source": [
        "%%time\n",
        "\n",
        "# Создаем пайплайн для случайного леса с предварительным масштабированием данных\n",
        "pipeline_rf = Pipeline([\n",
        "    ('scaler', StandardScaler()),\n",
        "    ('classifier', RandomForestClassifier(random_state=RANDOM_STATE))\n",
        "])\n",
        "\n",
        "# Определяем сетку гиперпараметров для случайного леса\n",
        "param_rf = {\n",
        "    'classifier__n_estimators': range(50, 151, 50),\n",
        "    'classifier__max_depth': range(8, 10),\n",
        "    'classifier__min_samples_split': (2, 3),\n",
        "    'classifier__min_samples_leaf': (2, 3),\n",
        "    'classifier__bootstrap': [True, False],\n",
        "    'classifier__criterion': ['gini', 'entropy']\n",
        "}\n",
        "\n",
        "scoring = {\n",
        "    'f1_macro': make_scorer(f1_score, pos_label=None, average='macro'),\n",
        "    'accuracy': make_scorer(accuracy_score),\n",
        "    'precision': make_scorer(precision_score, average='macro'),\n",
        "    'recall': make_scorer(recall_score, average='macro')\n",
        "    }\n",
        "\n",
        "# Инициализируем GridSearchCV с пайплайном и сеткой гиперпараметров\n",
        "model_rf = GridSearchCV(\n",
        "    pipeline_rf,\n",
        "    param_rf,\n",
        "    cv=3,\n",
        "    scoring = scoring,\n",
        "    refit = 'f1_macro',\n",
        "    verbose=10,\n",
        "    n_jobs=-1,\n",
        "    return_train_score = True\n",
        "    )\n",
        "\n",
        "# Обучаем модель с кросс-валидацией на полных данных\n",
        "model_rf.fit(train_full_X, train_full_y)"
      ],
      "metadata": {
        "colab": {
          "base_uri": "https://localhost:8080/",
          "height": 206
        },
        "id": "_u2SPZyvVp-S",
        "outputId": "68671b59-eb77-48d1-b45d-571939c2f57f"
      },
      "execution_count": null,
      "outputs": [
        {
          "output_type": "stream",
          "name": "stdout",
          "text": [
            "Fitting 3 folds for each of 96 candidates, totalling 288 fits\n",
            "CPU times: user 1.99 s, sys: 203 ms, total: 2.19 s\n",
            "Wall time: 1min 7s\n"
          ]
        },
        {
          "output_type": "execute_result",
          "data": {
            "text/plain": [
              "GridSearchCV(cv=3,\n",
              "             estimator=Pipeline(steps=[('scaler', StandardScaler()),\n",
              "                                       ('classifier',\n",
              "                                        RandomForestClassifier(random_state=42))]),\n",
              "             n_jobs=-1,\n",
              "             param_grid={'classifier__bootstrap': [True, False],\n",
              "                         'classifier__criterion': ['gini', 'entropy'],\n",
              "                         'classifier__max_depth': range(8, 10),\n",
              "                         'classifier__min_samples_leaf': (2, 3),\n",
              "                         'classifier__min_samples_split': (2, 3),\n",
              "                         'classifier__n_estimators': range(50, 151, 50)},\n",
              "             refit='f1_macro', return_train_score=True,\n",
              "             scoring={'accuracy': make_scorer(accuracy_score),\n",
              "                      'f1_macro': make_scorer(f1_score, pos_label=None, average=macro),\n",
              "                      'precision': make_scorer(precision_score, average=macro),\n",
              "                      'recall': make_scorer(recall_score, average=macro)},\n",
              "             verbose=10)"
            ],
            "text/html": [
              "<style>#sk-container-id-4 {color: black;background-color: white;}#sk-container-id-4 pre{padding: 0;}#sk-container-id-4 div.sk-toggleable {background-color: white;}#sk-container-id-4 label.sk-toggleable__label {cursor: pointer;display: block;width: 100%;margin-bottom: 0;padding: 0.3em;box-sizing: border-box;text-align: center;}#sk-container-id-4 label.sk-toggleable__label-arrow:before {content: \"▸\";float: left;margin-right: 0.25em;color: #696969;}#sk-container-id-4 label.sk-toggleable__label-arrow:hover:before {color: black;}#sk-container-id-4 div.sk-estimator:hover label.sk-toggleable__label-arrow:before {color: black;}#sk-container-id-4 div.sk-toggleable__content {max-height: 0;max-width: 0;overflow: hidden;text-align: left;background-color: #f0f8ff;}#sk-container-id-4 div.sk-toggleable__content pre {margin: 0.2em;color: black;border-radius: 0.25em;background-color: #f0f8ff;}#sk-container-id-4 input.sk-toggleable__control:checked~div.sk-toggleable__content {max-height: 200px;max-width: 100%;overflow: auto;}#sk-container-id-4 input.sk-toggleable__control:checked~label.sk-toggleable__label-arrow:before {content: \"▾\";}#sk-container-id-4 div.sk-estimator input.sk-toggleable__control:checked~label.sk-toggleable__label {background-color: #d4ebff;}#sk-container-id-4 div.sk-label input.sk-toggleable__control:checked~label.sk-toggleable__label {background-color: #d4ebff;}#sk-container-id-4 input.sk-hidden--visually {border: 0;clip: rect(1px 1px 1px 1px);clip: rect(1px, 1px, 1px, 1px);height: 1px;margin: -1px;overflow: hidden;padding: 0;position: absolute;width: 1px;}#sk-container-id-4 div.sk-estimator {font-family: monospace;background-color: #f0f8ff;border: 1px dotted black;border-radius: 0.25em;box-sizing: border-box;margin-bottom: 0.5em;}#sk-container-id-4 div.sk-estimator:hover {background-color: #d4ebff;}#sk-container-id-4 div.sk-parallel-item::after {content: \"\";width: 100%;border-bottom: 1px solid gray;flex-grow: 1;}#sk-container-id-4 div.sk-label:hover label.sk-toggleable__label {background-color: #d4ebff;}#sk-container-id-4 div.sk-serial::before {content: \"\";position: absolute;border-left: 1px solid gray;box-sizing: border-box;top: 0;bottom: 0;left: 50%;z-index: 0;}#sk-container-id-4 div.sk-serial {display: flex;flex-direction: column;align-items: center;background-color: white;padding-right: 0.2em;padding-left: 0.2em;position: relative;}#sk-container-id-4 div.sk-item {position: relative;z-index: 1;}#sk-container-id-4 div.sk-parallel {display: flex;align-items: stretch;justify-content: center;background-color: white;position: relative;}#sk-container-id-4 div.sk-item::before, #sk-container-id-4 div.sk-parallel-item::before {content: \"\";position: absolute;border-left: 1px solid gray;box-sizing: border-box;top: 0;bottom: 0;left: 50%;z-index: -1;}#sk-container-id-4 div.sk-parallel-item {display: flex;flex-direction: column;z-index: 1;position: relative;background-color: white;}#sk-container-id-4 div.sk-parallel-item:first-child::after {align-self: flex-end;width: 50%;}#sk-container-id-4 div.sk-parallel-item:last-child::after {align-self: flex-start;width: 50%;}#sk-container-id-4 div.sk-parallel-item:only-child::after {width: 0;}#sk-container-id-4 div.sk-dashed-wrapped {border: 1px dashed gray;margin: 0 0.4em 0.5em 0.4em;box-sizing: border-box;padding-bottom: 0.4em;background-color: white;}#sk-container-id-4 div.sk-label label {font-family: monospace;font-weight: bold;display: inline-block;line-height: 1.2em;}#sk-container-id-4 div.sk-label-container {text-align: center;}#sk-container-id-4 div.sk-container {/* jupyter's `normalize.less` sets `[hidden] { display: none; }` but bootstrap.min.css set `[hidden] { display: none !important; }` so we also need the `!important` here to be able to override the default hidden behavior on the sphinx rendered scikit-learn.org. See: https://github.com/scikit-learn/scikit-learn/issues/21755 */display: inline-block !important;position: relative;}#sk-container-id-4 div.sk-text-repr-fallback {display: none;}</style><div id=\"sk-container-id-4\" class=\"sk-top-container\"><div class=\"sk-text-repr-fallback\"><pre>GridSearchCV(cv=3,\n",
              "             estimator=Pipeline(steps=[(&#x27;scaler&#x27;, StandardScaler()),\n",
              "                                       (&#x27;classifier&#x27;,\n",
              "                                        RandomForestClassifier(random_state=42))]),\n",
              "             n_jobs=-1,\n",
              "             param_grid={&#x27;classifier__bootstrap&#x27;: [True, False],\n",
              "                         &#x27;classifier__criterion&#x27;: [&#x27;gini&#x27;, &#x27;entropy&#x27;],\n",
              "                         &#x27;classifier__max_depth&#x27;: range(8, 10),\n",
              "                         &#x27;classifier__min_samples_leaf&#x27;: (2, 3),\n",
              "                         &#x27;classifier__min_samples_split&#x27;: (2, 3),\n",
              "                         &#x27;classifier__n_estimators&#x27;: range(50, 151, 50)},\n",
              "             refit=&#x27;f1_macro&#x27;, return_train_score=True,\n",
              "             scoring={&#x27;accuracy&#x27;: make_scorer(accuracy_score),\n",
              "                      &#x27;f1_macro&#x27;: make_scorer(f1_score, pos_label=None, average=macro),\n",
              "                      &#x27;precision&#x27;: make_scorer(precision_score, average=macro),\n",
              "                      &#x27;recall&#x27;: make_scorer(recall_score, average=macro)},\n",
              "             verbose=10)</pre><b>In a Jupyter environment, please rerun this cell to show the HTML representation or trust the notebook. <br />On GitHub, the HTML representation is unable to render, please try loading this page with nbviewer.org.</b></div><div class=\"sk-container\" hidden><div class=\"sk-item sk-dashed-wrapped\"><div class=\"sk-label-container\"><div class=\"sk-label sk-toggleable\"><input class=\"sk-toggleable__control sk-hidden--visually\" id=\"sk-estimator-id-10\" type=\"checkbox\" ><label for=\"sk-estimator-id-10\" class=\"sk-toggleable__label sk-toggleable__label-arrow\">GridSearchCV</label><div class=\"sk-toggleable__content\"><pre>GridSearchCV(cv=3,\n",
              "             estimator=Pipeline(steps=[(&#x27;scaler&#x27;, StandardScaler()),\n",
              "                                       (&#x27;classifier&#x27;,\n",
              "                                        RandomForestClassifier(random_state=42))]),\n",
              "             n_jobs=-1,\n",
              "             param_grid={&#x27;classifier__bootstrap&#x27;: [True, False],\n",
              "                         &#x27;classifier__criterion&#x27;: [&#x27;gini&#x27;, &#x27;entropy&#x27;],\n",
              "                         &#x27;classifier__max_depth&#x27;: range(8, 10),\n",
              "                         &#x27;classifier__min_samples_leaf&#x27;: (2, 3),\n",
              "                         &#x27;classifier__min_samples_split&#x27;: (2, 3),\n",
              "                         &#x27;classifier__n_estimators&#x27;: range(50, 151, 50)},\n",
              "             refit=&#x27;f1_macro&#x27;, return_train_score=True,\n",
              "             scoring={&#x27;accuracy&#x27;: make_scorer(accuracy_score),\n",
              "                      &#x27;f1_macro&#x27;: make_scorer(f1_score, pos_label=None, average=macro),\n",
              "                      &#x27;precision&#x27;: make_scorer(precision_score, average=macro),\n",
              "                      &#x27;recall&#x27;: make_scorer(recall_score, average=macro)},\n",
              "             verbose=10)</pre></div></div></div><div class=\"sk-parallel\"><div class=\"sk-parallel-item\"><div class=\"sk-item\"><div class=\"sk-label-container\"><div class=\"sk-label sk-toggleable\"><input class=\"sk-toggleable__control sk-hidden--visually\" id=\"sk-estimator-id-11\" type=\"checkbox\" ><label for=\"sk-estimator-id-11\" class=\"sk-toggleable__label sk-toggleable__label-arrow\">estimator: Pipeline</label><div class=\"sk-toggleable__content\"><pre>Pipeline(steps=[(&#x27;scaler&#x27;, StandardScaler()),\n",
              "                (&#x27;classifier&#x27;, RandomForestClassifier(random_state=42))])</pre></div></div></div><div class=\"sk-serial\"><div class=\"sk-item\"><div class=\"sk-serial\"><div class=\"sk-item\"><div class=\"sk-estimator sk-toggleable\"><input class=\"sk-toggleable__control sk-hidden--visually\" id=\"sk-estimator-id-12\" type=\"checkbox\" ><label for=\"sk-estimator-id-12\" class=\"sk-toggleable__label sk-toggleable__label-arrow\">StandardScaler</label><div class=\"sk-toggleable__content\"><pre>StandardScaler()</pre></div></div></div><div class=\"sk-item\"><div class=\"sk-estimator sk-toggleable\"><input class=\"sk-toggleable__control sk-hidden--visually\" id=\"sk-estimator-id-13\" type=\"checkbox\" ><label for=\"sk-estimator-id-13\" class=\"sk-toggleable__label sk-toggleable__label-arrow\">RandomForestClassifier</label><div class=\"sk-toggleable__content\"><pre>RandomForestClassifier(random_state=42)</pre></div></div></div></div></div></div></div></div></div></div></div></div>"
            ]
          },
          "metadata": {},
          "execution_count": 33
        }
      ]
    },
    {
      "cell_type": "code",
      "source": [
        "# Параметры лучшей модели\n",
        "model_rf.best_params_"
      ],
      "metadata": {
        "colab": {
          "base_uri": "https://localhost:8080/"
        },
        "id": "s-qoHbsdUb_m",
        "outputId": "63a32369-2cbe-43f3-d248-653ff4cf9b8e"
      },
      "execution_count": null,
      "outputs": [
        {
          "output_type": "execute_result",
          "data": {
            "text/plain": [
              "{'classifier__bootstrap': False,\n",
              " 'classifier__criterion': 'gini',\n",
              " 'classifier__max_depth': 9,\n",
              " 'classifier__min_samples_leaf': 2,\n",
              " 'classifier__min_samples_split': 2,\n",
              " 'classifier__n_estimators': 150}"
            ]
          },
          "metadata": {},
          "execution_count": 34
        }
      ]
    },
    {
      "cell_type": "code",
      "source": [
        "get_metrics_gridsearchCV(model_rf)"
      ],
      "metadata": {
        "colab": {
          "base_uri": "https://localhost:8080/"
        },
        "id": "fTtmN_HwtrNo",
        "outputId": "06d8f88a-e3f4-4093-bc28-dc56d914d96e"
      },
      "execution_count": null,
      "outputs": [
        {
          "output_type": "stream",
          "name": "stdout",
          "text": [
            "\u001b[1mМетрики\u001b[0m\n",
            "F1-macro: 0.792\n",
            "Accuracy: 0.793\n",
            "Precision: 0.798\n",
            "Recall: 0.79\n"
          ]
        }
      ]
    },
    {
      "cell_type": "markdown",
      "source": [
        "**ПРОМЕЖУТОЧНЫЙ ВЫВОД:**\n",
        "Для модели RandomForestClassifier F1-мера выросла до 0.792.\n",
        "Параметры модели:\n",
        " - 'classifier__bootstrap': False,\n",
        " - 'classifier__criterion': 'gini',\n",
        " - 'classifier__max_depth': 9,\n",
        " - 'classifier__min_samples_leaf': 2,\n",
        " - 'classifier__min_samples_split': 2,\n",
        " - 'classifier__n_estimators': 150"
      ],
      "metadata": {
        "id": "BFB4EBGTzoj_"
      }
    },
    {
      "cell_type": "markdown",
      "source": [
        "#### **5.5. Модель градиентного бустинга в реализации CatBoost**"
      ],
      "metadata": {
        "id": "mHQbYKKyvkxn"
      }
    },
    {
      "cell_type": "markdown",
      "source": [
        "Теперь попробуем алгоритм градиентного бустинга. Будем использовать его в реализации CatBoostClassifier(). В этой модели отлично настроены базовые параметры, что позволяет получить достаточно хорошее качество предсказания \"из коробки\". Поэтому подбор гиперпараметров делать не будем.\n",
        "\n",
        "Масштабирование признаков и удаление коррелирующих признаков нам делать также не придется, поскольку модель CatBoostClassifier() не чувствительна к этим особенностям данных.\n",
        "\n",
        "Таким образом, подавать будем сырые данные, без какой-либо предобработки."
      ],
      "metadata": {
        "id": "e3YBTXwY1yId"
      }
    },
    {
      "cell_type": "code",
      "execution_count": null,
      "metadata": {
        "id": "fG7p_0xGBcVR"
      },
      "outputs": [],
      "source": [
        "# Создадим пулы данных\n",
        "\n",
        "train_data = Pool(data=X_train,\n",
        "                  label=y_train\n",
        "                 )\n",
        "\n",
        "valid_data = Pool(data=X_valid,\n",
        "                  label=y_valid\n",
        "                 )\n",
        "\n",
        "test_data = Pool(data=X_test,\n",
        "                label=y_test\n",
        "                )\n",
        "\n",
        "\n",
        "train_full_data = Pool(data = train_full_X,\n",
        "                       label = train_full_y\n",
        "                      )"
      ]
    },
    {
      "cell_type": "code",
      "source": [
        "# Прописываем параметры модели\n",
        "\n",
        "params = {'verbose': 100,\n",
        "         'random_seed': 42,\n",
        "         'learning_rate': 0.01,\n",
        "         'iterations': 1000,\n",
        "         'loss_function' : 'MultiClass',\n",
        "         'early_stopping_rounds': 500,\n",
        "         'eval_metric': 'Accuracy',\n",
        "         #'eval_metric': 'F1',\n",
        "         'custom_metric': ['Accuracy','F1', 'Precision', 'Recall']\n",
        "         #'task_type': \"GPU\",\n",
        "         #'devices':'0:1',\n",
        "         #'save_snapshot': False\n",
        "         }\n",
        "\n",
        "model_cb = CatBoostClassifier(**params)"
      ],
      "metadata": {
        "id": "5cC_xRMj7xs4"
      },
      "execution_count": null,
      "outputs": []
    },
    {
      "cell_type": "code",
      "execution_count": null,
      "metadata": {
        "colab": {
          "base_uri": "https://localhost:8080/"
        },
        "id": "v4yyT__ABcVS",
        "outputId": "f6347bf9-fc2f-49ec-a49a-3d623c299e64"
      },
      "outputs": [
        {
          "output_type": "stream",
          "name": "stdout",
          "text": [
            "0:\tlearn: 0.6628289\ttest: 0.6798030\tbest: 0.6798030 (0)\ttotal: 48.2ms\tremaining: 48.1s\n",
            "100:\tlearn: 0.7500000\ttest: 0.7241379\tbest: 0.7389163 (66)\ttotal: 172ms\tremaining: 1.53s\n",
            "200:\tlearn: 0.7746711\ttest: 0.7536946\tbest: 0.7586207 (195)\ttotal: 282ms\tremaining: 1.12s\n",
            "300:\tlearn: 0.7796053\ttest: 0.7438424\tbest: 0.7586207 (195)\ttotal: 399ms\tremaining: 926ms\n",
            "400:\tlearn: 0.7944079\ttest: 0.7389163\tbest: 0.7586207 (195)\ttotal: 503ms\tremaining: 751ms\n",
            "500:\tlearn: 0.8125000\ttest: 0.7487685\tbest: 0.7586207 (195)\ttotal: 605ms\tremaining: 602ms\n",
            "600:\tlearn: 0.8289474\ttest: 0.7487685\tbest: 0.7586207 (195)\ttotal: 712ms\tremaining: 473ms\n",
            "Stopped by overfitting detector  (500 iterations wait)\n",
            "\n",
            "bestTest = 0.7586206897\n",
            "bestIteration = 195\n",
            "\n",
            "Shrink model to first 196 iterations.\n",
            "CPU times: user 1.15 s, sys: 208 ms, total: 1.36 s\n",
            "Wall time: 1 s\n"
          ]
        },
        {
          "output_type": "execute_result",
          "data": {
            "text/plain": [
              "<catboost.core.CatBoostClassifier at 0x7c6833aaf700>"
            ]
          },
          "metadata": {},
          "execution_count": 38
        }
      ],
      "source": [
        "%%time\n",
        "\n",
        "model_cb.fit(train_data, eval_set=valid_data)"
      ]
    },
    {
      "cell_type": "code",
      "source": [
        "model_cb.get_best_score()"
      ],
      "metadata": {
        "colab": {
          "base_uri": "https://localhost:8080/"
        },
        "id": "2yFGS7e_KyC6",
        "outputId": "372da4be-6a0c-4e91-a0c2-1c2a7259ecb6"
      },
      "execution_count": null,
      "outputs": [
        {
          "output_type": "execute_result",
          "data": {
            "text/plain": [
              "{'learn': {'Recall:class=0': 0.9141104294478528,\n",
              "  'F1:class=2': 0.7731958762886598,\n",
              "  'F1:class=0': 0.8868501529051989,\n",
              "  'Recall:class=2': 0.7425742574257426,\n",
              "  'Precision:class=1': 0.8372093023255814,\n",
              "  'Precision:class=2': 0.8205128205128205,\n",
              "  'Precision:class=0': 0.8841463414634146,\n",
              "  'Recall:class=1': 0.9588477366255144,\n",
              "  'MultiClass': 0.47486849167504025,\n",
              "  'F1:class=1': 0.8622754491017963,\n",
              "  'Accuracy': 0.8404605263157895},\n",
              " 'validation': {'Recall:class=0': 0.9074074074074074,\n",
              "  'F1:class=2': 0.6356589147286821,\n",
              "  'F1:class=0': 0.8440366972477065,\n",
              "  'Recall:class=2': 0.6119402985074627,\n",
              "  'Precision:class=1': 0.7613636363636364,\n",
              "  'Precision:class=2': 0.75,\n",
              "  'Precision:class=0': 0.8490566037735849,\n",
              "  'Recall:class=1': 0.9512195121951219,\n",
              "  'MultiClass': 0.572210737762542,\n",
              "  'F1:class=1': 0.8148148148148148,\n",
              "  'Accuracy': 0.7586206896551724}}"
            ]
          },
          "metadata": {},
          "execution_count": 39
        }
      ]
    },
    {
      "cell_type": "code",
      "source": [
        "get_metrics(X_valid, y_valid, model_cb)"
      ],
      "metadata": {
        "colab": {
          "base_uri": "https://localhost:8080/"
        },
        "id": "A-QaHYlCXSnu",
        "outputId": "8d378e8c-b24e-4baa-a7b9-d7af5bc0aeb8"
      },
      "execution_count": null,
      "outputs": [
        {
          "output_type": "stream",
          "name": "stdout",
          "text": [
            "\u001b[1mМетрики\u001b[0m\n",
            "F1-macro: 0.751\n",
            "Accuracy: 0.759\n",
            "Precision: 0.763\n",
            "Recall: 0.755\n"
          ]
        }
      ]
    },
    {
      "cell_type": "markdown",
      "source": [
        "**ПРОМЕЖУТОЧНЫЙ ВЫВОД:**\n",
        "Метрика на градиентном бустинге ниже, чем на случайном лесе: F1-мера 0.751 против 0.792 на лесе."
      ],
      "metadata": {
        "id": "70xxYaUk7hRV"
      }
    },
    {
      "cell_type": "markdown",
      "source": [
        "#### **5.6. Результирующая таблица**"
      ],
      "metadata": {
        "id": "nxdqOgj8JrQo"
      }
    },
    {
      "cell_type": "markdown",
      "source": [
        "Для составления результирующей таблицы изменим функции для вывода метрик."
      ],
      "metadata": {
        "id": "nWwTkIlCJ3uM"
      }
    },
    {
      "cell_type": "code",
      "source": [
        "# Функция для вывода основных метрик\n",
        "def get_metrics_for_result_table(X, y, model):\n",
        "\n",
        "  '''Функция принимает на вход:\n",
        "      - выборку для формирования предсказания\n",
        "      - таргет для расчета метрик качества предсказания\n",
        "      - модель\n",
        "    Выдает рассчитанные метрики'''\n",
        "\n",
        "  f1_macro = metrics.f1_score(y, model.predict(X), average='macro')\n",
        "  accuracy = accuracy_score(y, model.predict(X))\n",
        "  precision = precision_score(y, model.predict(X), average='macro')\n",
        "  recall = recall_score(y, model.predict(X), average='macro')\n",
        "\n",
        "  return f1_macro, accuracy, precision, recall"
      ],
      "metadata": {
        "id": "TsaZ01HFIMAL"
      },
      "execution_count": null,
      "outputs": []
    },
    {
      "cell_type": "code",
      "source": [
        "# Функция для вывода основных метрик при подборе гиперпараметров кросс-валидацией\n",
        "def get_metrics_gridsearchCV_for_result_table(model):\n",
        "\n",
        "  '''Функция принимает на вход:\n",
        "      - модель на базе GridSearchCV\n",
        "    Выдает рассчитанные на валидационной выборке внутри GridSearchCV метрики для лучшей модели'''\n",
        "\n",
        "  results = pd.DataFrame(model.cv_results_)\n",
        "\n",
        "  f1_macro = results.at[model.best_index_, 'mean_test_f1_macro']\n",
        "  accuracy = results.at[model.best_index_, 'mean_test_accuracy']\n",
        "  precision = results.at[model.best_index_, 'mean_test_precision']\n",
        "  recall = results.at[model.best_index_, 'mean_test_recall']\n",
        "\n",
        "  return f1_macro, accuracy, precision, recall"
      ],
      "metadata": {
        "id": "jwAzllXfJ3IK"
      },
      "execution_count": null,
      "outputs": []
    },
    {
      "cell_type": "code",
      "source": [
        "# Получаем данные для результирующей таблицы\n",
        "f1_base, accuracy_base, precision_base, recall_base = get_metrics_for_result_table(X_valid, y_valid, model_base)\n",
        "f1_macro_lr, accuracy_lr, precision_lr, recall_lr = get_metrics_gridsearchCV_for_result_table(model_lr)\n",
        "f1_macro_rf, accuracy_rf, precision_rf, recall_rf = get_metrics_gridsearchCV_for_result_table(model_rf)\n",
        "f1_macro_cb, accuracy_cb, precision_cb, recall_cb = get_metrics_for_result_table(X_valid, y_valid, model_cb)"
      ],
      "metadata": {
        "id": "C2KFSlB0MLSm"
      },
      "execution_count": null,
      "outputs": []
    },
    {
      "cell_type": "code",
      "source": [
        "# Подготовим результирующую таблицу\n",
        "\n",
        "result_table = pd.DataFrame(\n",
        "    {'Model':\n",
        "     [\n",
        "         'Baseline',\n",
        "         'LogisticRegression()',\n",
        "         'RandomForestClassifier()',\n",
        "         'CatBoostClassifier()'\n",
        "         ],\n",
        "     'F1-score':\n",
        "      [\n",
        "          f1_base.round(3),\n",
        "          f1_macro_lr.round(3),\n",
        "          f1_macro_rf.round(3),\n",
        "          f1_macro_cb.round(3)\n",
        "          ],\n",
        "     'Accuracy':\n",
        "      [\n",
        "          accuracy_base.round(3),\n",
        "          accuracy_lr.round(3),\n",
        "          accuracy_rf.round(3),\n",
        "          accuracy_cb.round(3)\n",
        "          ],\n",
        "     'Precision':\n",
        "      [\n",
        "          precision_base.round(3),\n",
        "          precision_lr.round(3),\n",
        "          precision_rf.round(3),\n",
        "          precision_cb.round(3)\n",
        "          ],\n",
        "     'Recall':\n",
        "      [\n",
        "          recall_base.round(3),\n",
        "          recall_lr.round(3),\n",
        "          recall_rf.round(3),\n",
        "          recall_cb.round(3)\n",
        "          ]\n",
        "     }\n",
        "    )"
      ],
      "metadata": {
        "id": "CYJlwQSXLTTQ"
      },
      "execution_count": null,
      "outputs": []
    },
    {
      "cell_type": "code",
      "source": [
        "result_table.style.background_gradient(cmap='YlOrRd')"
      ],
      "metadata": {
        "colab": {
          "base_uri": "https://localhost:8080/",
          "height": 175
        },
        "id": "VzOUtadDJFxm",
        "outputId": "5330ffad-382c-498f-8d63-82b514c4b755"
      },
      "execution_count": null,
      "outputs": [
        {
          "output_type": "execute_result",
          "data": {
            "text/plain": [
              "<pandas.io.formats.style.Styler at 0x7c6833a001f0>"
            ],
            "text/html": [
              "<style type=\"text/css\">\n",
              "#T_eed88_row0_col1 {\n",
              "  background-color: #fffecb;\n",
              "  color: #000000;\n",
              "}\n",
              "#T_eed88_row0_col2, #T_eed88_row0_col3, #T_eed88_row0_col4, #T_eed88_row1_col1 {\n",
              "  background-color: #ffffcc;\n",
              "  color: #000000;\n",
              "}\n",
              "#T_eed88_row1_col2 {\n",
              "  background-color: #fff1a9;\n",
              "  color: #000000;\n",
              "}\n",
              "#T_eed88_row1_col3 {\n",
              "  background-color: #fff3af;\n",
              "  color: #000000;\n",
              "}\n",
              "#T_eed88_row1_col4 {\n",
              "  background-color: #fffac1;\n",
              "  color: #000000;\n",
              "}\n",
              "#T_eed88_row2_col1, #T_eed88_row2_col2, #T_eed88_row2_col3, #T_eed88_row2_col4 {\n",
              "  background-color: #800026;\n",
              "  color: #f1f1f1;\n",
              "}\n",
              "#T_eed88_row3_col1 {\n",
              "  background-color: #db141e;\n",
              "  color: #f1f1f1;\n",
              "}\n",
              "#T_eed88_row3_col2, #T_eed88_row3_col4 {\n",
              "  background-color: #d30f20;\n",
              "  color: #f1f1f1;\n",
              "}\n",
              "#T_eed88_row3_col3 {\n",
              "  background-color: #d6111f;\n",
              "  color: #f1f1f1;\n",
              "}\n",
              "</style>\n",
              "<table id=\"T_eed88\" class=\"dataframe\">\n",
              "  <thead>\n",
              "    <tr>\n",
              "      <th class=\"blank level0\" >&nbsp;</th>\n",
              "      <th id=\"T_eed88_level0_col0\" class=\"col_heading level0 col0\" >Model</th>\n",
              "      <th id=\"T_eed88_level0_col1\" class=\"col_heading level0 col1\" >F1-score</th>\n",
              "      <th id=\"T_eed88_level0_col2\" class=\"col_heading level0 col2\" >Accuracy</th>\n",
              "      <th id=\"T_eed88_level0_col3\" class=\"col_heading level0 col3\" >Precision</th>\n",
              "      <th id=\"T_eed88_level0_col4\" class=\"col_heading level0 col4\" >Recall</th>\n",
              "    </tr>\n",
              "  </thead>\n",
              "  <tbody>\n",
              "    <tr>\n",
              "      <th id=\"T_eed88_level0_row0\" class=\"row_heading level0 row0\" >0</th>\n",
              "      <td id=\"T_eed88_row0_col0\" class=\"data row0 col0\" >Baseline</td>\n",
              "      <td id=\"T_eed88_row0_col1\" class=\"data row0 col1\" >0.610000</td>\n",
              "      <td id=\"T_eed88_row0_col2\" class=\"data row0 col2\" >0.621000</td>\n",
              "      <td id=\"T_eed88_row0_col3\" class=\"data row0 col3\" >0.630000</td>\n",
              "      <td id=\"T_eed88_row0_col4\" class=\"data row0 col4\" >0.613000</td>\n",
              "    </tr>\n",
              "    <tr>\n",
              "      <th id=\"T_eed88_level0_row1\" class=\"row_heading level0 row1\" >1</th>\n",
              "      <td id=\"T_eed88_row1_col0\" class=\"data row1 col0\" >LogisticRegression()</td>\n",
              "      <td id=\"T_eed88_row1_col1\" class=\"data row1 col1\" >0.609000</td>\n",
              "      <td id=\"T_eed88_row1_col2\" class=\"data row1 col2\" >0.638000</td>\n",
              "      <td id=\"T_eed88_row1_col3\" class=\"data row1 col3\" >0.644000</td>\n",
              "      <td id=\"T_eed88_row1_col4\" class=\"data row1 col4\" >0.619000</td>\n",
              "    </tr>\n",
              "    <tr>\n",
              "      <th id=\"T_eed88_level0_row2\" class=\"row_heading level0 row2\" >2</th>\n",
              "      <td id=\"T_eed88_row2_col0\" class=\"data row2 col0\" >RandomForestClassifier()</td>\n",
              "      <td id=\"T_eed88_row2_col1\" class=\"data row2 col1\" >0.792000</td>\n",
              "      <td id=\"T_eed88_row2_col2\" class=\"data row2 col2\" >0.793000</td>\n",
              "      <td id=\"T_eed88_row2_col3\" class=\"data row2 col3\" >0.798000</td>\n",
              "      <td id=\"T_eed88_row2_col4\" class=\"data row2 col4\" >0.790000</td>\n",
              "    </tr>\n",
              "    <tr>\n",
              "      <th id=\"T_eed88_level0_row3\" class=\"row_heading level0 row3\" >3</th>\n",
              "      <td id=\"T_eed88_row3_col0\" class=\"data row3 col0\" >CatBoostClassifier()</td>\n",
              "      <td id=\"T_eed88_row3_col1\" class=\"data row3 col1\" >0.751000</td>\n",
              "      <td id=\"T_eed88_row3_col2\" class=\"data row3 col2\" >0.759000</td>\n",
              "      <td id=\"T_eed88_row3_col3\" class=\"data row3 col3\" >0.763000</td>\n",
              "      <td id=\"T_eed88_row3_col4\" class=\"data row3 col4\" >0.755000</td>\n",
              "    </tr>\n",
              "  </tbody>\n",
              "</table>\n"
            ]
          },
          "metadata": {},
          "execution_count": 45
        }
      ]
    },
    {
      "cell_type": "markdown",
      "source": [
        "**ПРОМЕЖУТОЧНЫЙ ВЫВОД:**\n",
        "Лучшие метрики у модели RandomForestClassifier. Переходим к тестированию финальной модели."
      ],
      "metadata": {
        "id": "gckuPk-iR6l7"
      }
    },
    {
      "cell_type": "markdown",
      "source": [
        "## **6. Тестирование финальной модели**"
      ],
      "metadata": {
        "id": "Gj7QzyJiH24X"
      }
    },
    {
      "cell_type": "markdown",
      "source": [
        "#### **6.1. Тестирование**"
      ],
      "metadata": {
        "id": "w2Bnkf-HVU96"
      }
    },
    {
      "cell_type": "code",
      "source": [
        "get_metrics(X_test, y_test, model_rf)"
      ],
      "metadata": {
        "colab": {
          "base_uri": "https://localhost:8080/"
        },
        "id": "bMRxf9Mi81Mw",
        "outputId": "d6824b81-580e-4cf5-f63a-e042729065f2"
      },
      "execution_count": null,
      "outputs": [
        {
          "output_type": "stream",
          "name": "stdout",
          "text": [
            "\u001b[1mМетрики\u001b[0m\n",
            "F1-macro: 0.75\n",
            "Accuracy: 0.744\n",
            "Precision: 0.767\n",
            "Recall: 0.745\n"
          ]
        }
      ]
    },
    {
      "cell_type": "code",
      "source": [
        "classification = metrics.classification_report(y_test, model_rf.predict(X_test))\n",
        "print(\"Classification report for test:\" \"\\n\", classification)"
      ],
      "metadata": {
        "colab": {
          "base_uri": "https://localhost:8080/"
        },
        "id": "22Uz7ce3V0Qf",
        "outputId": "c03340c2-f3b2-4c6d-803d-21eff250a4aa"
      },
      "execution_count": null,
      "outputs": [
        {
          "output_type": "stream",
          "name": "stdout",
          "text": [
            "Classification report for test:\n",
            "               precision    recall  f1-score   support\n",
            "\n",
            "   high risk       0.96      0.87      0.91        55\n",
            "    low risk       0.68      0.84      0.75        81\n",
            "    mid risk       0.66      0.52      0.58        67\n",
            "\n",
            "    accuracy                           0.74       203\n",
            "   macro avg       0.77      0.74      0.75       203\n",
            "weighted avg       0.75      0.74      0.74       203\n",
            "\n"
          ]
        }
      ]
    },
    {
      "cell_type": "code",
      "source": [
        "# Расчитываем метрику ROC-AUC\n",
        "probabilities_test = model_rf.predict_proba(X_test)\n",
        "auc_roc = roc_auc_score(y_test, probabilities_test, average='macro', multi_class='ovr')\n",
        "print('AUC-ROC на тесте: AUC-ROC = {:.2f}'.format(auc_roc))"
      ],
      "metadata": {
        "colab": {
          "base_uri": "https://localhost:8080/"
        },
        "id": "nX7ZxCfkVuv7",
        "outputId": "5bc85a1e-0e4a-448a-981e-b6fb7270352e"
      },
      "execution_count": null,
      "outputs": [
        {
          "output_type": "stream",
          "name": "stdout",
          "text": [
            "AUC-ROC на тесте: AUC-ROC = 0.93\n"
          ]
        }
      ]
    },
    {
      "cell_type": "markdown",
      "source": [
        "**ПРОМЕЖУТОЧНЫЙ ВЫВОД:**\n",
        "\n",
        "Метрики, полученные на тесте:\n",
        "\n",
        "  - F1-macro: 0.750\n",
        "  - Accuracy: 0.744\n",
        "  - Precision: 0.767\n",
        "  - Recall: 0.745\n",
        "  - AUC-ROC: 0.93\n",
        "\n",
        "  Самую высокую точность предсказания модель выдает для класса `high risk`:\n",
        "   - precision = 0.96\n",
        "   - recall = 0.87\n",
        "   - f1 = 0.91\n",
        "\n",
        "  Хуже всего модель предсказывает класс `mid risk`:\n",
        "   - precision = 0.66\n",
        "   - recall = 0.52\n",
        "   - f1 = 0.58  "
      ],
      "metadata": {
        "id": "A35bOEmHV6iI"
      }
    },
    {
      "cell_type": "markdown",
      "source": [
        "#### **6.2. Матрица ошибок**\n",
        "\n",
        "Поскольку у нас не бинарная, а многокласовая классификация, для построения матрицы ошибок необходимо использовать метод multilabel_confusion_matrix: он выдает массив матриц ошибок для каждого класса по принципе \"один против всех\"."
      ],
      "metadata": {
        "id": "7g546EFPWxVK"
      }
    },
    {
      "cell_type": "code",
      "source": [
        "# Выводим список классов в таргете\n",
        "labels = list(df.RiskLevel.unique())\n",
        "labels"
      ],
      "metadata": {
        "colab": {
          "base_uri": "https://localhost:8080/"
        },
        "id": "1y5DJ_L-giTB",
        "outputId": "faca09bd-8399-485e-ee7c-124fe6619291"
      },
      "execution_count": null,
      "outputs": [
        {
          "output_type": "execute_result",
          "data": {
            "text/plain": [
              "['high risk', 'low risk', 'mid risk']"
            ]
          },
          "metadata": {},
          "execution_count": 49
        }
      ]
    },
    {
      "cell_type": "code",
      "source": [
        "# Считаем матрицы ошибок для каждого класса\n",
        "multilabel_confusion_matrix_for_test = metrics.multilabel_confusion_matrix(\n",
        "    y_test,\n",
        "    model_rf.predict(X_test),\n",
        "    labels=[\"high risk\", \"low risk\", \"mid risk\"])"
      ],
      "metadata": {
        "id": "lJW6qux56-lA"
      },
      "execution_count": null,
      "outputs": []
    },
    {
      "cell_type": "code",
      "source": [
        "multilabel_confusion_matrix_for_test"
      ],
      "metadata": {
        "colab": {
          "base_uri": "https://localhost:8080/"
        },
        "outputId": "681acf57-086e-49c2-b151-10efd7ce4c88",
        "id": "aurBP8GT6-lm"
      },
      "execution_count": null,
      "outputs": [
        {
          "output_type": "execute_result",
          "data": {
            "text/plain": [
              "array([[[146,   2],\n",
              "        [  7,  48]],\n",
              "\n",
              "       [[ 90,  32],\n",
              "        [ 13,  68]],\n",
              "\n",
              "       [[118,  18],\n",
              "        [ 32,  35]]])"
            ]
          },
          "metadata": {},
          "execution_count": 51
        }
      ]
    },
    {
      "cell_type": "code",
      "source": [
        "# Строим визуализацию для матриц\n",
        "fig, axs = plt.subplots(ncols=3, figsize=(18, 5))\n",
        "\n",
        "for confusion_matrix, label, ax in zip(multilabel_confusion_matrix_for_test, labels, axs):\n",
        "  disp = ConfusionMatrixDisplay(confusion_matrix)\n",
        "  disp.plot(include_values=True, cmap=\"viridis\", ax=ax)\n",
        "  ax.set_title(label)\n",
        "\n",
        "plt.suptitle('Матрицы ошибок типа \"Один против всех\"')\n",
        "plt.show()"
      ],
      "metadata": {
        "colab": {
          "base_uri": "https://localhost:8080/",
          "height": 433
        },
        "id": "0zLLiom83vhD",
        "outputId": "809fd7ff-c1cf-4fc9-8e16-86ed7d294913"
      },
      "execution_count": null,
      "outputs": [
        {
          "output_type": "display_data",
          "data": {
            "text/plain": [
              "<Figure size 1800x500 with 6 Axes>"
            ],
            "image/png": "[encoded data removed]"
          },
          "metadata": {}
        }
      ]
    },
    {
      "cell_type": "markdown",
      "source": [
        "**ПРОМЕЖУТОЧНЫЙ ВЫВОД:**\n",
        "\n",
        "Несмотря на относительно неплохие усредненные метрики, наша модель выдает довольно ощутимые доли ложно-отрицательных ответов:\n",
        "\n",
        "  - **Класс `high risk`:** В 7 случаях из 203(размер тестовой выборки), т.е. в 3,5% случаев, алгоритм пропускает высокий риск, предсказывая, что его нет.\n",
        "  - **Класс `low risk`:** В 6,4% случаев модель пропускает низкий риск осложнения беременности.\n",
        "  - **Класс `mid risk`:** Тут самая большая просадка: модель пропускает средний риск осложнения беременности в 15,8% случаев.\n"
      ],
      "metadata": {
        "id": "eAl_3wFpkain"
      }
    },
    {
      "cell_type": "markdown",
      "source": [
        "## **7. Итоговый вывод.**"
      ],
      "metadata": {
        "id": "GgRBxFcwlqH2"
      }
    },
    {
      "cell_type": "markdown",
      "source": [
        "## Результат работы.\n",
        "  - Значение максимальной целевой метрики `F1-macro` 0.750 было достигнуто с использованием модели `RandomForestClassifier()` с параметрами:\n",
        "    - 'bootstrap': False,\n",
        "    - 'criterion': 'gini',\n",
        "    - 'max_depth': 9,\n",
        "    - 'min_samples_leaf': 2,\n",
        "    - 'min_samples_split': 2,\n",
        "    - 'n_estimators': 150.\n",
        "  - на смасштабированных с помощью `StandardScaler` данных.\n",
        "\n",
        "  - Метрики, полученные на тестовой выборке:\n",
        "      - F1-macro: 0.750\n",
        "      - Accuracy: 0.744\n",
        "      - Precision: 0.767\n",
        "      - Recall: 0.745\n",
        "      - AUC-ROC: 0.93\n",
        "\n",
        "## Задача.\n",
        "  - Был разработан алгоритм, который предсказывает риск осложнения беременности. Алгоритм выдает один из трёх вариантов предсказания:\n",
        "      - `high risk`,\n",
        "      - `low risk`,\n",
        "      - `mid risk`\n",
        "\n",
        "## Особенности полученного решения.\n",
        "  - Самую высокую точность предсказания модель выдает для класса `high risk`:\n",
        "   - precision = 0.96\n",
        "   - recall = 0.87\n",
        "   - f1 = 0.91\n",
        "  - Хуже всего модель предсказывает класс `mid risk`:\n",
        "   - precision = 0.66\n",
        "   - recall = 0.52\n",
        "   - f1 = 0.58\n",
        "  - Для класса `low risk` показатели модели следующие:\n",
        "   - precision = 0.68\n",
        "   - recall = 0.84\n",
        "   - f1 = 0.75\n",
        "\n",
        "## Использовавшиеся в исследовании модели.\n",
        "`LogisticRegression()`/ `RandomForestClassifier()`/ `CatBoostClassifier()`.\n",
        "\n",
        "## Рекомендации / возможные направления улучшения точности прогноза.\n",
        "\n",
        "Несмотря на относительно неплохие усредненные метрики, наша модель выдает довольно ощутимые доли ложно-отрицательных ответов:\n",
        "\n",
        "  - **Класс `high risk`:** В 7 случаях из 203(размер тестовой выборки), т.е. в 3,5% случаев, алгоритм пропускает высокий риск, предсказывая, что его нет.\n",
        "  - **Класс `low risk`:** В 6,4% случаев модель пропускает низкий риск осложнения беременности.\n",
        "  - **Класс `mid risk`:** Тут самая большая просадка: модель пропускает средний риск осложнения беременности в 15,8% случаев.\n",
        "\n",
        "Учитывая предмет прогноза (риск осложнения беременности), основной вопрос - как минимизировать ложно-отрицательные объекты?\n",
        "\n",
        "Самый очевидный ответ - собрать больше данных. Можно попробовать размножить имеющиеся данные с помощью Upsampling.\n",
        "\n",
        "Поскольку изначально не стояла задача добиться определенного уровня качества, эксперименты по возможному улучшению оставлены на последующую доработку проекта.\n"
      ],
      "metadata": {
        "id": "Ybd4zagalqRe"
      }
    }
  ]
}